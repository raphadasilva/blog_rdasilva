{
  "cells": [
    {
      "cell_type": "markdown",
      "id": "fb2c63d4",
      "metadata": {
        "id": "fb2c63d4"
      },
      "source": [
        "**Quel est l'intérêt de coder une classe Python ?** J'ai eu beaucoup de mal à le trouver quand j'ai commencé à apprendre le langage, mais une [formation d'analyste de données à la Wild Code School](https://www.wildcodeschool.com/fr-FR/formations/formation-data-analyst) est depuis passée par là. En reformulant la question par *quand devrait-on coder une classe Python*, je répondrai tout simplement quand :\n",
        "\n",
        "* on doit **répéter des tâches rébarbatives** et **automatisables par des fonctions**\n",
        "* ces fonctions seraient plus efficaces **si on les appliquait à un objet informatique**. Et heureux hasard, Python est un langage multi-paradigme **compatible avec la Programmation orientée objet** (POO)\n",
        "\n",
        "Pour mes dernières piges, j'ai dû beaucoup recycler un script de scraping, notamment pour récupérer depuis Wikipedia les codes INSEE de différentes communes [comme celles composant l'Eurométropole de Strasbourg](https://fr.wikipedia.org/wiki/Eurom%C3%A9tropole_de_Strasbourg). Ces manip sont toujours réalisées avec les modules suivants :"
      ]
    },
    {
      "cell_type": "code",
      "execution_count": 1,
      "id": "8bd90259",
      "metadata": {
        "id": "8bd90259"
      },
      "outputs": [],
      "source": [
        "import re, requests\n",
        "import pandas as pd\n",
        "from bs4 import BeautifulSoup"
      ]
    },
    {
      "cell_type": "markdown",
      "id": "07d14431",
      "metadata": {
        "id": "07d14431"
      },
      "source": [
        "Et, il faut le dire, il y a une fonction intégrée dans pandas qui permet de transformer en DataFrame un tableau HTML de ce type :\n",
        "\n",
        "![table_html](images/table_html.jpg)"
      ]
    },
    {
      "cell_type": "code",
      "execution_count": 2,
      "id": "12b04f9a",
      "metadata": {
        "colab": {
          "base_uri": "https://localhost:8080/",
          "height": 206
        },
        "id": "12b04f9a",
        "outputId": "3f9a09c5-5393-4573-b000-7169fa08cf8e"
      },
      "outputs": [
        {
          "output_type": "execute_result",
          "data": {
            "text/plain": [
              "                  Nom  Code Insee                Gentilé  Superficie (km2)  \\\n",
              "0   Strasbourg(siège)       67482         Strasbourgeois              7826   \n",
              "1           Achenheim       67001           Achenheimois               603   \n",
              "2           Bischheim       67043           Bischheimois               441   \n",
              "3           Blaesheim       67049           Blaesheimois               996   \n",
              "4  Breuschwickersheim       67065  Breuschwickersheimois               506   \n",
              "\n",
              "  Population (dernière pop. légale) Densité (hab./km2)  \n",
              "0                    287 228 (2019)              3 670  \n",
              "1                      2 338 (2019)                388  \n",
              "2                     17 353 (2019)              3 935  \n",
              "3                      1 301 (2019)                131  \n",
              "4                      1 313 (2019)                259  "
            ],
            "text/html": [
              "\n",
              "  <div id=\"df-889ffeb9-7b3b-42aa-a8a4-edba9f5f9211\">\n",
              "    <div class=\"colab-df-container\">\n",
              "      <div>\n",
              "<style scoped>\n",
              "    .dataframe tbody tr th:only-of-type {\n",
              "        vertical-align: middle;\n",
              "    }\n",
              "\n",
              "    .dataframe tbody tr th {\n",
              "        vertical-align: top;\n",
              "    }\n",
              "\n",
              "    .dataframe thead th {\n",
              "        text-align: right;\n",
              "    }\n",
              "</style>\n",
              "<table border=\"1\" class=\"dataframe\">\n",
              "  <thead>\n",
              "    <tr style=\"text-align: right;\">\n",
              "      <th></th>\n",
              "      <th>Nom</th>\n",
              "      <th>Code Insee</th>\n",
              "      <th>Gentilé</th>\n",
              "      <th>Superficie (km2)</th>\n",
              "      <th>Population (dernière pop. légale)</th>\n",
              "      <th>Densité (hab./km2)</th>\n",
              "    </tr>\n",
              "  </thead>\n",
              "  <tbody>\n",
              "    <tr>\n",
              "      <th>0</th>\n",
              "      <td>Strasbourg(siège)</td>\n",
              "      <td>67482</td>\n",
              "      <td>Strasbourgeois</td>\n",
              "      <td>7826</td>\n",
              "      <td>287 228 (2019)</td>\n",
              "      <td>3 670</td>\n",
              "    </tr>\n",
              "    <tr>\n",
              "      <th>1</th>\n",
              "      <td>Achenheim</td>\n",
              "      <td>67001</td>\n",
              "      <td>Achenheimois</td>\n",
              "      <td>603</td>\n",
              "      <td>2 338 (2019)</td>\n",
              "      <td>388</td>\n",
              "    </tr>\n",
              "    <tr>\n",
              "      <th>2</th>\n",
              "      <td>Bischheim</td>\n",
              "      <td>67043</td>\n",
              "      <td>Bischheimois</td>\n",
              "      <td>441</td>\n",
              "      <td>17 353 (2019)</td>\n",
              "      <td>3 935</td>\n",
              "    </tr>\n",
              "    <tr>\n",
              "      <th>3</th>\n",
              "      <td>Blaesheim</td>\n",
              "      <td>67049</td>\n",
              "      <td>Blaesheimois</td>\n",
              "      <td>996</td>\n",
              "      <td>1 301 (2019)</td>\n",
              "      <td>131</td>\n",
              "    </tr>\n",
              "    <tr>\n",
              "      <th>4</th>\n",
              "      <td>Breuschwickersheim</td>\n",
              "      <td>67065</td>\n",
              "      <td>Breuschwickersheimois</td>\n",
              "      <td>506</td>\n",
              "      <td>1 313 (2019)</td>\n",
              "      <td>259</td>\n",
              "    </tr>\n",
              "  </tbody>\n",
              "</table>\n",
              "</div>\n",
              "      <button class=\"colab-df-convert\" onclick=\"convertToInteractive('df-889ffeb9-7b3b-42aa-a8a4-edba9f5f9211')\"\n",
              "              title=\"Convert this dataframe to an interactive table.\"\n",
              "              style=\"display:none;\">\n",
              "        \n",
              "  <svg xmlns=\"http://www.w3.org/2000/svg\" height=\"24px\"viewBox=\"0 0 24 24\"\n",
              "       width=\"24px\">\n",
              "    <path d=\"M0 0h24v24H0V0z\" fill=\"none\"/>\n",
              "    <path d=\"M18.56 5.44l.94 2.06.94-2.06 2.06-.94-2.06-.94-.94-2.06-.94 2.06-2.06.94zm-11 1L8.5 8.5l.94-2.06 2.06-.94-2.06-.94L8.5 2.5l-.94 2.06-2.06.94zm10 10l.94 2.06.94-2.06 2.06-.94-2.06-.94-.94-2.06-.94 2.06-2.06.94z\"/><path d=\"M17.41 7.96l-1.37-1.37c-.4-.4-.92-.59-1.43-.59-.52 0-1.04.2-1.43.59L10.3 9.45l-7.72 7.72c-.78.78-.78 2.05 0 2.83L4 21.41c.39.39.9.59 1.41.59.51 0 1.02-.2 1.41-.59l7.78-7.78 2.81-2.81c.8-.78.8-2.07 0-2.86zM5.41 20L4 18.59l7.72-7.72 1.47 1.35L5.41 20z\"/>\n",
              "  </svg>\n",
              "      </button>\n",
              "      \n",
              "  <style>\n",
              "    .colab-df-container {\n",
              "      display:flex;\n",
              "      flex-wrap:wrap;\n",
              "      gap: 12px;\n",
              "    }\n",
              "\n",
              "    .colab-df-convert {\n",
              "      background-color: #E8F0FE;\n",
              "      border: none;\n",
              "      border-radius: 50%;\n",
              "      cursor: pointer;\n",
              "      display: none;\n",
              "      fill: #1967D2;\n",
              "      height: 32px;\n",
              "      padding: 0 0 0 0;\n",
              "      width: 32px;\n",
              "    }\n",
              "\n",
              "    .colab-df-convert:hover {\n",
              "      background-color: #E2EBFA;\n",
              "      box-shadow: 0px 1px 2px rgba(60, 64, 67, 0.3), 0px 1px 3px 1px rgba(60, 64, 67, 0.15);\n",
              "      fill: #174EA6;\n",
              "    }\n",
              "\n",
              "    [theme=dark] .colab-df-convert {\n",
              "      background-color: #3B4455;\n",
              "      fill: #D2E3FC;\n",
              "    }\n",
              "\n",
              "    [theme=dark] .colab-df-convert:hover {\n",
              "      background-color: #434B5C;\n",
              "      box-shadow: 0px 1px 3px 1px rgba(0, 0, 0, 0.15);\n",
              "      filter: drop-shadow(0px 1px 2px rgba(0, 0, 0, 0.3));\n",
              "      fill: #FFFFFF;\n",
              "    }\n",
              "  </style>\n",
              "\n",
              "      <script>\n",
              "        const buttonEl =\n",
              "          document.querySelector('#df-889ffeb9-7b3b-42aa-a8a4-edba9f5f9211 button.colab-df-convert');\n",
              "        buttonEl.style.display =\n",
              "          google.colab.kernel.accessAllowed ? 'block' : 'none';\n",
              "\n",
              "        async function convertToInteractive(key) {\n",
              "          const element = document.querySelector('#df-889ffeb9-7b3b-42aa-a8a4-edba9f5f9211');\n",
              "          const dataTable =\n",
              "            await google.colab.kernel.invokeFunction('convertToInteractive',\n",
              "                                                     [key], {});\n",
              "          if (!dataTable) return;\n",
              "\n",
              "          const docLinkHtml = 'Like what you see? Visit the ' +\n",
              "            '<a target=\"_blank\" href=https://colab.research.google.com/notebooks/data_table.ipynb>data table notebook</a>'\n",
              "            + ' to learn more about interactive tables.';\n",
              "          element.innerHTML = '';\n",
              "          dataTable['output_type'] = 'display_data';\n",
              "          await google.colab.output.renderOutput(dataTable, element);\n",
              "          const docLink = document.createElement('div');\n",
              "          docLink.innerHTML = docLinkHtml;\n",
              "          element.appendChild(docLink);\n",
              "        }\n",
              "      </script>\n",
              "    </div>\n",
              "  </div>\n",
              "  "
            ]
          },
          "metadata": {},
          "execution_count": 2
        }
      ],
      "source": [
        "table_eurom=pd.read_html('https://fr.wikipedia.org/wiki/Eurom%C3%A9tropole_de_Strasbourg', match=\"Liste des communes de l’intercommunalité\",decimal=',')\n",
        "table_eurom[0].head()"
      ]
    },
    {
      "cell_type": "markdown",
      "id": "86669849",
      "metadata": {
        "id": "86669849"
      },
      "source": [
        "Cela semble pas mal à première vue, mais il y a quand même quelques scories à relever :\n",
        "\n",
        "* les nombres à décimales de la colonne \"Superficie (km2)\" ont été mal interprétés, puisque les virgules ont disparu (alors qu'on a bien précisé dans l'appel de fonction le séparateur \",\")\n",
        "* les colonnes de population et de densité ont des espaces, leurs cellules sont donc interprétées autrement que comme des chiffres. La preuve ?"
      ]
    },
    {
      "cell_type": "code",
      "execution_count": 3,
      "id": "bd444da9",
      "metadata": {
        "colab": {
          "base_uri": "https://localhost:8080/",
          "height": 165
        },
        "id": "bd444da9",
        "outputId": "3600695b-6354-4958-ebe8-5b6ae1957a21"
      },
      "outputs": [
        {
          "output_type": "error",
          "ename": "TypeError",
          "evalue": "ignored",
          "traceback": [
            "\u001b[0;31m---------------------------------------------------------------------------\u001b[0m",
            "\u001b[0;31mTypeError\u001b[0m                                 Traceback (most recent call last)",
            "\u001b[0;32m<ipython-input-3-96220ade4e0b>\u001b[0m in \u001b[0;36m<module>\u001b[0;34m()\u001b[0m\n\u001b[0;32m----> 1\u001b[0;31m \u001b[0mtable_eurom\u001b[0m\u001b[0;34m[\u001b[0m\u001b[0;34m\"Population (dernière pop. légale)\"\u001b[0m\u001b[0;34m]\u001b[0m\u001b[0;34m.\u001b[0m\u001b[0msum\u001b[0m\u001b[0;34m(\u001b[0m\u001b[0;34m)\u001b[0m\u001b[0;34m\u001b[0m\u001b[0;34m\u001b[0m\u001b[0m\n\u001b[0m",
            "\u001b[0;31mTypeError\u001b[0m: list indices must be integers or slices, not str"
          ]
        }
      ],
      "source": [
        "table_eurom[\"Population (dernière pop. légale)\"].sum()"
      ]
    },
    {
      "cell_type": "markdown",
      "id": "ad6c1f3d",
      "metadata": {
        "id": "ad6c1f3d"
      },
      "source": [
        "Cela pourrait se corriger directement dans la DataFrame, mais gardons en tête un des principaux avantages du code : **pouvoir personnaliser selon ses propres besoins**. Ici en convertissant ce qui peut l'être en nombres entiers ou à décimales.\n",
        "\n",
        "On va se servir de ce simple prétexte afin d'explorer l'intérêt des classes Python. Voilà le cahier des charges de celle que j'ai nommée Wikidaper :\n",
        "* **ne considérer que les pages issues de Wikipedia**, dont l'URL est conforme à celles copiées/collées depuis un navigateur\n",
        "* repérer **les tableaux HTML avec des données classables** (astuce : ils ont toujours une classe qui contient les termes \"wikitable\" et \"sortable\" et les ranger dans une liste\n",
        "* pour un tableau interrogé dans la liste (si elle n'est pas vide), créer une DataFrame pandas dans laquelle **les valeurs chiffrées sont bien converties en chiffres entiers ou à décimales**\n",
        "\n",
        "On essayera de ne pas trop forcer le côté *quick and dirty*. Même si ce caclepin n'a aucune autre prétention que de **constituer une porte d'entrée aux classes Python**, j'espère que le code sera assez soigné pour être réexploité par qui le souhaite.\n",
        "\n",
        "Si vous ne voulez pas vous embêter avec l'ensemble des explications, le code source de l'ensemble est [dans ce repo Github](https://github.com/raphadasilva/wikidaper)."
      ]
    },
    {
      "cell_type": "markdown",
      "id": "3b4fc999",
      "metadata": {
        "id": "3b4fc999"
      },
      "source": [
        "# Codage de la classe"
      ]
    },
    {
      "cell_type": "markdown",
      "id": "95bc3cc0",
      "metadata": {
        "id": "95bc3cc0"
      },
      "source": [
        "Voici une première déclaration de classe :"
      ]
    },
    {
      "cell_type": "code",
      "execution_count": 4,
      "id": "745f12ed",
      "metadata": {
        "id": "745f12ed"
      },
      "outputs": [],
      "source": [
        "class Wikidaper:\n",
        "    \"\"\"\n",
        "        Cette classe sert à aspirer les tableaux HTML qui contiennent des données classables dans une page Wikipedia.\n",
        "        Les données chiffrées sont converties en entiers ou nombres à décimales et les tableaux restitués en DataFrames.\n",
        "    \"\"\"\n",
        "    def __init__(self,url:str):\n",
        "        \"\"\"\n",
        "            On initialise avec une URL renseignée par l'utilisateur, de préférence copiée/collée depuis le navigateura\n",
        "        \"\"\"\n",
        "        self.url=url"
      ]
    },
    {
      "cell_type": "markdown",
      "id": "1558e4d7",
      "metadata": {
        "id": "1558e4d7"
      },
      "source": [
        "Remarquez **la présence du mot-clé self**, qui confirme qu'on modifie une instance de la classe. C'est l'équivalent exact du this en Javascript.\n",
        "\n",
        "Pour l'instant, on a juste créé une fonction d'initialisation de la classe Wikidaper. Elle peut dès lors être affectée à une variable, par exemple :"
      ]
    },
    {
      "cell_type": "code",
      "execution_count": 5,
      "id": "1a204461",
      "metadata": {
        "id": "1a204461"
      },
      "outputs": [],
      "source": [
        "test_wiki=Wikidaper(\"https://fr.wikipedia.org/wiki/Mulhouse\")"
      ]
    },
    {
      "cell_type": "markdown",
      "id": "1b716e1e",
      "metadata": {
        "id": "1b716e1e"
      },
      "source": [
        "Cette variable a son propre type :"
      ]
    },
    {
      "cell_type": "code",
      "execution_count": 6,
      "id": "bf87101d",
      "metadata": {
        "colab": {
          "base_uri": "https://localhost:8080/"
        },
        "id": "bf87101d",
        "outputId": "957dcc49-4a54-491e-a927-d7726b400433"
      },
      "outputs": [
        {
          "output_type": "execute_result",
          "data": {
            "text/plain": [
              "__main__.Wikidaper"
            ]
          },
          "metadata": {},
          "execution_count": 6
        }
      ],
      "source": [
        "type(test_wiki)"
      ]
    },
    {
      "cell_type": "markdown",
      "id": "f1cad686",
      "metadata": {
        "id": "f1cad686"
      },
      "source": [
        "Ainsi que des attributs, que l'on peut afficher sous la forme d'un dictionnaire :"
      ]
    },
    {
      "cell_type": "code",
      "execution_count": 7,
      "id": "c0150bdb",
      "metadata": {
        "colab": {
          "base_uri": "https://localhost:8080/"
        },
        "id": "c0150bdb",
        "outputId": "8eaddb35-5470-4035-e78e-077b74efc307"
      },
      "outputs": [
        {
          "output_type": "execute_result",
          "data": {
            "text/plain": [
              "{'url': 'https://fr.wikipedia.org/wiki/Mulhouse'}"
            ]
          },
          "metadata": {},
          "execution_count": 7
        }
      ],
      "source": [
        "test_wiki.__dict__"
      ]
    },
    {
      "cell_type": "markdown",
      "id": "1f31da40",
      "metadata": {
        "id": "1f31da40"
      },
      "source": [
        "**Une initialisation seule ne sert pas à grand chose**, et il faudra sans doute **améliorer Wikidaper avec quelques fonctions**. Par exemple si on réinitialise test_wiki comme suit :"
      ]
    },
    {
      "cell_type": "code",
      "execution_count": 8,
      "id": "3afbe108",
      "metadata": {
        "colab": {
          "base_uri": "https://localhost:8080/"
        },
        "id": "3afbe108",
        "outputId": "a1bd4de4-85a1-47f6-b50a-3843967c53a6"
      },
      "outputs": [
        {
          "output_type": "execute_result",
          "data": {
            "text/plain": [
              "{'url': 'https://www.rue89strasbourg.com'}"
            ]
          },
          "metadata": {},
          "execution_count": 8
        }
      ],
      "source": [
        "test_wiki=Wikidaper(\"https://www.rue89strasbourg.com\")\n",
        "test_wiki.__dict__"
      ]
    },
    {
      "cell_type": "markdown",
      "id": "a26ba403",
      "metadata": {
        "id": "a26ba403"
      },
      "source": [
        "Il n'y a aucun message d'erreur, alors qu'on a interrogé un site autre que Wikipedia. Comment régler ce souci ?\n",
        "\n",
        "On va utiliser une expression régulière, autrement dit **une chaîne de caractères résumant plusieurs chaînes de caractères**. Par exemple :\n",
        "\n",
        "^http\\[s]{,1}:[/]{2}[a-z]{2,3}\\.wikipedia\\.org/wiki/[A-Za-z0-9]+[_A-Za-z0-9]*\n",
        "\n",
        "Pas de panique, nous allons décomposer bloc par bloc :\n",
        "* ^http signifie que la chaîne de caractères **doit obligatoirement commencer par http**. C'est une URL, c'est la moindre des choses !\n",
        "* [s]{,1} stipule que **le caractère s doit apparaître une fois maximum**. Avec ce qui a été écrit précédemment, on râtisse déjà deux chaînes de caractères (http et https). Tout ce qui est différent passe à la trappe\n",
        "* :[/]{2} signifie que **le reste de la chaîne doit être composé d'un : suivi strictement de deux /**\n",
        "* [a-z]{2,3} stipule que l'on doit ensuite **n'avoir qu'entre deux et trois caractères alphabétiques minuscules**. Cela correspond aux noms de domaine linguistiques (fr, en ou cz, par exemple)\n",
        "* \\.wikipedia\\.org est un cas un peu particulier : le point étant un caractère spécial dans la syntaxe d'une expression régulière (il se réfère à n'importe quel caractère), on doit **le précéder d'un \\ pour bien préciser que c'est le seul caractère du point qui nous intéresse**. En prenant tout ce qui a été fait avant, on récupère déjà des URL telles que http://cz.wikipedia.org, https://fr.wikipedia.org, et **on exclut surtout toute chaîne ne correspondant pas à ce schéma**\n",
        "* /wiki/[A-Za-z0-9]+[_A-Za-z0-9]\\* signifie que la chaîne cible doit **inclure /wiki/ suivi par au moins une lettre alphabétique (majuscule ou minuscule) ou un chiffre**, qui doit apparaître une fois. **+ est un caractère spécial traduisible par \"une fois ou plus\"**, donc [A-Za-z0-9]+ peut aussi se dire \"tout caractère dans l'éventail décrit entre crochets doit apparaître au moins une fois. Le reste, de l'expression [_A-Za-z0-9]\\* peut se décrire comme \"tout caractère décrit dans l'éventail entre crochets (même chose qu'avant, avec juste un éventuel tiret de séparation) peut apparaître zéro ou plus fois\". *** est un autre caractère spécial** souvent rencontré dans les regex\n",
        "\n",
        "Cette regex n'est pas parfaite (certains caractères spéciaux comme le + n'ont pas été intégrés) et pourrait sans doute être plus succincte, mais elle a le mérite d'être assez compréhensible et **de considérer la large majorité des URL susceptibles d'être intéressantes**.\n",
        "\n",
        "**On n'insistera jamais assez sur l'intérêt des regex**, et le temps qu'elles peuvent faire gagner. Parmi les sites permettant de s'y frotter, je conseille vivement la section dédiée [sur HackerRank](https://www.hackerrank.com/).\n",
        "\n",
        "Ce détour par les regex passé, reprenons la classe Wikidaper :"
      ]
    },
    {
      "cell_type": "code",
      "execution_count": 9,
      "id": "907d59e9",
      "metadata": {
        "id": "907d59e9"
      },
      "outputs": [],
      "source": [
        "class Wikidaper:\n",
        "    \"\"\"\n",
        "        Cette classe sert à aspirer les tableaux HTML qui contiennent des données classables dans une page Wikipedia.\n",
        "        Les données chiffrées sont converties en entiers ou nombres à décimales et les tableaux restitués en DataFrames.\n",
        "    \"\"\"\n",
        "    def __init__(self,url:str):\n",
        "        \"\"\"\n",
        "            On initialise avec :\n",
        "                - une URL renseignée par l'utilisateur, de préférence copiée/collée depuis le navigateur \n",
        "                - un booléen de validation de cette dernière\n",
        "        \"\"\"\n",
        "        self.url=url\n",
        "        self.valid_url=self.valide_url()\n",
        "        \n",
        "    def valide_url(self):\n",
        "        \"\"\"\n",
        "            Cette fonction va vérifier si l'URL rentrée par l'utilisateur renvoie vers une page Wikipedia susceptible d'avoir des tableaux avec données classables.\n",
        "        \"\"\"\n",
        "        result=False\n",
        "        regex=\"^http[s]{,1}:[/]{2}[a-z]{2,}\\.wikipedia\\.org/wiki/[A-Za-z0-9]+[_A-Za-z0-9]*\"\n",
        "        if re.match(regex, self.url):\n",
        "            try:\n",
        "                requests.get(self.url)\n",
        "                result=True\n",
        "            except:\n",
        "                print(\"Cette page Wikipedia ne répond pas\")\n",
        "        else:\n",
        "            print(\"Attention, votre URL ne pointe pas vers une page Wikipedia valide\")\n",
        "        return result"
      ]
    },
    {
      "cell_type": "markdown",
      "id": "11cc20b9",
      "metadata": {
        "id": "11cc20b9"
      },
      "source": [
        "Dans la fonction valide_url, **on interroge toujours l'instance définie par l'utilisateur via le self**. Cette fonction sert à ajouter le booléen valid_url dans la fonction d'initialisation, **un attribut qui indique si l'URL rentrée par l'utilisateur est une page Wikipedia interrogeable**.\n",
        "\n",
        "On peut tester sa validité aussi bien avec une URL conforme..."
      ]
    },
    {
      "cell_type": "code",
      "execution_count": 10,
      "id": "cfe18a19",
      "metadata": {
        "colab": {
          "base_uri": "https://localhost:8080/"
        },
        "id": "cfe18a19",
        "outputId": "3e3925d8-a6bf-4ac8-a3f5-d791504119cc"
      },
      "outputs": [
        {
          "output_type": "execute_result",
          "data": {
            "text/plain": [
              "{'url': 'https://fr.wikipedia.org/wiki/Eurom%C3%A9tropole_de_Strasbourg',\n",
              " 'valid_url': True}"
            ]
          },
          "metadata": {},
          "execution_count": 10
        }
      ],
      "source": [
        "test_wiki=Wikidaper(\"https://fr.wikipedia.org/wiki/Eurom%C3%A9tropole_de_Strasbourg\")\n",
        "test_wiki.__dict__"
      ]
    },
    {
      "cell_type": "markdown",
      "id": "cebabd14",
      "metadata": {
        "id": "cebabd14"
      },
      "source": [
        "...qu'avec une URL non prévue par l'expression régulière de référence :"
      ]
    },
    {
      "cell_type": "code",
      "execution_count": 11,
      "id": "e39c0b71",
      "metadata": {
        "colab": {
          "base_uri": "https://localhost:8080/"
        },
        "id": "e39c0b71",
        "outputId": "6b573a50-35b7-4482-ae3c-48bcf8dc49e8"
      },
      "outputs": [
        {
          "output_type": "stream",
          "name": "stdout",
          "text": [
            "Attention, votre URL ne pointe pas vers une page Wikipedia valide\n"
          ]
        },
        {
          "output_type": "execute_result",
          "data": {
            "text/plain": [
              "{'url': 'https://www.rue89lyon.fr', 'valid_url': False}"
            ]
          },
          "metadata": {},
          "execution_count": 11
        }
      ],
      "source": [
        "test_wiki=Wikidaper(\"https://www.rue89lyon.fr\")\n",
        "test_wiki.__dict__"
      ]
    },
    {
      "cell_type": "markdown",
      "id": "0c3e29a6",
      "metadata": {
        "id": "0c3e29a6"
      },
      "source": [
        "Et à présent ? À présent, on va **récolter les tableaux classables dans une page Wikipedia valide au schéma**. Cela s'entérine encore avec une expression régulière, cette fois-ci :\n",
        "\n",
        "^wikitable.+sortable.*\n",
        "\n",
        "Qu'on pourrait traduire par \"doit commencer par wikitable, séparé d'au moins un caractère avant sortable, suivi par zéro ou plusieurs caractères\". \n",
        "\n",
        "Cela permettra de récupérer tous les tableaux correspondants après avoir aspiré le code source de la page grâce à BeautifulSoup. Voici la nouvelle mise à jour de la classe :"
      ]
    },
    {
      "cell_type": "code",
      "execution_count": 12,
      "id": "8ef71d9a",
      "metadata": {
        "id": "8ef71d9a"
      },
      "outputs": [],
      "source": [
        "class Wikidaper:\n",
        "    \"\"\"\n",
        "        Cette classe sert à aspirer les tableaux HTML qui contiennent des données classables dans une page Wikipedia.\n",
        "        Les données chiffrées sont converties en entiers ou nombres à décimales et les tableaux restitués en DataFrames.\n",
        "    \"\"\"\n",
        "    def __init__(self,url:str):\n",
        "        \"\"\"\n",
        "            On initialise avec :\n",
        "                - une URL renseignée par l'utilisateur, de préférence copiée/collée depuis le navigateur\n",
        "                - un booléen de validation de cette dernière\n",
        "                - une liste composée des tableaux classables trouvés sur la page\n",
        "        \"\"\"\n",
        "        self.url=url\n",
        "        self.valid_url=self.valide_url()\n",
        "        if self.valid_url:\n",
        "            self.l_tableaux=self.recolte_tableaux()\n",
        "        else:\n",
        "            self.l_tableaux=[]\n",
        "        \n",
        "    def valide_url(self):\n",
        "        \"\"\"\n",
        "            Cette fonction va vérifier si l'URL rentrée par l'utilisateur renvoie vers une page Wikipedia susceptible d'avoir des tableaux avec données classables.\n",
        "        \"\"\"\n",
        "        result=False\n",
        "        regex=r\"^http[s]{,1}:[/]{2}[a-z]{2,}\\.wikipedia\\.org/wiki/[A-Za-z0-9]+[_A-Za-z0-9]*\"\n",
        "        if re.match(regex, self.url):\n",
        "            try:\n",
        "                requests.get(self.url)\n",
        "                result=True\n",
        "            except:\n",
        "                print(\"Cette page Wikipedia ne répond pas\")\n",
        "        else:\n",
        "            print(\"Attention, votre URL ne pointe pas vers une page Wikipedia valide\")\n",
        "        return result\n",
        "    \n",
        "    def recolte_tableaux(self):\n",
        "        \"\"\"\n",
        "            Cette fonction retourne une liste des tableaux classables trouvables sur une page Wikipedia.\n",
        "            Elle reste vide s'il n'y a rien.\n",
        "        \"\"\"\n",
        "        l_tableaux=[]\n",
        "        url=requests.get(self.url)\n",
        "        soupe=BeautifulSoup(url.text, \"lxml\")\n",
        "        regex=re.compile(r'^wikitable.+sortable.*')\n",
        "        for t in soupe.find_all(\"table\", {\"class\" : regex}):\n",
        "            l_tableaux.append(t)\n",
        "        return l_tableaux"
      ]
    },
    {
      "cell_type": "markdown",
      "id": "24306a6e",
      "metadata": {
        "id": "24306a6e"
      },
      "source": [
        "On peut vérifier encore une fois la conformité de ce nouvel attribut l_tableaux, par exemple en affichant la longueur de la liste après interrogation d'une mauvaise page..."
      ]
    },
    {
      "cell_type": "code",
      "execution_count": 13,
      "id": "af428540",
      "metadata": {
        "colab": {
          "base_uri": "https://localhost:8080/"
        },
        "id": "af428540",
        "outputId": "4e9e358b-5def-4572-8e62-1357da4ebbd9"
      },
      "outputs": [
        {
          "output_type": "stream",
          "name": "stdout",
          "text": [
            "Attention, votre URL ne pointe pas vers une page Wikipedia valide\n"
          ]
        },
        {
          "output_type": "execute_result",
          "data": {
            "text/plain": [
              "0"
            ]
          },
          "metadata": {},
          "execution_count": 13
        }
      ],
      "source": [
        "test_wiki=Wikidaper(\"https://rue89bordeaux.com/\")\n",
        "len(test_wiki.l_tableaux)"
      ]
    },
    {
      "cell_type": "markdown",
      "id": "1dbe7ba3",
      "metadata": {
        "id": "1dbe7ba3"
      },
      "source": [
        "...ou bien avec une page Wikipedia enfermant un seul tableau classable..."
      ]
    },
    {
      "cell_type": "code",
      "execution_count": 14,
      "id": "8dac6f7d",
      "metadata": {
        "colab": {
          "base_uri": "https://localhost:8080/"
        },
        "id": "8dac6f7d",
        "outputId": "96b0b3e9-ceaa-4dd2-da3c-9f40eecf5816"
      },
      "outputs": [
        {
          "output_type": "execute_result",
          "data": {
            "text/plain": [
              "1"
            ]
          },
          "metadata": {},
          "execution_count": 14
        }
      ],
      "source": [
        "test_wiki=Wikidaper(\"https://fr.wikipedia.org/wiki/Eurom%C3%A9tropole_de_Strasbourg\")\n",
        "len(test_wiki.l_tableaux)"
      ]
    },
    {
      "cell_type": "markdown",
      "id": "0b9e0292",
      "metadata": {
        "id": "0b9e0292"
      },
      "source": [
        "...voire plus !"
      ]
    },
    {
      "cell_type": "code",
      "execution_count": 15,
      "id": "b26855ab",
      "metadata": {
        "colab": {
          "base_uri": "https://localhost:8080/"
        },
        "id": "b26855ab",
        "outputId": "30efe92c-8c04-4d11-e3cb-41995ccd079d"
      },
      "outputs": [
        {
          "output_type": "execute_result",
          "data": {
            "text/plain": [
              "2"
            ]
          },
          "metadata": {},
          "execution_count": 15
        }
      ],
      "source": [
        "test_wiki=Wikidaper(\"https://fr.wikipedia.org/wiki/Liste_des_communes_de_France_les_plus_peupl%C3%A9es\")\n",
        "len(test_wiki.l_tableaux)"
      ]
    },
    {
      "cell_type": "markdown",
      "id": "cbae8ebd",
      "metadata": {
        "id": "cbae8ebd"
      },
      "source": [
        "Le code source confirme que notre expression régulière a aussi bien récupéré une classe \"wikitable sortable mw-collapsible centre alternance\" que \"wikitable sortable\", **tout en excluant les tableaux de toute autre classe**.\n",
        "\n",
        "On peut aussi observer **une passerelle avec la DataFrame**, classe bien connue du module pandas : DF.columns affiche les colonnes d'une instance de DataFrame. \n",
        "\n",
        "Ce **columns est un attribut d'une instance de DataFrame** de la même façon que notre **l_tableaux est un attribut d'une instance de Wikidaper**.\n",
        "\n",
        "On va paramétrer une fonction de desciption de l_tableaux, qui va afficher le nombre de tableaux et leurs dimensions quand il existent.\n",
        "\n",
        "En utilisant BeautifulSoup, ça va être assez simple : \n",
        "* côté lignes, il suffira de **sélectionner l'ensemble d'un tableau** (balises <tr></tr>) **et de retrancher** un pour les colonnes\n",
        "* côté colonnes, ça va être un peu plus coton, notamment pour ce cas de figure :\n",
        "\n",
        "![col_span](images/col_span.jpg)\n",
        "\n",
        "Huit colonnes, mais deux lignes... C'est potentiellement casse-pied et il va falloir ruser, mais en gros :\n",
        "* les noms de colonnes se sélectionnent facilement grâce à la balise th (ou table header). On a juste **à sélectionner celles qui ne possèdent pas d'attribut colspan** (ie qui s'étalent sur plusieurs colonness)\n",
        "* les balises <tr> (acronyme de table row) qui n'ont pas d'enfant th peuvent être considérées\n",
        "* on dénombre l'une comme l'autre liste et on n'en parle plus\n",
        "    \n",
        "Du coup, nouvelle mise à jour :"
      ]
    },
    {
      "cell_type": "code",
      "execution_count": 16,
      "id": "de374a24",
      "metadata": {
        "id": "de374a24"
      },
      "outputs": [],
      "source": [
        "class Wikidaper:\n",
        "    \"\"\"\n",
        "        Cette classe sert à aspirer les tableaux HTML qui contiennent des données classables dans une page Wikipedia.\n",
        "        Les données chiffrées sont converties en entiers ou nombres à décimales et les tableaux restitués en DataFrames.\n",
        "    \"\"\"\n",
        "    def __init__(self,url:str):\n",
        "        \"\"\"\n",
        "            On initialise avec :\n",
        "                - une URL renseignée par l'utilisateur, de préférence copiée/collée depuis le navigateur\n",
        "                - un booléen de validation de cette dernière\n",
        "                - une liste composée des tableaux classables trouvés sur la page\n",
        "        \"\"\"\n",
        "        self.url=url\n",
        "        self.valid_url=self.valide_url()\n",
        "        if self.valid_url:\n",
        "            self.l_tableaux=self.recolte_tableaux()\n",
        "        else:\n",
        "            self.l_tableaux=[]\n",
        "        \n",
        "    def valide_url(self):\n",
        "        \"\"\"\n",
        "            Cette fonction va vérifier si l'URL rentrée par l'utilisateur renvoie vers une page Wikipedia susceptible d'avoir des tableaux avec données classables.\n",
        "        \"\"\"\n",
        "        result=False\n",
        "        regex=\"^http[s]{,1}:[/]{2}[a-z]{2,}\\.wikipedia\\.org/wiki/[A-Za-z0-9]+[_A-Za-z0-9]*\"\n",
        "        if re.match(regex, self.url):\n",
        "            try:\n",
        "                requests.get(self.url)\n",
        "                result=True\n",
        "            except:\n",
        "                print(\"Cette page Wikipedia ne répond pas\")\n",
        "        else:\n",
        "            print(\"Attention, votre URL ne pointe pas vers une page Wikipedia valide\")\n",
        "        return result\n",
        "    \n",
        "    def recolte_tableaux(self):\n",
        "        \"\"\"\n",
        "            Cette fonction retourne une liste des tableaux classables trouvables sur une page Wikipedia.\n",
        "            Elle reste vide s'il n'y a rien.\n",
        "        \"\"\"\n",
        "        l_tableaux=[]\n",
        "        url=requests.get(self.url)\n",
        "        soupe=BeautifulSoup(url.text, \"lxml\")\n",
        "        regex=re.compile('^wikitable.+sortable.*')\n",
        "        for t in soupe.find_all(\"table\", {\"class\" : regex}):\n",
        "            l_tableaux.append(t)\n",
        "        return l_tableaux\n",
        "    \n",
        "    def describe(self):\n",
        "        \"\"\"\n",
        "            Cette fonction affiche les dimensions de chaque tableau de données classables trouvés dans la page Wikipedia renseignée \n",
        "        \"\"\"\n",
        "        if len(self.l_tableaux)==0:\n",
        "            print(\"Il n'y a aucun tableau avec des données classables sur cette page\")\n",
        "        else:\n",
        "            print(len(self.l_tableaux),\" tableau(x) de données classables sur cette page, de dimension :\")\n",
        "            for t in self.l_tableaux:\n",
        "                n_col=len([c.text for c in t.find_all(\"th\") if not c.has_attr(\"colspan\")])\n",
        "                n_lignes=len([l for l in t.find_all(\"tr\") if not l.findChildren(\"th\" , recursive=False)])\n",
        "                print(n_col,\" colonnes x\",n_lignes,\"lignes\")"
      ]
    },
    {
      "cell_type": "markdown",
      "id": "16599086",
      "metadata": {
        "id": "16599086"
      },
      "source": [
        "Comme d'habitude, on teste sur une page sans tableau..."
      ]
    },
    {
      "cell_type": "code",
      "execution_count": 17,
      "id": "91b864bf",
      "metadata": {
        "colab": {
          "base_uri": "https://localhost:8080/"
        },
        "id": "91b864bf",
        "outputId": "1bcf7266-f356-4bfc-823e-48abc56380c3"
      },
      "outputs": [
        {
          "output_type": "stream",
          "name": "stdout",
          "text": [
            "Il n'y a aucun tableau avec des données classables sur cette page\n"
          ]
        }
      ],
      "source": [
        "test_wiki=Wikidaper(\"https://fr.wikipedia.org/wiki/Psychanalyse\")\n",
        "test_wiki.describe()"
      ]
    },
    {
      "cell_type": "markdown",
      "id": "62e87a3e",
      "metadata": {
        "id": "62e87a3e"
      },
      "source": [
        "...une avec un tableau..."
      ]
    },
    {
      "cell_type": "code",
      "execution_count": 18,
      "id": "04c5db6c",
      "metadata": {
        "colab": {
          "base_uri": "https://localhost:8080/"
        },
        "id": "04c5db6c",
        "outputId": "00f967a1-e73f-4758-b0c9-24752c5b2284"
      },
      "outputs": [
        {
          "output_type": "stream",
          "name": "stdout",
          "text": [
            "1  tableau(x) de données classables sur cette page, de dimension :\n",
            "6  colonnes x 33 lignes\n"
          ]
        }
      ],
      "source": [
        "test_wiki=Wikidaper(\"https://fr.wikipedia.org/wiki/Eurom%C3%A9tropole_de_Strasbourg\")\n",
        "test_wiki.describe()"
      ]
    },
    {
      "cell_type": "markdown",
      "id": "57d556e4",
      "metadata": {
        "id": "57d556e4"
      },
      "source": [
        "...voire plus :"
      ]
    },
    {
      "cell_type": "code",
      "execution_count": 19,
      "id": "eb7eca50",
      "metadata": {
        "colab": {
          "base_uri": "https://localhost:8080/"
        },
        "id": "eb7eca50",
        "outputId": "fd2e44fa-fb8b-4c60-e80e-06109864c944"
      },
      "outputs": [
        {
          "output_type": "stream",
          "name": "stdout",
          "text": [
            "2  tableau(x) de données classables sur cette page, de dimension :\n",
            "14  colonnes x 283 lignes\n",
            "16  colonnes x 25 lignes\n"
          ]
        }
      ],
      "source": [
        "test_wiki=Wikidaper(\"https://fr.wikipedia.org/wiki/Liste_des_communes_de_France_les_plus_peuplées\")\n",
        "test_wiki.describe()"
      ]
    },
    {
      "cell_type": "markdown",
      "id": "76ab352b",
      "metadata": {
        "id": "76ab352b"
      },
      "source": [
        "Les dimensions sont parfaitement conformes à ce qu'on observe sur les pages ! On va bientôt pouvoir attaquer le gros morceau, mais nous allons coder une fonction de conversion avant.\n",
        "\n",
        "Cette dernière servira **à transformer des données chiffrées au format anglo-saxon**, en prenant en unique attribut une chaîne de caractères. Elle sera notamment comparé à deux expressions régulières : \n",
        "* la première **au format décimal français** (série de chiffres séparés par une virgule)\n",
        "* la seconde se plaie **aux chiffres entiers français** (milliers séparés par des espaces)\n",
        "\n",
        "Et sinon, la chaîne demeure telle quelle. Précision importante : on ne convertit pas dans la fonction les valeurs changées, et tenter les conversions par colonne une fois les DataFrames créées."
      ]
    },
    {
      "cell_type": "code",
      "execution_count": 20,
      "id": "66d486a4",
      "metadata": {
        "id": "66d486a4"
      },
      "outputs": [],
      "source": [
        "def convertinoat(chaine:str):\n",
        "    \"\"\"\n",
        "        Cette fonction convertit, si c'est possible, une chaîne chiffrée à la française (espace entre les milliers, virgules pour séparer des décimales) à un format anglo-saxon.\n",
        "    \"\"\"\n",
        "    chaine=chaine.split(\" (\")[0]\n",
        "    chaine=chaine.split(\"[\")[0]\n",
        "    chaine=chaine.replace(\"\\n\",\"\")\n",
        "    chaine=chaine.replace(u'\\u200d', u'')\n",
        "    chaine=chaine.replace(u'\\xa0', u' ')\n",
        "    reg_float=r\"^[0-9]{1,3}( [0-9]{3})*,[0-9]+$\"\n",
        "    reg_int=r\"^[0-9]{1,3}( [0-9]{3})*$\"\n",
        "    if re.match(reg_float,chaine):\n",
        "        chaine=chaine.replace(\" \",\"\")\n",
        "        chaine=chaine.replace(\",\",\".\")\n",
        "    elif re.match(reg_int,chaine):\n",
        "        chaine=chaine.replace(\" \",\"\")\n",
        "    return chaine"
      ]
    },
    {
      "cell_type": "markdown",
      "id": "93d69337",
      "metadata": {
        "id": "93d69337"
      },
      "source": [
        "Quelques tests, juste pour l'hygiène :"
      ]
    },
    {
      "cell_type": "code",
      "execution_count": 21,
      "id": "33509a86",
      "metadata": {
        "colab": {
          "base_uri": "https://localhost:8080/"
        },
        "id": "33509a86",
        "outputId": "e6483414-611c-45dd-a6c7-4a7b9732495b"
      },
      "outputs": [
        {
          "output_type": "stream",
          "name": "stdout",
          "text": [
            "5256.65897\n",
            "5 256,65897%\n",
            "98210356879\n",
            "9812 210 356 879\n"
          ]
        }
      ],
      "source": [
        "print(convertinoat(\"5 256,65897\"))\n",
        "print(convertinoat(\"5 256,65897%\"))\n",
        "print(convertinoat(\"98 210 356 879\"))\n",
        "print(convertinoat(\"9812 210 356 879\"))"
      ]
    },
    {
      "cell_type": "markdown",
      "id": "ff48dbb6",
      "metadata": {
        "id": "ff48dbb6"
      },
      "source": [
        "Et maintenant le gros morceau : constituer une DataFrame à partir d'un des tableaux. Trois grandes étapes :\n",
        "\n",
        "* **vérifier que l'indice** saisi par l'utilisateur est bien inclus dans les bornes de la liste l_tableaux\n",
        "* **créer une liste de dictionnaires**. Dès le départ, on récupére les noms de colonnes dans une liste puis, à chaque ligne du tableau hors colonnes, on compte son nombre de cellules. S'il est égal au nombre de colonnes tout roule, on peut faire une compréhension de dictionnaires à partir de la liste de colonnes : la première cellule de la ligne considérée correspondra bien à la première colonne, etc... **Si ce nombre de cellules diffère, on un colspan qui traîne** et on va faire radical et doublonner autant de fois que nécessaire dans une liste dédiée. Le plus important est que la taille des lignes soit bien conforme à celle de la liste de colonnes. Une fois la liste de dictionnaire complète, on la transforme en DataFrame grâce [à la fonction pandas DataFrame.from_dict](https://pandas.pydata.org/docs/reference/api/pandas.DataFrame.from_dict.html)\n",
        "* et ensuite, on parcourt les colonnes. Si la colonne n'apparaît pas dans une liste d'exceptions remplie à l'appel de la fonction, on essaye de la convertir en nombres entiers. Si ça plante à cause d'une ValueError, on essaye de la convertir en nombres à décimales. Si ça plante encore à cause d'une ValueError, on passe à la suite. Cela se fait très facilement [avec des try/except](https://docs.python.org/3/tutorial/errors.html)"
      ]
    },
    {
      "cell_type": "code",
      "execution_count": 22,
      "id": "e4e537e0",
      "metadata": {
        "id": "e4e537e0"
      },
      "outputs": [],
      "source": [
        "class Wikidaper:\n",
        "    \"\"\"\n",
        "        Cette classe sert à aspirer les tableaux HTML qui contiennent des données classables dans une page Wikipedia.\n",
        "        Les données chiffrées sont converties en entiers ou nombres à décimales et les tableaux restitués en DataFrames.\n",
        "    \"\"\"\n",
        "    def __init__(self,url:str):\n",
        "        \"\"\"\n",
        "            On initialise avec :\n",
        "                - une URL renseignée par l'utilisateur, de préférence copiée/collée depuis le navigateur\n",
        "                - un booléen de validation de cette dernière\n",
        "                - une liste composée des tableaux classables trouvés sur la page\n",
        "        \"\"\"\n",
        "        self.url=url\n",
        "        self.valid_url=self.valide_url()\n",
        "        if self.valid_url:\n",
        "            self.l_tableaux=self.recolte_tableaux()\n",
        "        else:\n",
        "            self.l_tableaux=[]\n",
        "        \n",
        "    def valide_url(self):\n",
        "        \"\"\"\n",
        "            Cette fonction va vérifier si l'URL rentrée par l'utilisateur renvoie vers une page Wikipedia susceptible d'avoir des tableaux avec données classables.\n",
        "        \"\"\"\n",
        "        result=False\n",
        "        regex=\"^http[s]{,1}:[/]{2}[a-z]{2,}\\.wikipedia\\.org/wiki/[A-Za-z0-9]+[_A-Za-z0-9]*\"\n",
        "        if re.match(regex, self.url):\n",
        "            try:\n",
        "                requests.get(self.url)\n",
        "                result=True\n",
        "            except:\n",
        "                print(\"Cette page Wikipedia ne répond pas\")\n",
        "        else:\n",
        "            print(\"Attention, votre URL ne pointe pas vers une page Wikipedia valide\")\n",
        "        return result\n",
        "    \n",
        "    def recolte_tableaux(self):\n",
        "        \"\"\"\n",
        "            Cette fonction retourne une liste des tableaux classables trouvables sur une page Wikipedia.\n",
        "            Elle reste vide s'il n'y a rien.\n",
        "        \"\"\"\n",
        "        l_tableaux=[]\n",
        "        url=requests.get(self.url)\n",
        "        soupe=BeautifulSoup(url.text, \"lxml\")\n",
        "        regex=re.compile('^wikitable.+sortable.*')\n",
        "        for t in soupe.find_all(\"table\", {\"class\" : regex}):\n",
        "            l_tableaux.append(t)\n",
        "        return l_tableaux\n",
        "    \n",
        "    def describe(self):\n",
        "        \"\"\"\n",
        "            Cette fonction affiche les dimensions de chaque tableau de données classables trouvés dans la page Wikipedia renseignée \n",
        "        \"\"\"\n",
        "        if len(self.l_tableaux)==0:\n",
        "            print(\"Il n'y a aucun tableau avec des données classables sur cette page\")\n",
        "        else:\n",
        "            print(len(self.l_tableaux),\" tableau(x) de données classables sur cette page, de dimension :\")\n",
        "            for t in self.l_tableaux:\n",
        "                n_col=len([c.text for c in t.find_all(\"th\") if not c.has_attr(\"colspan\")])\n",
        "                n_lignes=len([l for l in t.find_all(\"tr\") if not l.findChildren(\"th\" , recursive=False)])\n",
        "                print(n_col,\" colonnes x\",n_lignes,\"lignes\")\n",
        "    \n",
        "    def df_table(self,indice:int,l_except:list):\n",
        "        \"\"\"\n",
        "            Cette fonction renvoie une DataFrame à partir d'un tableau listé dans l_tableaux.\n",
        "        \"\"\"\n",
        "        indice=abs(indice)\n",
        "        if len(self.l_tableaux)==0:\n",
        "            print(\"Il n'y a aucun tableau avec des données classables sur cette page\")\n",
        "        elif indice>(len(self.l_tableaux)-1):\n",
        "            print(\"Attention, vous devez interroger un indice compris entre 0 et \",(len(self.l_tableaux)-1))\n",
        "        else:\n",
        "            print(\"Transformation de la table \",indice,\"en cours\")\n",
        "            l_dico=[]\n",
        "            l_col=[c.text.split(\"[\")[0].replace(\"\\n\",\"\") for c in self.l_tableaux[indice].find_all(\"th\") if not c.has_attr(\"colspan\")]\n",
        "            print(\"Colonnes trouvées :\",l_col)\n",
        "            for l in self.l_tableaux[indice].find_all(\"tr\"): \n",
        "                if not l.findChildren(\"th\" , recursive=False):\n",
        "                    if len(l.find_all(\"td\"))==len(l_col):\n",
        "                        l_dico.append({l_col[i]:convertinoat(l.find_all(\"td\")[i].get_text()) for i in range(len(l_col))})\n",
        "                    else:\n",
        "                        l_rattrapage=[]\n",
        "                        for e in l.find_all(\"td\"):\n",
        "                            if e.has_attr(\"colspan\"):\n",
        "                                doublon=convertinoat(e.get_text())\n",
        "                                iterations=int(e.get(\"colspan\"))\n",
        "                                for i in range(iterations):\n",
        "                                    l_rattrapage.append(doublon)\n",
        "                            else:\n",
        "                                l_rattrapage.append(convertinoat(e.get_text()))\n",
        "                        l_dico.append({l_col[i]:l_rattrapage[i] for i in range(len(l_col))})\n",
        "            DF=pd.DataFrame.from_dict(l_dico)\n",
        "            for c in DF.columns:\n",
        "                if c not in l_except:\n",
        "                    try:\n",
        "                        DF[c]=DF[c].astype(int)\n",
        "                    except ValueError:\n",
        "                        try:\n",
        "                            DF[c]=DF[c].astype(float)\n",
        "                        except ValueError:\n",
        "                            pass\n",
        "            return DF"
      ]
    },
    {
      "cell_type": "markdown",
      "id": "9dea021d",
      "metadata": {
        "id": "9dea021d"
      },
      "source": [
        "On va attaquer un gros morceau avec la première liste des communes de France les plus peuplées, en mettant bien dans une exception la colonne \"CodeInsee\" pour qu'elle ne soit pas convertie en chiffres :"
      ]
    },
    {
      "cell_type": "code",
      "execution_count": 23,
      "id": "b37f7d78",
      "metadata": {
        "colab": {
          "base_uri": "https://localhost:8080/",
          "height": 241
        },
        "id": "b37f7d78",
        "outputId": "964759b6-5638-4077-ce73-98c31057372a"
      },
      "outputs": [
        {
          "output_type": "stream",
          "name": "stdout",
          "text": [
            "Transformation de la table  0 en cours\n",
            "Colonnes trouvées : ['Rang2022', 'CodeInsee', 'Commune', 'Département', 'Statut', 'Région', '2019', '2013', '2008', '1999', '1990', '1982', '1975', '1968']\n"
          ]
        },
        {
          "output_type": "execute_result",
          "data": {
            "text/plain": [
              "    Rang2022 CodeInsee              Commune        Département Statut  \\\n",
              "278      275     78146               Chatou           Yvelines      —   \n",
              "279      276     62510               Liévin      Pas-de-Calais      —   \n",
              "280      277     93063          Romainville  Seine-Saint-Denis      —   \n",
              "281      278     92060  Le Plessis-Robinson     Hauts-de-Seine      —   \n",
              "282      279     92064          Saint-Cloud     Hauts-de-Seine      —   \n",
              "\n",
              "              Région   2019   2013   2008   1999   1990   1982   1975   1968  \n",
              "278    Île-de-France  30153  30809  29940  28588  27977  28437  26550  22619  \n",
              "279  Hauts-de-France  30112  31517  32026  33427  33623  33096  33070  35853  \n",
              "280    Île-de-France  30087  25657  25621  23779  23563  25363  26260  24091  \n",
              "281    Île-de-France  30061  28500  24675  21618  21289  21271  22231  22590  \n",
              "282    Île-de-France  30012  29109  29772  28157  28597  28561  28139  28158  "
            ],
            "text/html": [
              "\n",
              "  <div id=\"df-3ff4dc69-e66b-4919-8bca-7c16b5033b21\">\n",
              "    <div class=\"colab-df-container\">\n",
              "      <div>\n",
              "<style scoped>\n",
              "    .dataframe tbody tr th:only-of-type {\n",
              "        vertical-align: middle;\n",
              "    }\n",
              "\n",
              "    .dataframe tbody tr th {\n",
              "        vertical-align: top;\n",
              "    }\n",
              "\n",
              "    .dataframe thead th {\n",
              "        text-align: right;\n",
              "    }\n",
              "</style>\n",
              "<table border=\"1\" class=\"dataframe\">\n",
              "  <thead>\n",
              "    <tr style=\"text-align: right;\">\n",
              "      <th></th>\n",
              "      <th>Rang2022</th>\n",
              "      <th>CodeInsee</th>\n",
              "      <th>Commune</th>\n",
              "      <th>Département</th>\n",
              "      <th>Statut</th>\n",
              "      <th>Région</th>\n",
              "      <th>2019</th>\n",
              "      <th>2013</th>\n",
              "      <th>2008</th>\n",
              "      <th>1999</th>\n",
              "      <th>1990</th>\n",
              "      <th>1982</th>\n",
              "      <th>1975</th>\n",
              "      <th>1968</th>\n",
              "    </tr>\n",
              "  </thead>\n",
              "  <tbody>\n",
              "    <tr>\n",
              "      <th>278</th>\n",
              "      <td>275</td>\n",
              "      <td>78146</td>\n",
              "      <td>Chatou</td>\n",
              "      <td>Yvelines</td>\n",
              "      <td>—</td>\n",
              "      <td>Île-de-France</td>\n",
              "      <td>30153</td>\n",
              "      <td>30809</td>\n",
              "      <td>29940</td>\n",
              "      <td>28588</td>\n",
              "      <td>27977</td>\n",
              "      <td>28437</td>\n",
              "      <td>26550</td>\n",
              "      <td>22619</td>\n",
              "    </tr>\n",
              "    <tr>\n",
              "      <th>279</th>\n",
              "      <td>276</td>\n",
              "      <td>62510</td>\n",
              "      <td>Liévin</td>\n",
              "      <td>Pas-de-Calais</td>\n",
              "      <td>—</td>\n",
              "      <td>Hauts-de-France</td>\n",
              "      <td>30112</td>\n",
              "      <td>31517</td>\n",
              "      <td>32026</td>\n",
              "      <td>33427</td>\n",
              "      <td>33623</td>\n",
              "      <td>33096</td>\n",
              "      <td>33070</td>\n",
              "      <td>35853</td>\n",
              "    </tr>\n",
              "    <tr>\n",
              "      <th>280</th>\n",
              "      <td>277</td>\n",
              "      <td>93063</td>\n",
              "      <td>Romainville</td>\n",
              "      <td>Seine-Saint-Denis</td>\n",
              "      <td>—</td>\n",
              "      <td>Île-de-France</td>\n",
              "      <td>30087</td>\n",
              "      <td>25657</td>\n",
              "      <td>25621</td>\n",
              "      <td>23779</td>\n",
              "      <td>23563</td>\n",
              "      <td>25363</td>\n",
              "      <td>26260</td>\n",
              "      <td>24091</td>\n",
              "    </tr>\n",
              "    <tr>\n",
              "      <th>281</th>\n",
              "      <td>278</td>\n",
              "      <td>92060</td>\n",
              "      <td>Le Plessis-Robinson</td>\n",
              "      <td>Hauts-de-Seine</td>\n",
              "      <td>—</td>\n",
              "      <td>Île-de-France</td>\n",
              "      <td>30061</td>\n",
              "      <td>28500</td>\n",
              "      <td>24675</td>\n",
              "      <td>21618</td>\n",
              "      <td>21289</td>\n",
              "      <td>21271</td>\n",
              "      <td>22231</td>\n",
              "      <td>22590</td>\n",
              "    </tr>\n",
              "    <tr>\n",
              "      <th>282</th>\n",
              "      <td>279</td>\n",
              "      <td>92064</td>\n",
              "      <td>Saint-Cloud</td>\n",
              "      <td>Hauts-de-Seine</td>\n",
              "      <td>—</td>\n",
              "      <td>Île-de-France</td>\n",
              "      <td>30012</td>\n",
              "      <td>29109</td>\n",
              "      <td>29772</td>\n",
              "      <td>28157</td>\n",
              "      <td>28597</td>\n",
              "      <td>28561</td>\n",
              "      <td>28139</td>\n",
              "      <td>28158</td>\n",
              "    </tr>\n",
              "  </tbody>\n",
              "</table>\n",
              "</div>\n",
              "      <button class=\"colab-df-convert\" onclick=\"convertToInteractive('df-3ff4dc69-e66b-4919-8bca-7c16b5033b21')\"\n",
              "              title=\"Convert this dataframe to an interactive table.\"\n",
              "              style=\"display:none;\">\n",
              "        \n",
              "  <svg xmlns=\"http://www.w3.org/2000/svg\" height=\"24px\"viewBox=\"0 0 24 24\"\n",
              "       width=\"24px\">\n",
              "    <path d=\"M0 0h24v24H0V0z\" fill=\"none\"/>\n",
              "    <path d=\"M18.56 5.44l.94 2.06.94-2.06 2.06-.94-2.06-.94-.94-2.06-.94 2.06-2.06.94zm-11 1L8.5 8.5l.94-2.06 2.06-.94-2.06-.94L8.5 2.5l-.94 2.06-2.06.94zm10 10l.94 2.06.94-2.06 2.06-.94-2.06-.94-.94-2.06-.94 2.06-2.06.94z\"/><path d=\"M17.41 7.96l-1.37-1.37c-.4-.4-.92-.59-1.43-.59-.52 0-1.04.2-1.43.59L10.3 9.45l-7.72 7.72c-.78.78-.78 2.05 0 2.83L4 21.41c.39.39.9.59 1.41.59.51 0 1.02-.2 1.41-.59l7.78-7.78 2.81-2.81c.8-.78.8-2.07 0-2.86zM5.41 20L4 18.59l7.72-7.72 1.47 1.35L5.41 20z\"/>\n",
              "  </svg>\n",
              "      </button>\n",
              "      \n",
              "  <style>\n",
              "    .colab-df-container {\n",
              "      display:flex;\n",
              "      flex-wrap:wrap;\n",
              "      gap: 12px;\n",
              "    }\n",
              "\n",
              "    .colab-df-convert {\n",
              "      background-color: #E8F0FE;\n",
              "      border: none;\n",
              "      border-radius: 50%;\n",
              "      cursor: pointer;\n",
              "      display: none;\n",
              "      fill: #1967D2;\n",
              "      height: 32px;\n",
              "      padding: 0 0 0 0;\n",
              "      width: 32px;\n",
              "    }\n",
              "\n",
              "    .colab-df-convert:hover {\n",
              "      background-color: #E2EBFA;\n",
              "      box-shadow: 0px 1px 2px rgba(60, 64, 67, 0.3), 0px 1px 3px 1px rgba(60, 64, 67, 0.15);\n",
              "      fill: #174EA6;\n",
              "    }\n",
              "\n",
              "    [theme=dark] .colab-df-convert {\n",
              "      background-color: #3B4455;\n",
              "      fill: #D2E3FC;\n",
              "    }\n",
              "\n",
              "    [theme=dark] .colab-df-convert:hover {\n",
              "      background-color: #434B5C;\n",
              "      box-shadow: 0px 1px 3px 1px rgba(0, 0, 0, 0.15);\n",
              "      filter: drop-shadow(0px 1px 2px rgba(0, 0, 0, 0.3));\n",
              "      fill: #FFFFFF;\n",
              "    }\n",
              "  </style>\n",
              "\n",
              "      <script>\n",
              "        const buttonEl =\n",
              "          document.querySelector('#df-3ff4dc69-e66b-4919-8bca-7c16b5033b21 button.colab-df-convert');\n",
              "        buttonEl.style.display =\n",
              "          google.colab.kernel.accessAllowed ? 'block' : 'none';\n",
              "\n",
              "        async function convertToInteractive(key) {\n",
              "          const element = document.querySelector('#df-3ff4dc69-e66b-4919-8bca-7c16b5033b21');\n",
              "          const dataTable =\n",
              "            await google.colab.kernel.invokeFunction('convertToInteractive',\n",
              "                                                     [key], {});\n",
              "          if (!dataTable) return;\n",
              "\n",
              "          const docLinkHtml = 'Like what you see? Visit the ' +\n",
              "            '<a target=\"_blank\" href=https://colab.research.google.com/notebooks/data_table.ipynb>data table notebook</a>'\n",
              "            + ' to learn more about interactive tables.';\n",
              "          element.innerHTML = '';\n",
              "          dataTable['output_type'] = 'display_data';\n",
              "          await google.colab.output.renderOutput(dataTable, element);\n",
              "          const docLink = document.createElement('div');\n",
              "          docLink.innerHTML = docLinkHtml;\n",
              "          element.appendChild(docLink);\n",
              "        }\n",
              "      </script>\n",
              "    </div>\n",
              "  </div>\n",
              "  "
            ]
          },
          "metadata": {},
          "execution_count": 23
        }
      ],
      "source": [
        "test_wiki=Wikidaper(\"https://fr.wikipedia.org/wiki/Liste_des_communes_de_France_les_plus_peupl%C3%A9es\")\n",
        "DF=test_wiki.df_table(0,[\"CodeInsee\"])\n",
        "DF.tail()"
      ]
    },
    {
      "cell_type": "markdown",
      "id": "aa164ec5",
      "metadata": {
        "id": "aa164ec5"
      },
      "source": [
        "Ca semble pas mal, mais lançons-nous dans quelques vérifs. Par exemple en extrayant le code INSEE de Nice :"
      ]
    },
    {
      "cell_type": "code",
      "execution_count": 24,
      "id": "bcf8c5ba",
      "metadata": {
        "colab": {
          "base_uri": "https://localhost:8080/"
        },
        "id": "bcf8c5ba",
        "outputId": "55dfc476-2cb2-48c7-9425-70a5a0148dca"
      },
      "outputs": [
        {
          "output_type": "execute_result",
          "data": {
            "text/plain": [
              "4    06088\n",
              "Name: CodeInsee, dtype: object"
            ]
          },
          "metadata": {},
          "execution_count": 24
        }
      ],
      "source": [
        "DF[DF[\"Commune\"]==\"Nice\"][\"CodeInsee\"]"
      ]
    },
    {
      "cell_type": "markdown",
      "id": "af2c6ad8",
      "metadata": {
        "id": "af2c6ad8"
      },
      "source": [
        "Il commence bien par un \"0\", ce qui prouve que **l'exception précisée en appel de fonction a été prise en compte**. Essayons maintenant de soustraire le nombre d'habitants de Paris en 1990 à celui de 2019 :"
      ]
    },
    {
      "cell_type": "code",
      "execution_count": 25,
      "id": "40b05fba",
      "metadata": {
        "colab": {
          "base_uri": "https://localhost:8080/"
        },
        "id": "40b05fba",
        "outputId": "842da870-ecac-4c30-af32-3c30951c2912"
      },
      "outputs": [
        {
          "output_type": "execute_result",
          "data": {
            "text/plain": [
              "13000"
            ]
          },
          "metadata": {},
          "execution_count": 25
        }
      ],
      "source": [
        "(DF[DF[\"Commune\"]==\"Paris\"][\"2019\"].iloc[0])-(DF[DF[\"Commune\"]==\"Paris\"][\"1990\"].iloc[0])"
      ]
    },
    {
      "cell_type": "markdown",
      "id": "2c95e522",
      "metadata": {
        "id": "2c95e522"
      },
      "source": [
        "Seulement 13 000 habitants de plus en 29 ans. Il y a quelques exceptions, par exemple **les colonnes 1975 et 1968 sont encore formatées en chaînes de caractères** en raison de recensements manquants pour les villes de Mayotte.\n",
        "\n",
        "Toujours est-il que, grâce à la classe Wikidaper, on peut arriver à un résultat tangible pour l'Eurométropole de Strasbourg :"
      ]
    },
    {
      "cell_type": "code",
      "execution_count": 26,
      "id": "df505b8d",
      "metadata": {
        "colab": {
          "base_uri": "https://localhost:8080/"
        },
        "id": "df505b8d",
        "outputId": "158f05f6-971d-4904-b93b-27bff7109855"
      },
      "outputs": [
        {
          "output_type": "stream",
          "name": "stdout",
          "text": [
            "Transformation de la table  0 en cours\n",
            "Colonnes trouvées : ['Nom', 'Code  Insee', 'Gentilé', 'Superficie  (km2)', 'Population  (dernière pop. légale)', 'Densité  (hab./km2)']\n"
          ]
        },
        {
          "output_type": "execute_result",
          "data": {
            "text/plain": [
              "505272"
            ]
          },
          "metadata": {},
          "execution_count": 26
        }
      ],
      "source": [
        "test_wiki=Wikidaper(\"https://fr.wikipedia.org/wiki/Eurom%C3%A9tropole_de_Strasbourg\")\n",
        "DF=test_wiki.df_table(0,[\"Code  Insee\"])\n",
        "DF[\"Population  (dernière pop. légale)\"].sum()"
      ]
    },
    {
      "cell_type": "markdown",
      "id": "198dbffe",
      "metadata": {
        "id": "198dbffe"
      },
      "source": [
        "505 272 habitants dans l'Eurométropole, contrairement à l'erreur renvoyée en début de calepin. On peut aussi calculer la médiane de superficie :"
      ]
    },
    {
      "cell_type": "code",
      "execution_count": 27,
      "id": "58fa3dd5",
      "metadata": {
        "colab": {
          "base_uri": "https://localhost:8080/"
        },
        "id": "58fa3dd5",
        "outputId": "3764ab82-f4a5-4272-f95e-221b3ff48ab7"
      },
      "outputs": [
        {
          "output_type": "execute_result",
          "data": {
            "text/plain": [
              "6.25"
            ]
          },
          "metadata": {},
          "execution_count": 27
        }
      ],
      "source": [
        "DF[\"Superficie  (km2)\"].median()"
      ]
    },
    {
      "cell_type": "markdown",
      "id": "10ed72fd",
      "metadata": {
        "id": "10ed72fd"
      },
      "source": [
        " De beaux chiffres à décimales, et concernant la liste de codes INSEE, une nouvelle variable fera l'affaire :"
      ]
    },
    {
      "cell_type": "code",
      "execution_count": 28,
      "id": "44666f40",
      "metadata": {
        "colab": {
          "base_uri": "https://localhost:8080/"
        },
        "id": "44666f40",
        "outputId": "8d87cb25-d444-4e70-9207-ed34fdca9252"
      },
      "outputs": [
        {
          "output_type": "execute_result",
          "data": {
            "text/plain": [
              "['67482',\n",
              " '67001',\n",
              " '67043',\n",
              " '67049',\n",
              " '67065',\n",
              " '67118',\n",
              " '67119',\n",
              " '67124',\n",
              " '67131',\n",
              " '67137']"
            ]
          },
          "metadata": {},
          "execution_count": 28
        }
      ],
      "source": [
        "insee_eurom=list(DF[\"Code  Insee\"])\n",
        "insee_eurom[:10]"
      ]
    },
    {
      "cell_type": "markdown",
      "id": "cf1dfd16",
      "metadata": {
        "id": "cf1dfd16"
      },
      "source": [
        "# Derniers fignolages"
      ]
    },
    {
      "cell_type": "markdown",
      "id": "bd8cd5a2",
      "metadata": {
        "id": "bd8cd5a2"
      },
      "source": [
        "Un cas intéressant mais qui ne concerne pas les données classables dans Wikipedia est le suivant :\n",
        "\n",
        "![pivot_wiki](images/wiki_pivot.jpg)\n",
        "\n",
        "Des tableaux d'une ligne et n colonnes qui s'empilent, que l'on pourrait très bien transformer afin d'obtenir une matrice de deux colonnes et n lignes. Comment faire ? D'abord, partons de ces deux lignes :"
      ]
    },
    {
      "cell_type": "code",
      "execution_count": 29,
      "id": "a131b099",
      "metadata": {
        "scrolled": true,
        "colab": {
          "base_uri": "https://localhost:8080/",
          "height": 81
        },
        "id": "a131b099",
        "outputId": "925014ab-985d-4b5b-d75c-efc0cac3ab81"
      },
      "outputs": [
        {
          "output_type": "execute_result",
          "data": {
            "text/plain": [
              "        1982       1990            1999            2008            2013  \\\n",
              "0  2 176 243  2 152 423  2 125 246[314]  2 211 297[315]  2 229 621[316]   \n",
              "\n",
              "             2019  - -.1 -.2  \n",
              "0  2 165 423[317]  -   -   -  "
            ],
            "text/html": [
              "\n",
              "  <div id=\"df-8a1b6b41-e47b-4940-9f9e-74fc90807ce7\">\n",
              "    <div class=\"colab-df-container\">\n",
              "      <div>\n",
              "<style scoped>\n",
              "    .dataframe tbody tr th:only-of-type {\n",
              "        vertical-align: middle;\n",
              "    }\n",
              "\n",
              "    .dataframe tbody tr th {\n",
              "        vertical-align: top;\n",
              "    }\n",
              "\n",
              "    .dataframe thead th {\n",
              "        text-align: right;\n",
              "    }\n",
              "</style>\n",
              "<table border=\"1\" class=\"dataframe\">\n",
              "  <thead>\n",
              "    <tr style=\"text-align: right;\">\n",
              "      <th></th>\n",
              "      <th>1982</th>\n",
              "      <th>1990</th>\n",
              "      <th>1999</th>\n",
              "      <th>2008</th>\n",
              "      <th>2013</th>\n",
              "      <th>2019</th>\n",
              "      <th>-</th>\n",
              "      <th>-.1</th>\n",
              "      <th>-.2</th>\n",
              "    </tr>\n",
              "  </thead>\n",
              "  <tbody>\n",
              "    <tr>\n",
              "      <th>0</th>\n",
              "      <td>2 176 243</td>\n",
              "      <td>2 152 423</td>\n",
              "      <td>2 125 246[314]</td>\n",
              "      <td>2 211 297[315]</td>\n",
              "      <td>2 229 621[316]</td>\n",
              "      <td>2 165 423[317]</td>\n",
              "      <td>-</td>\n",
              "      <td>-</td>\n",
              "      <td>-</td>\n",
              "    </tr>\n",
              "  </tbody>\n",
              "</table>\n",
              "</div>\n",
              "      <button class=\"colab-df-convert\" onclick=\"convertToInteractive('df-8a1b6b41-e47b-4940-9f9e-74fc90807ce7')\"\n",
              "              title=\"Convert this dataframe to an interactive table.\"\n",
              "              style=\"display:none;\">\n",
              "        \n",
              "  <svg xmlns=\"http://www.w3.org/2000/svg\" height=\"24px\"viewBox=\"0 0 24 24\"\n",
              "       width=\"24px\">\n",
              "    <path d=\"M0 0h24v24H0V0z\" fill=\"none\"/>\n",
              "    <path d=\"M18.56 5.44l.94 2.06.94-2.06 2.06-.94-2.06-.94-.94-2.06-.94 2.06-2.06.94zm-11 1L8.5 8.5l.94-2.06 2.06-.94-2.06-.94L8.5 2.5l-.94 2.06-2.06.94zm10 10l.94 2.06.94-2.06 2.06-.94-2.06-.94-.94-2.06-.94 2.06-2.06.94z\"/><path d=\"M17.41 7.96l-1.37-1.37c-.4-.4-.92-.59-1.43-.59-.52 0-1.04.2-1.43.59L10.3 9.45l-7.72 7.72c-.78.78-.78 2.05 0 2.83L4 21.41c.39.39.9.59 1.41.59.51 0 1.02-.2 1.41-.59l7.78-7.78 2.81-2.81c.8-.78.8-2.07 0-2.86zM5.41 20L4 18.59l7.72-7.72 1.47 1.35L5.41 20z\"/>\n",
              "  </svg>\n",
              "      </button>\n",
              "      \n",
              "  <style>\n",
              "    .colab-df-container {\n",
              "      display:flex;\n",
              "      flex-wrap:wrap;\n",
              "      gap: 12px;\n",
              "    }\n",
              "\n",
              "    .colab-df-convert {\n",
              "      background-color: #E8F0FE;\n",
              "      border: none;\n",
              "      border-radius: 50%;\n",
              "      cursor: pointer;\n",
              "      display: none;\n",
              "      fill: #1967D2;\n",
              "      height: 32px;\n",
              "      padding: 0 0 0 0;\n",
              "      width: 32px;\n",
              "    }\n",
              "\n",
              "    .colab-df-convert:hover {\n",
              "      background-color: #E2EBFA;\n",
              "      box-shadow: 0px 1px 2px rgba(60, 64, 67, 0.3), 0px 1px 3px 1px rgba(60, 64, 67, 0.15);\n",
              "      fill: #174EA6;\n",
              "    }\n",
              "\n",
              "    [theme=dark] .colab-df-convert {\n",
              "      background-color: #3B4455;\n",
              "      fill: #D2E3FC;\n",
              "    }\n",
              "\n",
              "    [theme=dark] .colab-df-convert:hover {\n",
              "      background-color: #434B5C;\n",
              "      box-shadow: 0px 1px 3px 1px rgba(0, 0, 0, 0.15);\n",
              "      filter: drop-shadow(0px 1px 2px rgba(0, 0, 0, 0.3));\n",
              "      fill: #FFFFFF;\n",
              "    }\n",
              "  </style>\n",
              "\n",
              "      <script>\n",
              "        const buttonEl =\n",
              "          document.querySelector('#df-8a1b6b41-e47b-4940-9f9e-74fc90807ce7 button.colab-df-convert');\n",
              "        buttonEl.style.display =\n",
              "          google.colab.kernel.accessAllowed ? 'block' : 'none';\n",
              "\n",
              "        async function convertToInteractive(key) {\n",
              "          const element = document.querySelector('#df-8a1b6b41-e47b-4940-9f9e-74fc90807ce7');\n",
              "          const dataTable =\n",
              "            await google.colab.kernel.invokeFunction('convertToInteractive',\n",
              "                                                     [key], {});\n",
              "          if (!dataTable) return;\n",
              "\n",
              "          const docLinkHtml = 'Like what you see? Visit the ' +\n",
              "            '<a target=\"_blank\" href=https://colab.research.google.com/notebooks/data_table.ipynb>data table notebook</a>'\n",
              "            + ' to learn more about interactive tables.';\n",
              "          element.innerHTML = '';\n",
              "          dataTable['output_type'] = 'display_data';\n",
              "          await google.colab.output.renderOutput(dataTable, element);\n",
              "          const docLink = document.createElement('div');\n",
              "          docLink.innerHTML = docLinkHtml;\n",
              "          element.appendChild(docLink);\n",
              "        }\n",
              "      </script>\n",
              "    </div>\n",
              "  </div>\n",
              "  "
            ]
          },
          "metadata": {},
          "execution_count": 29
        }
      ],
      "source": [
        "paris_demo=pd.read_html('https://fr.wikipedia.org/wiki/Paris', match=\"Évolution de la population de Paris depuis l'Antiquité\")\n",
        "paris_demo[5].head()"
      ]
    },
    {
      "cell_type": "markdown",
      "id": "c06d8f2f",
      "metadata": {
        "id": "c06d8f2f"
      },
      "source": [
        "read_html a renvoyé une liste dont chaque indice pointe vers une DataFrame. Il y en a six dans cette liste, comme les six lignes de dates relevées sur Wikipedia.\n",
        "\n",
        "On peut utiliser cette liste en :\n",
        "* prenant en référence **la DataFrame située à l'indice 0**\n",
        "* si la liste contient plus d'éléments, on ajoute **chaque colonne de la nouvelle DataFrame dans la première\n",
        "\n",
        "**On obtient alors une seule DataFrame de n colonnes**, et on peut boucler sur ces n colonnes pour créer une liste de dictionnaires à deux items, dont les clés sont renseignées par l'utilisateur. Codage, et démo :"
      ]
    },
    {
      "cell_type": "code",
      "execution_count": 30,
      "id": "0b554634",
      "metadata": {
        "id": "0b554634"
      },
      "outputs": [],
      "source": [
        "def pivot_wiki(url:str,n_tableau:str,l_colonnes:list):\n",
        "    \"\"\"\n",
        "        Cette fonction fait pivoter à la verticale des tableaux Wikipedia à une ligne et x colonnes pour la transformer en DataFrame de deux colonnes sur x lignes.\n",
        "    \"\"\"\n",
        "    l_finale=[]\n",
        "    l_DF=pd.read_html(url, match=n_tableau)\n",
        "    DF=l_DF[0].copy()\n",
        "    if len(l_DF)>1:\n",
        "        for i in range(1,len(l_DF)):\n",
        "            DF_trans=l_DF[i]\n",
        "            for c in DF_trans.columns:\n",
        "                DF[c]=DF_trans[c]\n",
        "    for f_c in DF:\n",
        "        l_finale.append({l_colonnes[0]:f_c,l_colonnes[1]:convertinoat(DF[f_c].iloc[0])})\n",
        "    DF_finale=pd.DataFrame.from_dict(l_finale)\n",
        "    return DF_finale"
      ]
    },
    {
      "cell_type": "markdown",
      "id": "80d4c914",
      "metadata": {
        "id": "80d4c914"
      },
      "source": [
        "Note : on peut appeler la fonction convertinoat dans ces conditions car elle a été codées hors de la classe Wikidaper.\n",
        "\n",
        "À présent, on va tester ce que l'on vient de coder, en espérant avoir à l'arrivée une DataFrame à deux colonnes (annee et nb) :"
      ]
    },
    {
      "cell_type": "code",
      "execution_count": 31,
      "id": "6deb9757",
      "metadata": {
        "colab": {
          "base_uri": "https://localhost:8080/",
          "height": 206
        },
        "id": "6deb9757",
        "outputId": "879f7dbb-a605-4cb8-92c9-9d80e5ee41e2"
      },
      "outputs": [
        {
          "output_type": "execute_result",
          "data": {
            "text/plain": [
              "   annee       nb\n",
              "49  2013  2229621\n",
              "50  2019  2165423\n",
              "51     -        -\n",
              "52   -.1        -\n",
              "53   -.2        -"
            ],
            "text/html": [
              "\n",
              "  <div id=\"df-b82a2312-0cc4-4681-b98f-eb5c4d08f57b\">\n",
              "    <div class=\"colab-df-container\">\n",
              "      <div>\n",
              "<style scoped>\n",
              "    .dataframe tbody tr th:only-of-type {\n",
              "        vertical-align: middle;\n",
              "    }\n",
              "\n",
              "    .dataframe tbody tr th {\n",
              "        vertical-align: top;\n",
              "    }\n",
              "\n",
              "    .dataframe thead th {\n",
              "        text-align: right;\n",
              "    }\n",
              "</style>\n",
              "<table border=\"1\" class=\"dataframe\">\n",
              "  <thead>\n",
              "    <tr style=\"text-align: right;\">\n",
              "      <th></th>\n",
              "      <th>annee</th>\n",
              "      <th>nb</th>\n",
              "    </tr>\n",
              "  </thead>\n",
              "  <tbody>\n",
              "    <tr>\n",
              "      <th>49</th>\n",
              "      <td>2013</td>\n",
              "      <td>2229621</td>\n",
              "    </tr>\n",
              "    <tr>\n",
              "      <th>50</th>\n",
              "      <td>2019</td>\n",
              "      <td>2165423</td>\n",
              "    </tr>\n",
              "    <tr>\n",
              "      <th>51</th>\n",
              "      <td>-</td>\n",
              "      <td>-</td>\n",
              "    </tr>\n",
              "    <tr>\n",
              "      <th>52</th>\n",
              "      <td>-.1</td>\n",
              "      <td>-</td>\n",
              "    </tr>\n",
              "    <tr>\n",
              "      <th>53</th>\n",
              "      <td>-.2</td>\n",
              "      <td>-</td>\n",
              "    </tr>\n",
              "  </tbody>\n",
              "</table>\n",
              "</div>\n",
              "      <button class=\"colab-df-convert\" onclick=\"convertToInteractive('df-b82a2312-0cc4-4681-b98f-eb5c4d08f57b')\"\n",
              "              title=\"Convert this dataframe to an interactive table.\"\n",
              "              style=\"display:none;\">\n",
              "        \n",
              "  <svg xmlns=\"http://www.w3.org/2000/svg\" height=\"24px\"viewBox=\"0 0 24 24\"\n",
              "       width=\"24px\">\n",
              "    <path d=\"M0 0h24v24H0V0z\" fill=\"none\"/>\n",
              "    <path d=\"M18.56 5.44l.94 2.06.94-2.06 2.06-.94-2.06-.94-.94-2.06-.94 2.06-2.06.94zm-11 1L8.5 8.5l.94-2.06 2.06-.94-2.06-.94L8.5 2.5l-.94 2.06-2.06.94zm10 10l.94 2.06.94-2.06 2.06-.94-2.06-.94-.94-2.06-.94 2.06-2.06.94z\"/><path d=\"M17.41 7.96l-1.37-1.37c-.4-.4-.92-.59-1.43-.59-.52 0-1.04.2-1.43.59L10.3 9.45l-7.72 7.72c-.78.78-.78 2.05 0 2.83L4 21.41c.39.39.9.59 1.41.59.51 0 1.02-.2 1.41-.59l7.78-7.78 2.81-2.81c.8-.78.8-2.07 0-2.86zM5.41 20L4 18.59l7.72-7.72 1.47 1.35L5.41 20z\"/>\n",
              "  </svg>\n",
              "      </button>\n",
              "      \n",
              "  <style>\n",
              "    .colab-df-container {\n",
              "      display:flex;\n",
              "      flex-wrap:wrap;\n",
              "      gap: 12px;\n",
              "    }\n",
              "\n",
              "    .colab-df-convert {\n",
              "      background-color: #E8F0FE;\n",
              "      border: none;\n",
              "      border-radius: 50%;\n",
              "      cursor: pointer;\n",
              "      display: none;\n",
              "      fill: #1967D2;\n",
              "      height: 32px;\n",
              "      padding: 0 0 0 0;\n",
              "      width: 32px;\n",
              "    }\n",
              "\n",
              "    .colab-df-convert:hover {\n",
              "      background-color: #E2EBFA;\n",
              "      box-shadow: 0px 1px 2px rgba(60, 64, 67, 0.3), 0px 1px 3px 1px rgba(60, 64, 67, 0.15);\n",
              "      fill: #174EA6;\n",
              "    }\n",
              "\n",
              "    [theme=dark] .colab-df-convert {\n",
              "      background-color: #3B4455;\n",
              "      fill: #D2E3FC;\n",
              "    }\n",
              "\n",
              "    [theme=dark] .colab-df-convert:hover {\n",
              "      background-color: #434B5C;\n",
              "      box-shadow: 0px 1px 3px 1px rgba(0, 0, 0, 0.15);\n",
              "      filter: drop-shadow(0px 1px 2px rgba(0, 0, 0, 0.3));\n",
              "      fill: #FFFFFF;\n",
              "    }\n",
              "  </style>\n",
              "\n",
              "      <script>\n",
              "        const buttonEl =\n",
              "          document.querySelector('#df-b82a2312-0cc4-4681-b98f-eb5c4d08f57b button.colab-df-convert');\n",
              "        buttonEl.style.display =\n",
              "          google.colab.kernel.accessAllowed ? 'block' : 'none';\n",
              "\n",
              "        async function convertToInteractive(key) {\n",
              "          const element = document.querySelector('#df-b82a2312-0cc4-4681-b98f-eb5c4d08f57b');\n",
              "          const dataTable =\n",
              "            await google.colab.kernel.invokeFunction('convertToInteractive',\n",
              "                                                     [key], {});\n",
              "          if (!dataTable) return;\n",
              "\n",
              "          const docLinkHtml = 'Like what you see? Visit the ' +\n",
              "            '<a target=\"_blank\" href=https://colab.research.google.com/notebooks/data_table.ipynb>data table notebook</a>'\n",
              "            + ' to learn more about interactive tables.';\n",
              "          element.innerHTML = '';\n",
              "          dataTable['output_type'] = 'display_data';\n",
              "          await google.colab.output.renderOutput(dataTable, element);\n",
              "          const docLink = document.createElement('div');\n",
              "          docLink.innerHTML = docLinkHtml;\n",
              "          element.appendChild(docLink);\n",
              "        }\n",
              "      </script>\n",
              "    </div>\n",
              "  </div>\n",
              "  "
            ]
          },
          "metadata": {},
          "execution_count": 31
        }
      ],
      "source": [
        "demo_paris=pivot_wiki(\"https://fr.wikipedia.org/wiki/Paris\",\"Évolution de la population de Paris depuis l'Antiquité\",[\"annee\",\"nb\"])\n",
        "demo_paris.tail()"
      ]
    },
    {
      "cell_type": "markdown",
      "id": "e59f6aa3",
      "metadata": {
        "id": "e59f6aa3"
      },
      "source": [
        "Les trois dernières valeurs sont bloquantes pour la conversion en nombres entiers, on va donc les virer, convertir la colonne \"nb\", et vérifier si ça a marché en affichant l'année à laquelle la ville de Paris a été la plus peuplée :"
      ]
    },
    {
      "cell_type": "code",
      "execution_count": 32,
      "id": "d2eadf9e",
      "metadata": {
        "colab": {
          "base_uri": "https://localhost:8080/"
        },
        "id": "d2eadf9e",
        "outputId": "eca705b1-bb69-4dd1-ee4e-7865b3111bf1"
      },
      "outputs": [
        {
          "output_type": "stream",
          "name": "stderr",
          "text": [
            "/usr/local/lib/python3.7/dist-packages/ipykernel_launcher.py:2: SettingWithCopyWarning: \n",
            "A value is trying to be set on a copy of a slice from a DataFrame.\n",
            "Try using .loc[row_indexer,col_indexer] = value instead\n",
            "\n",
            "See the caveats in the documentation: https://pandas.pydata.org/pandas-docs/stable/user_guide/indexing.html#returning-a-view-versus-a-copy\n",
            "  \n"
          ]
        },
        {
          "output_type": "execute_result",
          "data": {
            "text/plain": [
              "36    1921\n",
              "Name: annee, dtype: object"
            ]
          },
          "metadata": {},
          "execution_count": 32
        }
      ],
      "source": [
        "demo_paris=demo_paris.iloc[:50]\n",
        "demo_paris[\"nb\"]=demo_paris[\"nb\"].astype(int)\n",
        "demo_paris[demo_paris[\"nb\"]==max(demo_paris[\"nb\"])][\"annee\"]"
      ]
    },
    {
      "cell_type": "markdown",
      "id": "29590598",
      "metadata": {
        "id": "29590598"
      },
      "source": [
        "On n'a donc jamais fait plus qu'en 1921, ce qui est bien conforme aux différents tableaux vus sur la page Wikipedia."
      ]
    },
    {
      "cell_type": "markdown",
      "id": "510617bf",
      "metadata": {
        "id": "510617bf"
      },
      "source": [
        "# Import du module maison"
      ]
    },
    {
      "cell_type": "markdown",
      "source": [
        "Une fois [le code bien hébergé sur Github](https://github.com/raphadasilva/wikidaper), on peut le réutiliser facilement via la commande magique !git\n",
        "\n",
        "NB : j'ai un peu triché en important ce calepin local sur Google Colab, mais il doit sûrerment y avoir une bidouille pour faire tourner correctement tout ça."
      ],
      "metadata": {
        "id": "AIUHEhU6d_wX"
      },
      "id": "AIUHEhU6d_wX"
    },
    {
      "cell_type": "code",
      "execution_count": 33,
      "id": "a9fd5704",
      "metadata": {
        "colab": {
          "base_uri": "https://localhost:8080/"
        },
        "id": "a9fd5704",
        "outputId": "15c3b71d-aad7-4ac1-f28e-1828ba47ae2d"
      },
      "outputs": [
        {
          "output_type": "stream",
          "name": "stdout",
          "text": [
            "Cloning into 'wikidaper'...\n",
            "remote: Enumerating objects: 12, done.\u001b[K\n",
            "remote: Counting objects: 100% (12/12), done.\u001b[K\n",
            "remote: Compressing objects: 100% (11/11), done.\u001b[K\n",
            "remote: Total 12 (delta 1), reused 0 (delta 0), pack-reused 0\u001b[K\n",
            "Unpacking objects: 100% (12/12), done.\n"
          ]
        }
      ],
      "source": [
        "!git clone https://github.com/raphadasilva/wikidaper.git"
      ]
    },
    {
      "cell_type": "markdown",
      "source": [
        "Une fois le repo cloné, on peut **appeler le fichier wikidaper comme un module à part entière**, avec son acronyme qui va bien et ses fonction qui tournent comme souhaitées :"
      ],
      "metadata": {
        "id": "AvQVC1x6eVRp"
      },
      "id": "AvQVC1x6eVRp"
    },
    {
      "cell_type": "code",
      "execution_count": 34,
      "id": "fc2a6bdf",
      "metadata": {
        "colab": {
          "base_uri": "https://localhost:8080/"
        },
        "id": "fc2a6bdf",
        "outputId": "c637f775-a675-41ad-c7c3-85a9db4f8e3f"
      },
      "outputs": [
        {
          "output_type": "stream",
          "name": "stdout",
          "text": [
            "Transformation de la table  0 en cours\n",
            "Colonnes trouvées : ['Nom', 'Code  Insee', 'Gentilé', 'Superficie  (km2)', 'Population  (dernière pop. légale)', 'Densité  (hab./km2)']\n"
          ]
        },
        {
          "output_type": "execute_result",
          "data": {
            "text/plain": [
              "505272"
            ]
          },
          "metadata": {},
          "execution_count": 34
        }
      ],
      "source": [
        "import wikidaper.wikidaper as wd\n",
        "test_wiki=wd.Wikidaper(\"https://fr.wikipedia.org/wiki/Eurom%C3%A9tropole_de_Strasbourg\")\n",
        "DF=test_wiki.df_table(0,[\"Code  Insee\"])\n",
        "DF[\"Population  (dernière pop. légale)\"].sum()"
      ]
    }
  ],
  "metadata": {
    "kernelspec": {
      "display_name": "Python 3 (ipykernel)",
      "language": "python",
      "name": "python3"
    },
    "language_info": {
      "codemirror_mode": {
        "name": "ipython",
        "version": 3
      },
      "file_extension": ".py",
      "mimetype": "text/x-python",
      "name": "python",
      "nbconvert_exporter": "python",
      "pygments_lexer": "ipython3",
      "version": "3.10.2"
    },
    "varInspector": {
      "cols": {
        "lenName": 16,
        "lenType": 16,
        "lenVar": 40
      },
      "kernels_config": {
        "python": {
          "delete_cmd_postfix": "",
          "delete_cmd_prefix": "del ",
          "library": "var_list.py",
          "varRefreshCmd": "print(var_dic_list())"
        },
        "r": {
          "delete_cmd_postfix": ") ",
          "delete_cmd_prefix": "rm(",
          "library": "var_list.r",
          "varRefreshCmd": "cat(var_dic_list()) "
        }
      },
      "types_to_exclude": [
        "module",
        "function",
        "builtin_function_or_method",
        "instance",
        "_Feature"
      ],
      "window_display": false
    },
    "colab": {
      "name": "Wikidaper - Introduction aux classes Python + regex.ipynb",
      "provenance": []
    }
  },
  "nbformat": 4,
  "nbformat_minor": 5
}
