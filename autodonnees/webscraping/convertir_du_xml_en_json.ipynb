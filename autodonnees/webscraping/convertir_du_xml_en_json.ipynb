{
 "cells": [
  {
   "cell_type": "markdown",
   "metadata": {},
   "source": [
    "Il est très courant de partir d'un fichier trouvé sur la Toile **pour le convertir dans un autre format**. Ce carnet revient sur un script de conversion codé à l'occasion <a href=\"https://www.rue89strasbourg.com/legislatives-2017-resultats-t2-alsace-122027\" target=\"_blank\">d'une pige pour Rue89 Strasbourg</a>.\n",
    "\n",
    "![Les législatives 2019 en Alsace (Rue89 Strasbourg](illustrations/legislatives_alsace_2019.png)\n",
    "\n",
    "La carte étant codée avec la bibliothèque JavaScript D3, cette recette crée **un json à partir d'un XML** mis à jour au fur et à mesure du dépouillement.\n",
    "\n",
    "Le cas des législatives est intéressant car **le nombre de candidats varie selon les circonscriptions**. Une solution assez efficace consiste à tous les ranger dans un même objet. Le script codant la carte l'utilisera ensuite pour colorer et afficher les résultats au survol. Mieux encore, on pourra le trier dans l'ordre décroissant directement à la création du json.\n",
    "\n",
    "Il faudra également prévoir : \n",
    "- la construction d'un identifiant propre à chaque zone (dans le cas des circonscriptions, un code INSEE peut par exemple faire l'affaire dans la plupart des cas)\n",
    "- le calcul direct des pourcentages (inscrits et exprimés)\n",
    "\n",
    "On commence comme de coutume par importer les modules utiles..."
   ]
  },
  {
   "cell_type": "code",
   "execution_count": 1,
   "metadata": {},
   "outputs": [],
   "source": [
    "#!/usr/bin/python\n",
    "# -*- coding: utf-8 -*-\n",
    "from urllib.request import urlopen\n",
    "from lxml import etree\n",
    "import json"
   ]
  },
  {
   "cell_type": "markdown",
   "metadata": {},
   "source": [
    "...et déclarer les variables globales :"
   ]
  },
  {
   "cell_type": "code",
   "execution_count": 2,
   "metadata": {},
   "outputs": [],
   "source": [
    "departements = [\"67\", \"68\"] # à utiliser dans une boucle for\n",
    "exceptions = [\"68224\", \"68006\", \"67482\", \"67372\"] # certaines communes sont divisées entre plusieurs circo... on en tient compte pour des identifiants spéciaux\n",
    "partis = {\"MDM\": \"MODEM\",\"COM\": \"PC\", \"SOC\" : \"PS\", \"REM\" : \"LREM\", \"REG\": \"UL\"} # simple table de correspondance pour reformuler certaines étiquettes\n",
    "liste_objets = [] # on remplira cette variable au fur et à mesure... elle deviendra le tableau d'objets final"
   ]
  },
  {
   "cell_type": "markdown",
   "metadata": {},
   "source": [
    "Pour utiliser correctement lxml, il faut imaginer **une racine depuis laquelle on remonte** vers des feuilles intéressantes. A chaque branche charnière, on récupère les informations qui nous intéressent. \n",
    "\n",
    "Évidemment, ça ne se fait pas au doigt mouillé, et la lecture des schémas XML (comme ceux fournis par le Ministére de l'Intérieur) fait gagner énormément de temps dans le paramétrage.\n",
    "\n",
    "Voici le gros morceau du script :"
   ]
  },
  {
   "cell_type": "code",
   "execution_count": 3,
   "metadata": {},
   "outputs": [
    {
     "name": "stdout",
     "output_type": "stream",
     "text": [
      "Department numero 67\n",
      "673727\n",
      "673728\n",
      "674821\n",
      "674822\n",
      "674823\n",
      "Department numero 68\n",
      "680063\n",
      "680064\n",
      "682245\n",
      "682246\n"
     ]
    }
   ],
   "source": [
    "for departement in departements: # à chaque département, on déroule !\n",
    "\tarbre = etree.parse(urlopen(\"https://elections.interieur.gouv.fr/telechargements/LG2017/resultatsT2/0\"+departement+\"/0\"+departement+\"com.xml\")) # et on interroge l'URL correspondante\n",
    "\tprint (\"Department numero \"+departement)\n",
    "\tfor noeud in arbre.xpath(\"//Election/Departement/Communes/Commune\"): # première branche charnière\n",
    "\t\tobjet = {} # depuis laquelle on crée un dictionnaire (ou objet en JS) qui sera ajouté à liste_objets\n",
    "\t\tfor circo in noeud.xpath(\"CodCirLg\"):\n",
    "\t\t\tcodecirco = circo.text[1] # chaque circo commence par \"0\", on ne le considère donc pas\n",
    "\t\tfor insee in noeud.xpath(\"CodSubCom\"):\n",
    "\t\t\tcode_insee = departement+insee.text\n",
    "\t\t\tif (code_insee in exceptions):\n",
    "\t\t\t\tobjet[\"insee\"] = code_insee+codecirco # si notre ville est dans les exceptions, on lui donne un code de circo\n",
    "\t\t\t\tprint(objet[\"insee\"])\n",
    "\t\t\telse:\n",
    "\t\t\t\tobjet[\"insee\"] = code_insee\n",
    "\t\tfor resultats in noeud.xpath(\"Tours/Tour[NumTour=2]\"): # autre branche charnière importante, celle qui concerne le second tour (pour ce cas précis)\n",
    "\t\t\tcandidats = [] # cette variable a vocation à devenir une liste de dictionnaires, autrement dit... un tableau d'objets en JS !\n",
    "\t\t\tfor inscrits in resultats.xpath(\"Mentions/Inscrits/Nombre\"):\n",
    "\t\t\t\tobjet[\"ins\"] = int(inscrits.text) # int permet de convertir une chaîne de cara en entier (si elle est au bont format)\n",
    "\t\t\tfor abstentions in resultats.xpath(\"Mentions/Abstentions/Nombre\"):\n",
    "\t\t\t\tobjet[\"abs\"] = int(abstentions.text)\n",
    "\t\t\tfor exprimes in resultats.xpath(\"Mentions/Exprimes/Nombre\"):\n",
    "\t\t\t\tobjet[\"exp\"] = int(exprimes.text)\n",
    "\t\t\tfor candidat in resultats.xpath(\"Resultats/Candidats/Candidat\"): # et dernière branche charnière\n",
    "\t\t\t\tres_candidat = {} # pour chaque candidat, on récupère des infos avant d'ajouter ce dictionnaire dans la variable candidats\n",
    "\t\t\t\tfor famille in candidat.xpath(\"NomPsn\"):\n",
    "\t\t\t\t\tnfamille = famille.text\n",
    "\t\t\t\tfor prenom in candidat.xpath(\"PrenomPsn\"):\n",
    "\t\t\t\t\tpreno = prenom.text\n",
    "\t\t\t\tres_candidat[\"nom\"] = preno+\" \"+nfamille.title()\n",
    "\t\t\t\tfor codenu in candidat.xpath(\"CodNua\"):\n",
    "\t\t\t\t\tnunu = codenu.text\n",
    "\t\t\t\t\tif nunu in partis.keys(): # si la nuance récupérée fait partie des acronymes douteux...\n",
    "\t\t\t\t\t\tnunu=partis[nunu]\n",
    "\t\t\t\t\tres_candidat[\"nuance\"] = nunu # ...on la remplace par l'étiquette usuelle\n",
    "\t\t\t\tfor voix in candidat.xpath(\"NbVoix\"):\n",
    "\t\t\t\t\tif voix == \"\": # on teste toujours le cas où le nombre de voix n'existerait pas\n",
    "\t\t\t\t\t\tvox = 0\n",
    "\t\t\t\t\telse:\n",
    "\t\t\t\t\t\tvox = int(voix.text)\n",
    "\t\t\t\tres_candidat[\"voix\"] = vox\n",
    "\t\t\t\tres_candidat[\"pexp\"] = round((float(vox/objet[\"exp\"]))*100,2)\n",
    "\t\t\t\tres_candidat[\"pins\"] = round((float(vox/objet[\"ins\"]))*100,2)\n",
    "\t\t\t\tcandidats.append(res_candidat)\n",
    "\t\t\t\tcandidats = sorted(candidats, key=lambda d: d['voix'], reverse=True) # on trie dans l'ordre décroissant le tableau selon la clé \"voix\" de ses objets\n",
    "\t\tobjet[\"candidats\"] = candidats\n",
    "\t\tliste_objets.append(objet) # et on entérine notre variable globale"
   ]
  },
  {
   "cell_type": "markdown",
   "metadata": {},
   "source": [
    "Il ne reste plus qu'à enregistrer un json à partir de la variable liste_objets, et le tour est joué :"
   ]
  },
  {
   "cell_type": "code",
   "execution_count": 4,
   "metadata": {},
   "outputs": [
    {
     "data": {
      "text/plain": [
       "220769"
      ]
     },
     "execution_count": 4,
     "metadata": {},
     "output_type": "execute_result"
    }
   ],
   "source": [
    "fichier = open('livraisons/leg017_communes_alsace.json','w+')\n",
    "fichier.write(json.dumps(liste_objets))"
   ]
  },
  {
   "cell_type": "code",
   "execution_count": null,
   "metadata": {},
   "outputs": [],
   "source": []
  }
 ],
 "metadata": {
  "kernelspec": {
   "display_name": "Python 3",
   "language": "python",
   "name": "python3"
  },
  "language_info": {
   "codemirror_mode": {
    "name": "ipython",
    "version": 3
   },
   "file_extension": ".py",
   "mimetype": "text/x-python",
   "name": "python",
   "nbconvert_exporter": "python",
   "pygments_lexer": "ipython3",
   "version": "3.7.5rc1"
  }
 },
 "nbformat": 4,
 "nbformat_minor": 2
}
