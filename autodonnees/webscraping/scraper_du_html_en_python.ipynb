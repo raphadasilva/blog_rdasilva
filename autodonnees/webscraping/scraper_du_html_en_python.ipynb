{
 "cells": [
  {
   "cell_type": "markdown",
   "metadata": {},
   "source": [
    "L'objectif de ce carnet est de référencer différentes techniques d'aspiration de données sur le web. Elle comprendra notamment :\n",
    "\n",
    " - des éléments structurés comme **des listes ou des tableaux HTML**\n",
    " - l'utilisation **d'expressions régulières** pour affiner les différentes sélections\n",
    " \n",
    "Les modules **requests et BeautifulSoup** seront allègrement utilisés, assez pour justifier leur appel avant le début des festivités :"
   ]
  },
  {
   "cell_type": "code",
   "execution_count": 17,
   "metadata": {},
   "outputs": [],
   "source": [
    "#!/usr/bin/python\n",
    "# -*- coding: utf-8 -*-\n",
    "import requests, re, csv\n",
    "from bs4 import BeautifulSoup"
   ]
  },
  {
   "cell_type": "markdown",
   "metadata": {},
   "source": [
    "## Aspirer différents éléments d'un tableau HTML"
   ]
  },
  {
   "cell_type": "markdown",
   "metadata": {},
   "source": [
    "### Sur une seule page"
   ]
  },
  {
   "cell_type": "markdown",
   "metadata": {},
   "source": [
    "Nous allons commencer par aspirer **des données tirées de Wikipedia**. L'encyclopédie en ligne est de toute évidence un bon point de départ, car il n'y a aucun doute sur la possibilité **d'aspirer les informations renseignées dessus**.\n",
    "\n",
    "Un exemple intéressant serait de travailler sur un tableau, par exemple celui recensant **<a href=\"https://fr.wikipedia.org/wiki/Liste_des_monuments_historiques_de_Nancy\" target=\"_blank\"> les monuments historiques de Nancy</a>**. L'enjeu va se résumer à : \n",
    "- faire des sélections\n",
    "- les mémoriser en autant de variables\n",
    "- créer une BDD grâce à elle \n",
    "- exporter la BDD finale dans un certain format\n",
    "\n",
    "Certains services en ligne comme Google Spreadsheet incluent **des formules dédiées**. Par exemple, voici le résultat d'une formule IMPORTHTML() centrée sur le premier tableau de la page Wikipédia précédemment citée :\n",
    "\n",
    "![IMPORTHTML() sur Google Spreadsheet](illustrations/importhtml_gspreadsheet.png)\n",
    "\n",
    "Le résultat est propre, mais :\n",
    "\n",
    " - les coordonnées géographiques **sont inexploitables en l'état**. Il serait préférable de séparer longitude et latitude en deux colonnes distinctes\n",
    " - on peut faire une remarque équivalente pour les notices. **L'identifiant n'est pas franchement utile**, l'URL cible le serait plus\n",
    " \n",
    "En se penchant sur les premières balises du tableau HTML de la page source, voici ce qu'on obtient :"
   ]
  },
  {
   "cell_type": "raw",
   "metadata": {},
   "source": [
    "<table class=\"wikitable sortable\" style=\"width:100%; margin-top:0.5em;\">\n",
    "    <tbody>\n",
    "        <tr>\n",
    "            <th scope=\"col\">Monument</th>\n",
    "            <th scope=\"col\">Adresse</th><th scope=\"col\" class=\"unsortable\">Coordonnées</th>\n",
    "            <th scope=\"col\">Notice</th>\n",
    "            <th scope=\"col\">Protection</th>\n",
    "            <th scope=\"col\">Date</th>\n",
    "            <th scope=\"col\" class=\"unsortable\" width=\"100px\">Illustration</th>\n",
    "        </tr>\n",
    "        <tr class=\"with_image\" id=\"Arc_Here\">\n",
    "            <td data-sort-value=\"Arc Here\"><a href=\"/wiki/Arc_H%C3%A9r%C3%A9\" title=\"Arc Héré\">Arc Héré</a></td>\n",
    "            <td data-sort-value=\"Stanislas Place\"><a href=\"/wiki/Rue_H%C3%A9r%C3%A9_(Nancy)\" class=\"mw-redirect\" title=\"Rue Héré (Nancy)\">rue Héré</a></td>\n",
    "            <td style=\"text-align:center; width:9em;\"><a class=\"mw-kartographer-maplink\" data-mw=\"interface\" data-style=\"osm-intl\" href=\"/wiki/Sp%C3%A9cial:Map/13/48.694416/6.182674/fr\" data-zoom=\"13\" data-lat=\"48.694416\" data-lon=\"6.182674\" data-overlays=\"[&quot;_d6c214f5535e454d2c168c14057315ce08de5dc7&quot;]\">48°&#160;41′&#160;40″&#160;nord, 6°&#160;10′&#160;58″&#160;est</a></td>\n",
    "            <td><span class=\"ouvrage\"><a rel=\"nofollow\" class=\"external text\" href=\"https://www.pop.culture.gouv.fr/notice/merimee//PA00106099\">«&#160;<cite style=\"font-style: normal;\">PA00106099</cite>&#160;»</a></span></td>\n",
    "            <td>Classé<br />Classé<br />Classé</td>\n",
    "            <td>1923<br />2003</td>\n",
    "            <td><div class=\"center\"><div class=\"floatnone\"><a href=\"/wiki/Fichier:Nancy_Porte_Here_BW_2015-07-18_13-45-28.jpg\" class=\"image\"><img alt=\"Arc Héré\" src=\"//upload.wikimedia.org/wikipedia/commons/thumb/6/68/Nancy_Porte_Here_BW_2015-07-18_13-45-28.jpg/120px-Nancy_Porte_Here_BW_2015-07-18_13-45-28.jpg\" decoding=\"async\" width=\"120\" height=\"95\" srcset=\"//upload.wikimedia.org/wikipedia/commons/thumb/6/68/Nancy_Porte_Here_BW_2015-07-18_13-45-28.jpg/180px-Nancy_Porte_Here_BW_2015-07-18_13-45-28.jpg 1.5x, //upload.wikimedia.org/wikipedia/commons/thumb/6/68/Nancy_Porte_Here_BW_2015-07-18_13-45-28.jpg/240px-Nancy_Porte_Here_BW_2015-07-18_13-45-28.jpg 2x\" data-file-width=\"3222\" data-file-height=\"2547\" /></a></div></div></td>\n",
    "        </tr>\n",
    "        [...]\n",
    "    </tbody>\n",
    "</table>"
   ]
  },
  {
   "cell_type": "markdown",
   "metadata": {},
   "source": [
    "Deux choses intéressantes à remarquer :\n",
    "\n",
    "- le lien de classe mw-kartographer-maplink contient les latitude et longitude du lieu en métadonnées\n",
    "- on peut récupérer directement le lien hypertexte de la notice\n",
    "\n",
    "Sur ces entrefaites, nous pouvons passer au script :"
   ]
  },
  {
   "cell_type": "code",
   "execution_count": 18,
   "metadata": {},
   "outputs": [],
   "source": [
    "url = requests.get(\"https://fr.wikipedia.org/wiki/Liste_des_monuments_historiques_de_Nancy\")\n",
    "soupe = BeautifulSoup(url.text, \"lxml\") # \"lxml\" n'est pas obligatoire, c'est plus une convention\n",
    "tableau = soupe.find(\"table\", {\"class\":\"wikitable sortable\"}) # on considère le premier tableau de classe \"wikitable sortable\"\n",
    "lignes = tableau.findAll(\"tr\") # puis toutes ses lignes"
   ]
  },
  {
   "cell_type": "markdown",
   "metadata": {},
   "source": [
    "Les lignes précédentes ont transformé en \"soupe\" le code source de la page Wikipédia interrogée. On a ensuite pu faire nos premières sélections avec le tableau de class \"wikitable sortable\" et l'ensemble de ses lignes.\n",
    "\n",
    "On va partir sur un csv classqiue :"
   ]
  },
  {
   "cell_type": "code",
   "execution_count": 19,
   "metadata": {},
   "outputs": [],
   "source": [
    "ficsv = open('livraisons/monuments_histo_nancy.csv','w+')"
   ]
  },
  {
   "cell_type": "markdown",
   "metadata": {},
   "source": [
    "On peut à présent **parcourir la variable lignes** via une boucle for. A chaque passage dans la boucle, on vérifie l'existence des informations qui nous intéresse, puis on les stocke dans une nouvelle ligne du csv.\n",
    "\n",
    "En Python, cela se traduit ainsi :"
   ]
  },
  {
   "cell_type": "code",
   "execution_count": 20,
   "metadata": {},
   "outputs": [],
   "source": [
    "try:\n",
    "\tmajcsv = csv.writer(ficsv) # on passe notre csv en mode \"écriture\"\n",
    "\tmajcsv.writerow(('Monument','Adresse','Longitude','Latitude','Source')) # on paramètre nos noms de colonnes\n",
    "\tfor ligne in lignes:\n",
    "\t\tinfo_monument = ligne.findAll(\"td\") # on fait les premières sélections\n",
    "\t\tcarto = ligne.find(\"a\", {\"class\":\"mw-kartographer-maplink\"})\n",
    "\t\tnotice = ligne.findAll(\"a\", {\"href\":re.compile(\"^https://www.pop.culture.gouv\")}) # ^ signifie qu'on considère le strict début d'une chaîne de caractères\n",
    "\t\tif info_monument and carto and notice: # si les sélections existent, on enregistre les informations pour le csv\n",
    "\t\t\tmonument = info_monument[0].get(\"data-sort-value\")\n",
    "\t\t\tadresse = info_monument[1].getText()\n",
    "\t\t\tlongitude = float(carto.get('data-lat'))\n",
    "\t\t\tlatitude = float(carto.get('data-lon'))\n",
    "\t\t\tsource = notice[0].get('href')\n",
    "\t\t\tmajcsv.writerow((monument, adresse, longitude, latitude, source))\n",
    "finally:   # quand toute la variables lignes a été parcourue, en referme le fichier\n",
    "\tficsv.close()"
   ]
  },
  {
   "cell_type": "markdown",
   "metadata": {},
   "source": [
    "Nous pouvons à présent vérifier le contenu du fichier ainsi créé. La bibliothèque pandas est toute désignée :"
   ]
  },
  {
   "cell_type": "code",
   "execution_count": 23,
   "metadata": {},
   "outputs": [
    {
     "data": {
      "text/html": [
       "<div>\n",
       "<style scoped>\n",
       "    .dataframe tbody tr th:only-of-type {\n",
       "        vertical-align: middle;\n",
       "    }\n",
       "\n",
       "    .dataframe tbody tr th {\n",
       "        vertical-align: top;\n",
       "    }\n",
       "\n",
       "    .dataframe thead th {\n",
       "        text-align: right;\n",
       "    }\n",
       "</style>\n",
       "<table border=\"1\" class=\"dataframe\">\n",
       "  <thead>\n",
       "    <tr style=\"text-align: right;\">\n",
       "      <th></th>\n",
       "      <th>Monument</th>\n",
       "      <th>Adresse</th>\n",
       "      <th>Longitude</th>\n",
       "      <th>Latitude</th>\n",
       "      <th>Source</th>\n",
       "    </tr>\n",
       "  </thead>\n",
       "  <tbody>\n",
       "    <tr>\n",
       "      <td>0</td>\n",
       "      <td>Arc Here</td>\n",
       "      <td>rue Héré\\n</td>\n",
       "      <td>48.694416</td>\n",
       "      <td>6.182674</td>\n",
       "      <td>https://www.pop.culture.gouv.fr/notice/merimee...</td>\n",
       "    </tr>\n",
       "    <tr>\n",
       "      <td>1</td>\n",
       "      <td>Banque SNVB</td>\n",
       "      <td>4 place André-Maginot\\n</td>\n",
       "      <td>48.689889</td>\n",
       "      <td>6.177306</td>\n",
       "      <td>https://www.pop.culture.gouv.fr/notice/merimee...</td>\n",
       "    </tr>\n",
       "    <tr>\n",
       "      <td>2</td>\n",
       "      <td>Basilique Saint-Epvre</td>\n",
       "      <td>place Saint-Epvre et place du Colonel-Fabien\\n</td>\n",
       "      <td>48.696000</td>\n",
       "      <td>6.180000</td>\n",
       "      <td>https://www.pop.culture.gouv.fr/notice/merimee...</td>\n",
       "    </tr>\n",
       "    <tr>\n",
       "      <td>3</td>\n",
       "      <td>Bastion Haussonville</td>\n",
       "      <td>1 rue Gustave-Simon\\n</td>\n",
       "      <td>48.693800</td>\n",
       "      <td>6.181900</td>\n",
       "      <td>https://www.pop.culture.gouv.fr/notice/merimee...</td>\n",
       "    </tr>\n",
       "    <tr>\n",
       "      <td>4</td>\n",
       "      <td>Brasserie Excelsior</td>\n",
       "      <td>1 rue Mazagranrue Henri-Poincaré\\n</td>\n",
       "      <td>48.690833</td>\n",
       "      <td>6.175694</td>\n",
       "      <td>https://www.pop.culture.gouv.fr/notice/merimee...</td>\n",
       "    </tr>\n",
       "  </tbody>\n",
       "</table>\n",
       "</div>"
      ],
      "text/plain": [
       "                Monument                                         Adresse  \\\n",
       "0               Arc Here                                      rue Héré\\n   \n",
       "1            Banque SNVB                         4 place André-Maginot\\n   \n",
       "2  Basilique Saint-Epvre  place Saint-Epvre et place du Colonel-Fabien\\n   \n",
       "3   Bastion Haussonville                           1 rue Gustave-Simon\\n   \n",
       "4    Brasserie Excelsior              1 rue Mazagranrue Henri-Poincaré\\n   \n",
       "\n",
       "   Longitude  Latitude                                             Source  \n",
       "0  48.694416  6.182674  https://www.pop.culture.gouv.fr/notice/merimee...  \n",
       "1  48.689889  6.177306  https://www.pop.culture.gouv.fr/notice/merimee...  \n",
       "2  48.696000  6.180000  https://www.pop.culture.gouv.fr/notice/merimee...  \n",
       "3  48.693800  6.181900  https://www.pop.culture.gouv.fr/notice/merimee...  \n",
       "4  48.690833  6.175694  https://www.pop.culture.gouv.fr/notice/merimee...  "
      ]
     },
     "execution_count": 23,
     "metadata": {},
     "output_type": "execute_result"
    }
   ],
   "source": [
    "import pandas as pd\n",
    "\n",
    "fichier_nancy = pd.read_csv('livraisons/monuments_histo_nancy.csv')\n",
    "\n",
    "fichier_nancy.head()"
   ]
  },
  {
   "cell_type": "markdown",
   "metadata": {},
   "source": [
    "Tout est propre, on peut passer à l'étape supérieure !"
   ]
  },
  {
   "cell_type": "markdown",
   "metadata": {},
   "source": [
    "### Sur plusieurs pages"
   ]
  },
  {
   "cell_type": "markdown",
   "metadata": {},
   "source": [
    "Un autre avantage de coder ses propres scrapers est de pouvoir **automatiser un enchaîne efficace sur plusieurs pages**.\n",
    "\n",
    "Par exemple, sur les monuments historiques renseignés sur Wikipedia, le seul changement concerne l'URL. La page de Strasbourg se trouve à l'adresse https://fr.wikipedia.org/wiki/Liste_des_monuments_historiques_de_Strasbourg, celle de Mulhouse à l'adresse https://fr.wikipedia.org/wiki/Liste_des_monuments_historiques_de_Mulhouse, etc...\n",
    "\n",
    "Bref, on peut stocker les différentes fins d'URL dans une variable, et parcourir **cette dernière dans une boucle for**. A chaque passage, **on scelle une nouvelle URL** et on reproduit ce qui a été éprouvé avant :"
   ]
  },
  {
   "cell_type": "code",
   "execution_count": 22,
   "metadata": {},
   "outputs": [
    {
     "name": "stdout",
     "output_type": "stream",
     "text": [
      "Lien : https://fr.wikipedia.org/wiki/Liste_des_monuments_historiques_de_Reims\n",
      "Lien : https://fr.wikipedia.org/wiki/Liste_des_monuments_historiques_de_Chaumont\n",
      "Lien : https://fr.wikipedia.org/wiki/Liste_des_monuments_historiques_de_Charleville-Mézières\n",
      "Lien : https://fr.wikipedia.org/wiki/Liste_des_monuments_historiques_de_Toul\n",
      "Lien : https://fr.wikipedia.org/wiki/Liste_des_monuments_historiques_de_Pont-à-Mousson\n",
      "Lien : https://fr.wikipedia.org/wiki/Liste_des_monuments_historiques_de_Haguenau\n",
      "Lien : https://fr.wikipedia.org/wiki/Liste_des_monuments_historiques_de_Châlons-en-Champagne\n",
      "Lien : https://fr.wikipedia.org/wiki/Liste_des_monuments_historiques_de_Troyes\n",
      "Lien : https://fr.wikipedia.org/wiki/Liste_des_monuments_historiques_de_Verdun\n",
      "Lien : https://fr.wikipedia.org/wiki/Liste_des_monuments_historiques_de_Bar-le-Duc\n",
      "Lien : https://fr.wikipedia.org/wiki/Liste_des_monuments_historiques_d'Épinal\n",
      "Lien : https://fr.wikipedia.org/wiki/Liste_des_monuments_historiques_de_Nancy\n",
      "Lien : https://fr.wikipedia.org/wiki/Liste_des_monuments_historiques_de_Metz\n",
      "Lien : https://fr.wikipedia.org/wiki/Liste_des_monuments_historiques_de_Colmar\n",
      "Lien : https://fr.wikipedia.org/wiki/Liste_des_monuments_historiques_de_Sélestat\n",
      "Lien : https://fr.wikipedia.org/wiki/Liste_des_monuments_historiques_de_Mulhouse\n",
      "Lien : https://fr.wikipedia.org/wiki/Liste_des_monuments_historiques_de_Strasbourg\n"
     ]
    }
   ],
   "source": [
    "#!/usr/bin/python\n",
    "# -*- coding: utf-8 -*-\n",
    "import requests, re, csv\n",
    "from bs4 import BeautifulSoup\n",
    "\n",
    "depart =\"https://fr.wikipedia.org/wiki/Liste_des_monuments_historiques_d\"\n",
    "villes = [\"e_Reims\", \"e_Chaumont\", \"e_Charleville-Mézières\", \"e_Toul\", \"e_Pont-à-Mousson\", \"e_Haguenau\", \"e_Châlons-en-Champagne\", \"e_Troyes\", \"e_Verdun\", \"e_Bar-le-Duc\", \"'Épinal\", \"e_Nancy\", \"e_Metz\", \"e_Colmar\", \"e_Sélestat\", \"e_Mulhouse\", \"e_Strasbourg\"]\n",
    "ficsv = open('livraisons/monuments_histo_ge.csv','w+')\n",
    "\n",
    "try:\n",
    "\tmajcsv = csv.writer(ficsv)\n",
    "\tmajcsv.writerow(('Monument','Adresse','Longitude','Latitude','Source'))\n",
    "\tfor ville in villes:\n",
    "\t\turl_ville = depart+ville # une simple addition de chaînes de cara' nous donne nos URL complètes\n",
    "\t\turl = requests.get(url_ville) # et on ouvre l'URL actuelle\n",
    "\t\tprint(\"Lien : \"+url_ville)\n",
    "\t\tsoupe = BeautifulSoup(url.text, \"lxml\")\n",
    "\t\ttableau = soupe.find(\"table\", {\"class\":\"wikitable sortable\"})\n",
    "\t\tlignes = tableau.findAll(\"tr\")\n",
    "\t\tfor ligne in lignes:\n",
    "\t\t\tmonuments = ligne.findAll(\"td\")\n",
    "\t\t\tcarto = ligne.find(\"a\", {\"class\":\"mw-kartographer-maplink\"})\n",
    "\t\t\tsource = ligne.findAll(\"a\", {\"href\":re.compile(\"^https://www.pop.culture.gouv\")}) \n",
    "\t\t\tif monuments and carto and source:\n",
    "\t\t\t\tmonument = monuments[0].get(\"data-sort-value\")\n",
    "\t\t\t\tadresse = monuments[1].get_text()\n",
    "\t\t\t\tlongitude = float(carto.get('data-lat'))\n",
    "\t\t\t\tlatitude = float(carto.get('data-lon'))\n",
    "\t\t\t\tlien = source[0].get('href')\n",
    "\t\t\t\tmajcsv.writerow((monument, adresse, longitude, latitude, lien))\n",
    "finally:\n",
    "\tficsv.close()"
   ]
  },
  {
   "cell_type": "markdown",
   "metadata": {},
   "source": [
    "Si on reproduit les vérifications sur le nouveau fichier, on devrait avoir des monuments rémois en tête et des adresses strasbourgeoises à la fin (l'ordre des villes déclarées dans notre script)."
   ]
  },
  {
   "cell_type": "code",
   "execution_count": 24,
   "metadata": {},
   "outputs": [
    {
     "data": {
      "text/html": [
       "<div>\n",
       "<style scoped>\n",
       "    .dataframe tbody tr th:only-of-type {\n",
       "        vertical-align: middle;\n",
       "    }\n",
       "\n",
       "    .dataframe tbody tr th {\n",
       "        vertical-align: top;\n",
       "    }\n",
       "\n",
       "    .dataframe thead th {\n",
       "        text-align: right;\n",
       "    }\n",
       "</style>\n",
       "<table border=\"1\" class=\"dataframe\">\n",
       "  <thead>\n",
       "    <tr style=\"text-align: right;\">\n",
       "      <th></th>\n",
       "      <th>Monument</th>\n",
       "      <th>Adresse</th>\n",
       "      <th>Longitude</th>\n",
       "      <th>Latitude</th>\n",
       "      <th>Source</th>\n",
       "    </tr>\n",
       "  </thead>\n",
       "  <tbody>\n",
       "    <tr>\n",
       "      <td>0</td>\n",
       "      <td>Abbaye Saint-Remi</td>\n",
       "      <td>53 rue Simon\\n</td>\n",
       "      <td>49.243400</td>\n",
       "      <td>4.041300</td>\n",
       "      <td>https://www.pop.culture.gouv.fr/notice/merimee...</td>\n",
       "    </tr>\n",
       "    <tr>\n",
       "      <td>1</td>\n",
       "      <td>Circuit de Reims-Gueux</td>\n",
       "      <td>\\n</td>\n",
       "      <td>49.254167</td>\n",
       "      <td>3.930833</td>\n",
       "      <td>https://www.pop.culture.gouv.fr/notice/merimee...</td>\n",
       "    </tr>\n",
       "    <tr>\n",
       "      <td>2</td>\n",
       "      <td>Ancienne Douane</td>\n",
       "      <td>4 place RoyaleRue du CloîtreRue du Grand-Credo\\n</td>\n",
       "      <td>49.258000</td>\n",
       "      <td>4.031700</td>\n",
       "      <td>https://www.pop.culture.gouv.fr/notice/merimee...</td>\n",
       "    </tr>\n",
       "    <tr>\n",
       "      <td>3</td>\n",
       "      <td>Basilique Saint-Remi</td>\n",
       "      <td>55 rue Simon\\n</td>\n",
       "      <td>49.243100</td>\n",
       "      <td>4.041900</td>\n",
       "      <td>https://www.pop.culture.gouv.fr/notice/merimee...</td>\n",
       "    </tr>\n",
       "    <tr>\n",
       "      <td>4</td>\n",
       "      <td>Bibliotheque Carnegie</td>\n",
       "      <td>2 place Carnégie\\n</td>\n",
       "      <td>49.253000</td>\n",
       "      <td>4.035400</td>\n",
       "      <td>https://www.pop.culture.gouv.fr/notice/merimee...</td>\n",
       "    </tr>\n",
       "  </tbody>\n",
       "</table>\n",
       "</div>"
      ],
      "text/plain": [
       "                 Monument                                           Adresse  \\\n",
       "0       Abbaye Saint-Remi                                    53 rue Simon\\n   \n",
       "1  Circuit de Reims-Gueux                                                \\n   \n",
       "2         Ancienne Douane  4 place RoyaleRue du CloîtreRue du Grand-Credo\\n   \n",
       "3    Basilique Saint-Remi                                    55 rue Simon\\n   \n",
       "4   Bibliotheque Carnegie                                2 place Carnégie\\n   \n",
       "\n",
       "   Longitude  Latitude                                             Source  \n",
       "0  49.243400  4.041300  https://www.pop.culture.gouv.fr/notice/merimee...  \n",
       "1  49.254167  3.930833  https://www.pop.culture.gouv.fr/notice/merimee...  \n",
       "2  49.258000  4.031700  https://www.pop.culture.gouv.fr/notice/merimee...  \n",
       "3  49.243100  4.041900  https://www.pop.culture.gouv.fr/notice/merimee...  \n",
       "4  49.253000  4.035400  https://www.pop.culture.gouv.fr/notice/merimee...  "
      ]
     },
     "execution_count": 24,
     "metadata": {},
     "output_type": "execute_result"
    }
   ],
   "source": [
    "fichier_ge = pd.read_csv('livraisons/monuments_histo_ge.csv')\n",
    "\n",
    "fichier_ge.head()"
   ]
  },
  {
   "cell_type": "code",
   "execution_count": 25,
   "metadata": {},
   "outputs": [
    {
     "data": {
      "text/html": [
       "<div>\n",
       "<style scoped>\n",
       "    .dataframe tbody tr th:only-of-type {\n",
       "        vertical-align: middle;\n",
       "    }\n",
       "\n",
       "    .dataframe tbody tr th {\n",
       "        vertical-align: top;\n",
       "    }\n",
       "\n",
       "    .dataframe thead th {\n",
       "        text-align: right;\n",
       "    }\n",
       "</style>\n",
       "<table border=\"1\" class=\"dataframe\">\n",
       "  <thead>\n",
       "    <tr style=\"text-align: right;\">\n",
       "      <th></th>\n",
       "      <th>Monument</th>\n",
       "      <th>Adresse</th>\n",
       "      <th>Longitude</th>\n",
       "      <th>Latitude</th>\n",
       "      <th>Source</th>\n",
       "    </tr>\n",
       "  </thead>\n",
       "  <tbody>\n",
       "    <tr>\n",
       "      <td>1196</td>\n",
       "      <td>Tour Romaine</td>\n",
       "      <td>47-49, rue des Grandes-Arcades\\n</td>\n",
       "      <td>48.582655</td>\n",
       "      <td>7.747430</td>\n",
       "      <td>https://www.pop.culture.gouv.fr/notice/merimee...</td>\n",
       "    </tr>\n",
       "    <tr>\n",
       "      <td>1197</td>\n",
       "      <td>Usine Junkers Flugzeug-Und-Motorenwerke</td>\n",
       "      <td>33, rue du Maréchal Lefebvre\\n</td>\n",
       "      <td>48.561528</td>\n",
       "      <td>7.739126</td>\n",
       "      <td>https://www.pop.culture.gouv.fr/notice/merimee...</td>\n",
       "    </tr>\n",
       "    <tr>\n",
       "      <td>1198</td>\n",
       "      <td>Villa</td>\n",
       "      <td>13, rue Fischart\\n</td>\n",
       "      <td>48.586920</td>\n",
       "      <td>7.765927</td>\n",
       "      <td>https://www.pop.culture.gouv.fr/notice/merimee...</td>\n",
       "    </tr>\n",
       "    <tr>\n",
       "      <td>1199</td>\n",
       "      <td>Villa Faist</td>\n",
       "      <td>24, rue Twinger\\n</td>\n",
       "      <td>48.589036</td>\n",
       "      <td>7.769948</td>\n",
       "      <td>https://www.pop.culture.gouv.fr/notice/merimee...</td>\n",
       "    </tr>\n",
       "    <tr>\n",
       "      <td>1200</td>\n",
       "      <td>Villa Stempel</td>\n",
       "      <td>4, rue Erckmann-Chatrian\\n</td>\n",
       "      <td>48.588848</td>\n",
       "      <td>7.764953</td>\n",
       "      <td>https://www.pop.culture.gouv.fr/notice/merimee...</td>\n",
       "    </tr>\n",
       "  </tbody>\n",
       "</table>\n",
       "</div>"
      ],
      "text/plain": [
       "                                     Monument  \\\n",
       "1196                             Tour Romaine   \n",
       "1197  Usine Junkers Flugzeug-Und-Motorenwerke   \n",
       "1198                                    Villa   \n",
       "1199                              Villa Faist   \n",
       "1200                            Villa Stempel   \n",
       "\n",
       "                               Adresse  Longitude  Latitude  \\\n",
       "1196  47-49, rue des Grandes-Arcades\\n  48.582655  7.747430   \n",
       "1197    33, rue du Maréchal Lefebvre\\n  48.561528  7.739126   \n",
       "1198                13, rue Fischart\\n  48.586920  7.765927   \n",
       "1199                 24, rue Twinger\\n  48.589036  7.769948   \n",
       "1200        4, rue Erckmann-Chatrian\\n  48.588848  7.764953   \n",
       "\n",
       "                                                 Source  \n",
       "1196  https://www.pop.culture.gouv.fr/notice/merimee...  \n",
       "1197  https://www.pop.culture.gouv.fr/notice/merimee...  \n",
       "1198  https://www.pop.culture.gouv.fr/notice/merimee...  \n",
       "1199  https://www.pop.culture.gouv.fr/notice/merimee...  \n",
       "1200  https://www.pop.culture.gouv.fr/notice/merimee...  "
      ]
     },
     "execution_count": 25,
     "metadata": {},
     "output_type": "execute_result"
    }
   ],
   "source": [
    "fichier_ge.tail()"
   ]
  },
  {
   "cell_type": "markdown",
   "metadata": {},
   "source": [
    "Tout est donc OK."
   ]
  },
  {
   "cell_type": "code",
   "execution_count": null,
   "metadata": {},
   "outputs": [],
   "source": []
  }
 ],
 "metadata": {
  "kernelspec": {
   "display_name": "Python 3",
   "language": "python",
   "name": "python3"
  },
  "language_info": {
   "codemirror_mode": {
    "name": "ipython",
    "version": 3
   },
   "file_extension": ".py",
   "mimetype": "text/x-python",
   "name": "python",
   "nbconvert_exporter": "python",
   "pygments_lexer": "ipython3",
   "version": "3.7.5rc1"
  }
 },
 "nbformat": 4,
 "nbformat_minor": 2
}
