{
 "cells": [
  {
   "cell_type": "markdown",
   "id": "678468cb",
   "metadata": {},
   "source": [
    "Vers la mi-janvier, j'ai encadré un groupe d'étudiants qui se penchaient sur les habitudes de transports dans la Communauté de communes du Kreiz-Breizh, la seule hyper-rurale de Bretagne. Ils ont pour cela manipulé des **fichiers de mobilité professionnelle fournis par l'INSEE**.\n",
    "\n",
    "Le potentiel de ces bases de données est tellement vaste que j'ai voulu m'en servir pour mesurer **la pratique du vélo au sein de la Métropole de Lyon**. Un travail équivalent a été fait pour Rue89 Strasbourg, avec des opérations semblables.\n",
    "\n",
    "L'objectif est de préparer des fichiers json **digérables par la bibliothèque de visualisation D3js**. Un avantage de se spécialiser dans les données est d'être en mesure de les transformer à ses propres contraintes, et j'espère que ce calpein en fournira une bonne illustration.\n",
    "\n",
    "On se penchera dont sur les fichiers de mobilité professionnelle cru [2018](https://www.insee.fr/fr/statistiques/5395749?sommaire=5395764), [2013](https://www.insee.fr/fr/statistiques/2409494?sommaire=2409559), et [2008](https://www.insee.fr/fr/statistiques/2408676?sommaire=2409062). Ces fichiers sont gros, et on va partir du principe que les csv correspondants sont rangés dans un dossier \"mopro\" attenant à ce calepin.\n",
    "\n",
    "Dès ces prérequis remplis, on peut importer :"
   ]
  },
  {
   "cell_type": "code",
   "execution_count": 1,
   "id": "82d2fc7f",
   "metadata": {},
   "outputs": [],
   "source": [
    "import json\n",
    "import requests\n",
    "import geopandas as gpd\n",
    "import matplotlib.pyplot as plt\n",
    "import numpy as np\n",
    "import pandas as pd\n",
    "import seaborn as sns\n",
    "from bs4 import BeautifulSoup"
   ]
  },
  {
   "cell_type": "markdown",
   "id": "20bbb5e9",
   "metadata": {},
   "source": [
    "# Premières sélections et transformation en 2018"
   ]
  },
  {
   "cell_type": "markdown",
   "id": "1cf4aa29",
   "metadata": {},
   "source": [
    "On va se pencher sur un premier fichier qui servira à une cartographie interactive par mode de transport, dans cet esprit : \n",
    "\n",
    "![carte_mopro_eurom](images\\\\mlmopro_velo.jpg)\n",
    "\n",
    "Le début de l'histoire est connue, avec affectation d'une DataFrame à partir du fichier des mobilités de 2018 :"
   ]
  },
  {
   "cell_type": "code",
   "execution_count": 2,
   "id": "454ed4dd",
   "metadata": {},
   "outputs": [
    {
     "data": {
      "text/html": [
       "<div>\n",
       "<style scoped>\n",
       "    .dataframe tbody tr th:only-of-type {\n",
       "        vertical-align: middle;\n",
       "    }\n",
       "\n",
       "    .dataframe tbody tr th {\n",
       "        vertical-align: top;\n",
       "    }\n",
       "\n",
       "    .dataframe thead th {\n",
       "        text-align: right;\n",
       "    }\n",
       "</style>\n",
       "<table border=\"1\" class=\"dataframe\">\n",
       "  <thead>\n",
       "    <tr style=\"text-align: right;\">\n",
       "      <th></th>\n",
       "      <th>COMMUNE</th>\n",
       "      <th>ARM</th>\n",
       "      <th>DCFLT</th>\n",
       "      <th>DCLT</th>\n",
       "      <th>AGEREVQ</th>\n",
       "      <th>CS1</th>\n",
       "      <th>DEROU</th>\n",
       "      <th>DIPL</th>\n",
       "      <th>EMPL</th>\n",
       "      <th>ILT</th>\n",
       "      <th>...</th>\n",
       "      <th>REGION</th>\n",
       "      <th>REGLT</th>\n",
       "      <th>SEXE</th>\n",
       "      <th>STAT</th>\n",
       "      <th>STOCD</th>\n",
       "      <th>TP</th>\n",
       "      <th>TRANS</th>\n",
       "      <th>TYPL</th>\n",
       "      <th>TYPMR</th>\n",
       "      <th>VOIT</th>\n",
       "    </tr>\n",
       "  </thead>\n",
       "  <tbody>\n",
       "    <tr>\n",
       "      <th>7932890</th>\n",
       "      <td>97424</td>\n",
       "      <td>ZZZZZ</td>\n",
       "      <td>99999</td>\n",
       "      <td>97424</td>\n",
       "      <td>35</td>\n",
       "      <td>4</td>\n",
       "      <td>0</td>\n",
       "      <td>3</td>\n",
       "      <td>16</td>\n",
       "      <td>1</td>\n",
       "      <td>...</td>\n",
       "      <td>4</td>\n",
       "      <td>04</td>\n",
       "      <td>1</td>\n",
       "      <td>10</td>\n",
       "      <td>10</td>\n",
       "      <td>1</td>\n",
       "      <td>5</td>\n",
       "      <td>1</td>\n",
       "      <td>11</td>\n",
       "      <td>1</td>\n",
       "    </tr>\n",
       "    <tr>\n",
       "      <th>7932891</th>\n",
       "      <td>97424</td>\n",
       "      <td>ZZZZZ</td>\n",
       "      <td>99999</td>\n",
       "      <td>97424</td>\n",
       "      <td>30</td>\n",
       "      <td>5</td>\n",
       "      <td>0</td>\n",
       "      <td>14</td>\n",
       "      <td>13</td>\n",
       "      <td>1</td>\n",
       "      <td>...</td>\n",
       "      <td>4</td>\n",
       "      <td>04</td>\n",
       "      <td>1</td>\n",
       "      <td>10</td>\n",
       "      <td>10</td>\n",
       "      <td>2</td>\n",
       "      <td>5</td>\n",
       "      <td>1</td>\n",
       "      <td>20</td>\n",
       "      <td>1</td>\n",
       "    </tr>\n",
       "    <tr>\n",
       "      <th>7932892</th>\n",
       "      <td>97424</td>\n",
       "      <td>ZZZZZ</td>\n",
       "      <td>99999</td>\n",
       "      <td>97424</td>\n",
       "      <td>20</td>\n",
       "      <td>5</td>\n",
       "      <td>0</td>\n",
       "      <td>14</td>\n",
       "      <td>15</td>\n",
       "      <td>1</td>\n",
       "      <td>...</td>\n",
       "      <td>4</td>\n",
       "      <td>04</td>\n",
       "      <td>2</td>\n",
       "      <td>10</td>\n",
       "      <td>10</td>\n",
       "      <td>2</td>\n",
       "      <td>5</td>\n",
       "      <td>1</td>\n",
       "      <td>44</td>\n",
       "      <td>0</td>\n",
       "    </tr>\n",
       "    <tr>\n",
       "      <th>7932893</th>\n",
       "      <td>97424</td>\n",
       "      <td>ZZZZZ</td>\n",
       "      <td>99999</td>\n",
       "      <td>97424</td>\n",
       "      <td>75</td>\n",
       "      <td>2</td>\n",
       "      <td>0</td>\n",
       "      <td>3</td>\n",
       "      <td>22</td>\n",
       "      <td>1</td>\n",
       "      <td>...</td>\n",
       "      <td>4</td>\n",
       "      <td>04</td>\n",
       "      <td>1</td>\n",
       "      <td>22</td>\n",
       "      <td>10</td>\n",
       "      <td>2</td>\n",
       "      <td>1</td>\n",
       "      <td>1</td>\n",
       "      <td>20</td>\n",
       "      <td>0</td>\n",
       "    </tr>\n",
       "    <tr>\n",
       "      <th>7932894</th>\n",
       "      <td>97424</td>\n",
       "      <td>ZZZZZ</td>\n",
       "      <td>99999</td>\n",
       "      <td>97424</td>\n",
       "      <td>45</td>\n",
       "      <td>2</td>\n",
       "      <td>0</td>\n",
       "      <td>16</td>\n",
       "      <td>21</td>\n",
       "      <td>1</td>\n",
       "      <td>...</td>\n",
       "      <td>4</td>\n",
       "      <td>04</td>\n",
       "      <td>1</td>\n",
       "      <td>21</td>\n",
       "      <td>10</td>\n",
       "      <td>1</td>\n",
       "      <td>1</td>\n",
       "      <td>1</td>\n",
       "      <td>32</td>\n",
       "      <td>2</td>\n",
       "    </tr>\n",
       "  </tbody>\n",
       "</table>\n",
       "<p>5 rows × 32 columns</p>\n",
       "</div>"
      ],
      "text/plain": [
       "        COMMUNE    ARM  DCFLT   DCLT  AGEREVQ  CS1 DEROU  DIPL  EMPL  ILT  \\\n",
       "7932890   97424  ZZZZZ  99999  97424       35    4     0     3    16    1   \n",
       "7932891   97424  ZZZZZ  99999  97424       30    5     0    14    13    1   \n",
       "7932892   97424  ZZZZZ  99999  97424       20    5     0    14    15    1   \n",
       "7932893   97424  ZZZZZ  99999  97424       75    2     0     3    22    1   \n",
       "7932894   97424  ZZZZZ  99999  97424       45    2     0    16    21    1   \n",
       "\n",
       "         ...  REGION  REGLT  SEXE STAT STOCD TP  TRANS TYPL TYPMR  VOIT  \n",
       "7932890  ...       4     04     1   10    10  1      5    1    11     1  \n",
       "7932891  ...       4     04     1   10    10  2      5    1    20     1  \n",
       "7932892  ...       4     04     2   10    10  2      5    1    44     0  \n",
       "7932893  ...       4     04     1   22    10  2      1    1    20     0  \n",
       "7932894  ...       4     04     1   21    10  1      1    1    32     2  \n",
       "\n",
       "[5 rows x 32 columns]"
      ]
     },
     "execution_count": 2,
     "metadata": {},
     "output_type": "execute_result"
    }
   ],
   "source": [
    "mopro_2018=pd.read_csv(r\"mopro\\\\FD_MOBPRO_2018.csv\",sep=\";\",low_memory=False)\n",
    "mopro_2018.tail()"
   ]
  },
  {
   "cell_type": "markdown",
   "id": "d252f216",
   "metadata": {},
   "source": [
    "Il y a un nombre conséquent de colonnes qui ne vont pas servir, et dont on peut donc se passer afin de gagner en clarté. Le plus simple est de faire notre marché après avoir consulté [le dictionnaire des variables fourni par l'INSEE](https://www.insee.fr/fr/statistiques/5395749?sommaire=5395764#dictionnaire).\n",
    "\n",
    "Dans notre cas, nous allons retenir :\n",
    "* la commune de résidence (COMMUNE)\n",
    "* l'arrondissement municipal (ARM). Lyon faisant partie de trio du villes françaises découpables par arrondissement, on va en profiter sans vergogne\n",
    "* la commune de travail (DCLT)\n",
    "* la catégorie socio-professionnelle (CS1)\n",
    "* le poids individuel (IPONDI). On y reviendra\n",
    "* le mode de transport (TRANS)\n",
    "\n",
    "Certains noms ne sont pas clairs, on va donc **préparer une table de correspondance** en utilisant le dictionnaire suivant :"
   ]
  },
  {
   "cell_type": "code",
   "execution_count": 3,
   "id": "8ce0f053",
   "metadata": {},
   "outputs": [],
   "source": [
    "reno_col={\"COMMUNE\":\"insee_residence\",\"ARM\":\"arrondissement\",\"DCLT\":\"insee_travail\",\"CS1\":\"csp\",\"IPONDI\":\"pindi\",\"TRANS\":\"mode_transport\"}"
   ]
  },
  {
   "cell_type": "markdown",
   "id": "9da54050",
   "metadata": {},
   "source": [
    "Désormais, on peut renommer les colonnes et ne retenir ensuite que celles qui nous intéressent. Traduction : **les valeurs présentes dans le dictionnaire reno_col**.\n",
    "\n",
    "On va, avant chaque taillage d'envergure, **faire une copie de la DF originelle**. Cela évitera de devoir recharger un fichier très volumineux, et est une sécurité en cas de fausse manipulation.\n",
    "\n",
    "Le plan est donc le suivant : copie, renommage des colonnes cibles, et retenue de ces dernières uniquement :"
   ]
  },
  {
   "cell_type": "code",
   "execution_count": 4,
   "id": "ef9b2dc9",
   "metadata": {},
   "outputs": [
    {
     "data": {
      "text/html": [
       "<div>\n",
       "<style scoped>\n",
       "    .dataframe tbody tr th:only-of-type {\n",
       "        vertical-align: middle;\n",
       "    }\n",
       "\n",
       "    .dataframe tbody tr th {\n",
       "        vertical-align: top;\n",
       "    }\n",
       "\n",
       "    .dataframe thead th {\n",
       "        text-align: right;\n",
       "    }\n",
       "</style>\n",
       "<table border=\"1\" class=\"dataframe\">\n",
       "  <thead>\n",
       "    <tr style=\"text-align: right;\">\n",
       "      <th></th>\n",
       "      <th>insee_residence</th>\n",
       "      <th>arrondissement</th>\n",
       "      <th>insee_travail</th>\n",
       "      <th>csp</th>\n",
       "      <th>pindi</th>\n",
       "      <th>mode_transport</th>\n",
       "    </tr>\n",
       "  </thead>\n",
       "  <tbody>\n",
       "    <tr>\n",
       "      <th>7932890</th>\n",
       "      <td>97424</td>\n",
       "      <td>ZZZZZ</td>\n",
       "      <td>97424</td>\n",
       "      <td>4</td>\n",
       "      <td>5.208902</td>\n",
       "      <td>5</td>\n",
       "    </tr>\n",
       "    <tr>\n",
       "      <th>7932891</th>\n",
       "      <td>97424</td>\n",
       "      <td>ZZZZZ</td>\n",
       "      <td>97424</td>\n",
       "      <td>5</td>\n",
       "      <td>5.134249</td>\n",
       "      <td>5</td>\n",
       "    </tr>\n",
       "    <tr>\n",
       "      <th>7932892</th>\n",
       "      <td>97424</td>\n",
       "      <td>ZZZZZ</td>\n",
       "      <td>97424</td>\n",
       "      <td>5</td>\n",
       "      <td>4.846184</td>\n",
       "      <td>5</td>\n",
       "    </tr>\n",
       "    <tr>\n",
       "      <th>7932893</th>\n",
       "      <td>97424</td>\n",
       "      <td>ZZZZZ</td>\n",
       "      <td>97424</td>\n",
       "      <td>2</td>\n",
       "      <td>5.134249</td>\n",
       "      <td>1</td>\n",
       "    </tr>\n",
       "    <tr>\n",
       "      <th>7932894</th>\n",
       "      <td>97424</td>\n",
       "      <td>ZZZZZ</td>\n",
       "      <td>97424</td>\n",
       "      <td>2</td>\n",
       "      <td>5.134249</td>\n",
       "      <td>1</td>\n",
       "    </tr>\n",
       "  </tbody>\n",
       "</table>\n",
       "</div>"
      ],
      "text/plain": [
       "        insee_residence arrondissement insee_travail  csp     pindi  \\\n",
       "7932890           97424          ZZZZZ         97424    4  5.208902   \n",
       "7932891           97424          ZZZZZ         97424    5  5.134249   \n",
       "7932892           97424          ZZZZZ         97424    5  4.846184   \n",
       "7932893           97424          ZZZZZ         97424    2  5.134249   \n",
       "7932894           97424          ZZZZZ         97424    2  5.134249   \n",
       "\n",
       "         mode_transport  \n",
       "7932890               5  \n",
       "7932891               5  \n",
       "7932892               5  \n",
       "7932893               1  \n",
       "7932894               1  "
      ]
     },
     "execution_count": 4,
     "metadata": {},
     "output_type": "execute_result"
    }
   ],
   "source": [
    "mopro_t2018=mopro_2018.copy()\n",
    "mopro_t2018.rename(columns=reno_col, inplace=True)\n",
    "mopro_t2018=mopro_t2018[reno_col.values()]\n",
    "mopro_t2018.tail()"
   ]
  },
  {
   "cell_type": "markdown",
   "id": "4a5ae23a",
   "metadata": {},
   "source": [
    "Il est temps de se pencher sur **[la fameuse colonne de poids individuel](https://www.insee.fr/fr/information/2383243)**, appelée pindi dans la DataFrame ci-dessous. En préambule, je tiens à remercier Victor Alexandre [dont les #DataTaff](https://twitter.com/humeursdevictor/status/1491668662364876800) m'ont grandement aidé à appréhender cette donnée.\n",
    "\n",
    "Pour le résumer vite, **chaque ligne de la BDD ne correspond pas à une personne**, elle est pondérée statistiquement. Pour avoir des effectifs complets, il faut additionner les valeurs de cette colonne. On peut faire quelques observations en visualisant son histogramme :"
   ]
  },
  {
   "cell_type": "code",
   "execution_count": 5,
   "id": "9a2fa734",
   "metadata": {},
   "outputs": [
    {
     "data": {
      "image/png": "[encoded data removed]",
      "text/plain": [
       "<Figure size 432x288 with 1 Axes>"
      ]
     },
     "metadata": {
      "needs_background": "light"
     },
     "output_type": "display_data"
    }
   ],
   "source": [
    "sns.histplot(data=mopro_t2018, x=\"pindi\");"
   ]
  },
  {
   "cell_type": "markdown",
   "id": "72d36bed",
   "metadata": {},
   "source": [
    "Premier constat : [la distribution normale](https://fr.wikipedia.org/wiki/Loi_normale) est loin, très loin. On a aussi très peu de valeurs extrêmes allant à près de 100 pour les maximales, et un important regroupement de poids entre 0 et 10.\n",
    "\n",
    "La **fonction pandas describe** va apporter **quelques informations supplémentaires** :"
   ]
  },
  {
   "cell_type": "code",
   "execution_count": 6,
   "id": "3277a4c3",
   "metadata": {},
   "outputs": [
    {
     "data": {
      "text/plain": [
       "count    7.932895e+06\n",
       "mean     3.408104e+00\n",
       "std      1.454358e+00\n",
       "min      1.666683e-02\n",
       "25%      2.681830e+00\n",
       "50%      3.267721e+00\n",
       "75%      4.983474e+00\n",
       "max      9.083286e+01\n",
       "Name: pindi, dtype: float64"
      ]
     },
     "execution_count": 6,
     "metadata": {},
     "output_type": "execute_result"
    }
   ],
   "source": [
    "mopro_t2018[\"pindi\"].describe()"
   ]
  },
  {
   "cell_type": "markdown",
   "id": "b60b0c7b",
   "metadata": {},
   "source": [
    "Sur ces presque 8 millions d'entrée, la moyenne et la médiane sont assez proches, respectivement à 3,41 et 3,27. Le poids individuel maximum s'établit à 90,83 et le minimum à 0,017. Bref, **on n'est pas sur un schéma une ligne=un individu**.\n",
    "\n",
    "Maintenant, on va faire des sélections de lignes à partir de codes INSEE. Ceux de la Métropole de Lyon sont [dispos sur Wikipedia](https://fr.wikipedia.org/wiki/M%C3%A9tropole_de_Lyon), on va donc activer un petit script de scraping afin de récupérer les codes et les noms de villes, comme ceci :"
   ]
  },
  {
   "cell_type": "code",
   "execution_count": 7,
   "id": "1598d4a1",
   "metadata": {},
   "outputs": [
    {
     "name": "stdout",
     "output_type": "stream",
     "text": [
      "59 59\n"
     ]
    }
   ],
   "source": [
    "# il suffit juste de paramétrer une liste vide qui va abriter l'ensemble des noms\n",
    "ml_insee=[]\n",
    "ml_nom=[]\n",
    "url = \"https://fr.wikipedia.org/wiki/M%C3%A9tropole_de_Lyon\"\n",
    "url = requests.get(url)\n",
    "\n",
    "soupe = BeautifulSoup(url.text, \"lxml\")\n",
    "tableau = soupe.find(\"table\", {\"class\":\"wikitable sortable\"})\n",
    "lignes = tableau.findAll(\"tr\")\n",
    "# à chaque ligne, si les infos d'une ville existe, on sélectionne le deuxième élément pour le glisser dans notre liste\n",
    "for ligne in lignes:\n",
    "    info_ville = ligne.findAll(\"td\")\n",
    "    if info_ville:\n",
    "        ml_nom.append(info_ville[0].get_text().replace(\"\\n\",\"\"))\n",
    "        ml_insee.append(info_ville[1].get_text().replace(\"\\n\",\"\"))\n",
    "\n",
    "print(len(ml_insee),len(ml_nom))"
   ]
  },
  {
   "cell_type": "markdown",
   "id": "945d50ba",
   "metadata": {},
   "source": [
    "Et maintenant ? On va réserver la DF précédente avec une copie, puis **formater les colonnes** insee_residence et insee_travail **en chaînes de caractères** :"
   ]
  },
  {
   "cell_type": "code",
   "execution_count": 8,
   "id": "24157af8",
   "metadata": {},
   "outputs": [],
   "source": [
    "mopro_ml18=mopro_t2018.copy()\n",
    "mopro_ml18[\"insee_residence\"]=mopro_ml18[\"insee_residence\"].astype(str)\n",
    "mopro_ml18[\"insee_travail\"]=mopro_ml18[\"insee_travail\"].astype(str)"
   ]
  },
  {
   "cell_type": "markdown",
   "id": "d89e85c9",
   "metadata": {},
   "source": [
    "Cette conversion va rendre possible la sélection sur les communes de la Métropole de Lyon : **la liste ml_insee étant composée de 59 chaînes de caractères**, on peut filtrer les colonnes bien formatées grâce à la fonction isin.\n",
    "\n",
    "En gros, si une valeur présente dans une colonne se retrouve dans la liste de référence, on retient sa ligne, et exit le reste :"
   ]
  },
  {
   "cell_type": "code",
   "execution_count": 9,
   "id": "84207b28",
   "metadata": {},
   "outputs": [
    {
     "data": {
      "text/html": [
       "<div>\n",
       "<style scoped>\n",
       "    .dataframe tbody tr th:only-of-type {\n",
       "        vertical-align: middle;\n",
       "    }\n",
       "\n",
       "    .dataframe tbody tr th {\n",
       "        vertical-align: top;\n",
       "    }\n",
       "\n",
       "    .dataframe thead th {\n",
       "        text-align: right;\n",
       "    }\n",
       "</style>\n",
       "<table border=\"1\" class=\"dataframe\">\n",
       "  <thead>\n",
       "    <tr style=\"text-align: right;\">\n",
       "      <th></th>\n",
       "      <th>insee_residence</th>\n",
       "      <th>arrondissement</th>\n",
       "      <th>pindi</th>\n",
       "      <th>mode_transport</th>\n",
       "    </tr>\n",
       "  </thead>\n",
       "  <tbody>\n",
       "    <tr>\n",
       "      <th>94417</th>\n",
       "      <td>69296</td>\n",
       "      <td>ZZZZZ</td>\n",
       "      <td>5.064364</td>\n",
       "      <td>5</td>\n",
       "    </tr>\n",
       "    <tr>\n",
       "      <th>94418</th>\n",
       "      <td>69296</td>\n",
       "      <td>ZZZZZ</td>\n",
       "      <td>5.169799</td>\n",
       "      <td>5</td>\n",
       "    </tr>\n",
       "    <tr>\n",
       "      <th>94419</th>\n",
       "      <td>69296</td>\n",
       "      <td>ZZZZZ</td>\n",
       "      <td>5.064364</td>\n",
       "      <td>1</td>\n",
       "    </tr>\n",
       "    <tr>\n",
       "      <th>94420</th>\n",
       "      <td>69296</td>\n",
       "      <td>ZZZZZ</td>\n",
       "      <td>5.064364</td>\n",
       "      <td>1</td>\n",
       "    </tr>\n",
       "    <tr>\n",
       "      <th>94421</th>\n",
       "      <td>69296</td>\n",
       "      <td>ZZZZZ</td>\n",
       "      <td>5.277429</td>\n",
       "      <td>5</td>\n",
       "    </tr>\n",
       "  </tbody>\n",
       "</table>\n",
       "</div>"
      ],
      "text/plain": [
       "      insee_residence arrondissement     pindi  mode_transport\n",
       "94417           69296          ZZZZZ  5.064364               5\n",
       "94418           69296          ZZZZZ  5.169799               5\n",
       "94419           69296          ZZZZZ  5.064364               1\n",
       "94420           69296          ZZZZZ  5.064364               1\n",
       "94421           69296          ZZZZZ  5.277429               5"
      ]
     },
     "execution_count": 9,
     "metadata": {},
     "output_type": "execute_result"
    }
   ],
   "source": [
    "mopro_ml18=mopro_ml18[mopro_ml18[\"insee_residence\"].isin(ml_insee)]\n",
    "mopro_ml18=mopro_ml18[mopro_ml18[\"insee_travail\"].isin(ml_insee)].reset_index(drop=True)\n",
    "# une fois que c'est fait, on vire la colonne insee_travail qui ne sera pas considérée dans le reste de l'analyse\n",
    "mopro_ml18=mopro_ml18[[\"insee_residence\",\"arrondissement\",\"pindi\",\"mode_transport\"]]\n",
    "mopro_ml18.tail()"
   ]
  },
  {
   "cell_type": "markdown",
   "id": "69e60367",
   "metadata": {},
   "source": [
    "Plus de 94 000 lignes retenues sur les huit millions de la BDD initiale. On va maintenant extraire les valeurs uniques de la colonne \"arrondissement\" :"
   ]
  },
  {
   "cell_type": "code",
   "execution_count": 10,
   "id": "68d6ff92",
   "metadata": {},
   "outputs": [
    {
     "data": {
      "text/plain": [
       "array(['ZZZZZ', '69381', '69382', '69383', '69384', '69385', '69386',\n",
       "       '69387', '69388', '69389'], dtype=object)"
      ]
     },
     "execution_count": 10,
     "metadata": {},
     "output_type": "execute_result"
    }
   ],
   "source": [
    "mopro_ml18[\"arrondissement\"].unique()"
   ]
  },
  {
   "cell_type": "markdown",
   "id": "db3fe528",
   "metadata": {},
   "source": [
    "\"ZZZZZ\" et les neufs arrondissements de Lyon ressortent. **Ces \"ZZZZZ\" correspondent-ils aux insee_residence autres que Lyon ?**\n",
    "\n",
    "Pour le vérifier, il suffit de bien paramétrer une requête sur mopro_ml18, avec :\n",
    "* un filtre sur les valeurs non \"ZZZZZ\" dans la Serie pandas \"arrondissement\"\n",
    "* un affichage des valeurs uniques de \"insee_residence\" après cet écrémage. Si notre hypothèse est confirmée, il ne devrait y avoir que \"69123\" (le code INSEE de Lyon)\n",
    "\n",
    "Et en bon Python, cela se passe comme suit :"
   ]
  },
  {
   "cell_type": "code",
   "execution_count": 11,
   "id": "bb6a978d",
   "metadata": {},
   "outputs": [
    {
     "data": {
      "text/plain": [
       "array(['69123'], dtype=object)"
      ]
     },
     "execution_count": 11,
     "metadata": {},
     "output_type": "execute_result"
    }
   ],
   "source": [
    "mopro_ml18[mopro_ml18[\"arrondissement\"]!=\"ZZZZZ\"][\"insee_residence\"].unique()"
   ]
  },
  {
   "cell_type": "markdown",
   "id": "a8cab910",
   "metadata": {},
   "source": [
    "¡Estupendo! On peut aussi vérifier que la proposition inverse est vrai : est-ce que, pour les lignes où insee_residence correspond à \"69123\", on trouve un \"arrondissement\" égale à \"ZZZZZ\" ?"
   ]
  },
  {
   "cell_type": "code",
   "execution_count": 12,
   "id": "7aab5b7e",
   "metadata": {},
   "outputs": [
    {
     "data": {
      "text/plain": [
       "array([False])"
      ]
     },
     "execution_count": 12,
     "metadata": {},
     "output_type": "execute_result"
    }
   ],
   "source": [
    "mopro_ml18[mopro_ml18[\"insee_residence\"]==\"69123\"][\"arrondissement\"].isin([\"ZZZZZ\"]).unique()"
   ]
  },
  {
   "cell_type": "markdown",
   "id": "0c0f3e23",
   "metadata": {},
   "source": [
    "C'est faux ! Dit autrement, aucune ligne concernant la ville de Lyon est associée à un arrondissement égale à \"ZZZZZ\".\n",
    "\n",
    "Ultime vérif : si tout colle, on devrait avoir le même nombre de lignes pour lesquelles le code INSEE de résidence est égal à \"69123\" et la colonne \"arrondissement\" est différente de \"ZZZZZ\" :"
   ]
  },
  {
   "cell_type": "code",
   "execution_count": 13,
   "id": "847355e2",
   "metadata": {},
   "outputs": [
    {
     "name": "stdout",
     "output_type": "stream",
     "text": [
      "24367\n",
      "24367\n"
     ]
    }
   ],
   "source": [
    "print(len(mopro_ml18[mopro_ml18[\"insee_residence\"]==\"69123\"]))\n",
    "print(len(mopro_ml18[mopro_ml18[\"arrondissement\"]!=\"ZZZZZ\"]))"
   ]
  },
  {
   "cell_type": "markdown",
   "id": "ae5b8ffc",
   "metadata": {},
   "source": [
    "24 367 lignes des deux côtés, bien semblables. Pourquoi toutes ces vérifications ? Parce qu'on va modifier la DataFrame afin de **remplacer le code commune de la ville découpée par arrondissements par un arrondissement**.\n",
    "\n",
    "Pour ce faire, nous allons **coder une fonction** qui va :\n",
    "* parcourir une DataFrame de référence ligne par ligne. Chaque ligne sera décrite sous la forme d'un dictionnaire\n",
    "* **si on tombe sur une valeur de remplacement dans une colonne de référence** (par exemple : ce qui n'est pas \"ZZZZZ\" dans arrondissement), on remplace la valeur d'une colonne cible (dans notre cas insee_residence)\n",
    "* on retourne le dico modifié ou non dans une liste déclarée au début\n",
    "* à la toute fin de la fonction, **on transforme cette liste de dictionnaires en DataFrame** renvoyée en résultat\n",
    "\n",
    "Quelques lignes de Python, et l'affaire est réglée :"
   ]
  },
  {
   "cell_type": "code",
   "execution_count": 14,
   "id": "6a11b121",
   "metadata": {},
   "outputs": [],
   "source": [
    "def remplacement_unique(DF:pd.core.frame.DataFrame,col_ref:str,col_cible:str,val_tri:list):\n",
    "    \"\"\"\n",
    "        Cette fonction va parcourir une DataFrame ligne par ligne et considérée une colonne de référence.\n",
    "        Si une valeur qui n'est pas dans une liste de tri est trouvée, on remplace la valeur d'une colonne cible est remplacée.\n",
    "        Exemple : remplacer la commune de Lyon par l'arrondissement indiqué dans une autre colonne.\n",
    "    \"\"\"\n",
    "    l_dico=[]\n",
    "    for i, d in DF.iterrows():\n",
    "        if d[col_ref] not in val_tri:\n",
    "            d[col_cible]=d[col_ref]\n",
    "            l_dico.append(d)\n",
    "        else:\n",
    "            l_dico.append(d)\n",
    "    return pd.DataFrame.from_dict(l_dico, orient=\"columns\")"
   ]
  },
  {
   "cell_type": "markdown",
   "id": "15555417",
   "metadata": {},
   "source": [
    "Avant de tester la fonction, affichons le nombre de codes INSEE uniques pour la colonne de résidencce :"
   ]
  },
  {
   "cell_type": "code",
   "execution_count": 15,
   "id": "5da5b41a",
   "metadata": {},
   "outputs": [
    {
     "name": "stdout",
     "output_type": "stream",
     "text": [
      "59\n"
     ]
    }
   ],
   "source": [
    "print(len(mopro_ml18[\"insee_residence\"].unique()))"
   ]
  },
  {
   "cell_type": "markdown",
   "id": "cba5d573",
   "metadata": {},
   "source": [
    "59, ça colle bien à la liste importée depuis Wikipedia. Si tout va bien, après le passage de la fonction remplacement_unique, on devrait en avoir 67 (59-Lyon+les neuf arrondissements).\n",
    "\n",
    "On teste ? On teste !"
   ]
  },
  {
   "cell_type": "code",
   "execution_count": 16,
   "id": "8d98c965",
   "metadata": {},
   "outputs": [
    {
     "data": {
      "text/plain": [
       "67"
      ]
     },
     "execution_count": 16,
     "metadata": {},
     "output_type": "execute_result"
    }
   ],
   "source": [
    "test=remplacement_unique(mopro_ml18,\"arrondissement\",\"insee_residence\",[\"ZZZZZ\"])\n",
    "len(test[\"insee_residence\"].unique())"
   ]
  },
  {
   "cell_type": "markdown",
   "id": "d41c3c95",
   "metadata": {},
   "source": [
    "C'est conforme. On peut également vérifier que, pour les lignes où arrondissement n'est pas \"ZZZZZ\", on a dans la colonne insee_residence un arrondissement lyonnais, et non plus le 69123 :"
   ]
  },
  {
   "cell_type": "code",
   "execution_count": 17,
   "id": "c1b3a327",
   "metadata": {},
   "outputs": [
    {
     "data": {
      "text/plain": [
       "['69381',\n",
       " '69382',\n",
       " '69383',\n",
       " '69384',\n",
       " '69385',\n",
       " '69386',\n",
       " '69387',\n",
       " '69388',\n",
       " '69389']"
      ]
     },
     "execution_count": 17,
     "metadata": {},
     "output_type": "execute_result"
    }
   ],
   "source": [
    "list(test[test[\"arrondissement\"]!=\"ZZZZZ\"][\"insee_residence\"].unique())"
   ]
  },
  {
   "cell_type": "markdown",
   "id": "ed4cb5ef",
   "metadata": {},
   "source": [
    "Tout ça pour remplacer désormais la variable mopro_m18 par le résultat de la fonction remplacement_unique :"
   ]
  },
  {
   "cell_type": "code",
   "execution_count": 18,
   "id": "3ef5c135",
   "metadata": {},
   "outputs": [
    {
     "data": {
      "text/html": [
       "<div>\n",
       "<style scoped>\n",
       "    .dataframe tbody tr th:only-of-type {\n",
       "        vertical-align: middle;\n",
       "    }\n",
       "\n",
       "    .dataframe tbody tr th {\n",
       "        vertical-align: top;\n",
       "    }\n",
       "\n",
       "    .dataframe thead th {\n",
       "        text-align: right;\n",
       "    }\n",
       "</style>\n",
       "<table border=\"1\" class=\"dataframe\">\n",
       "  <thead>\n",
       "    <tr style=\"text-align: right;\">\n",
       "      <th></th>\n",
       "      <th>insee_residence</th>\n",
       "      <th>pindi</th>\n",
       "      <th>mode_transport</th>\n",
       "    </tr>\n",
       "  </thead>\n",
       "  <tbody>\n",
       "    <tr>\n",
       "      <th>94417</th>\n",
       "      <td>69296</td>\n",
       "      <td>5.064364</td>\n",
       "      <td>5</td>\n",
       "    </tr>\n",
       "    <tr>\n",
       "      <th>94418</th>\n",
       "      <td>69296</td>\n",
       "      <td>5.169799</td>\n",
       "      <td>5</td>\n",
       "    </tr>\n",
       "    <tr>\n",
       "      <th>94419</th>\n",
       "      <td>69296</td>\n",
       "      <td>5.064364</td>\n",
       "      <td>1</td>\n",
       "    </tr>\n",
       "    <tr>\n",
       "      <th>94420</th>\n",
       "      <td>69296</td>\n",
       "      <td>5.064364</td>\n",
       "      <td>1</td>\n",
       "    </tr>\n",
       "    <tr>\n",
       "      <th>94421</th>\n",
       "      <td>69296</td>\n",
       "      <td>5.277429</td>\n",
       "      <td>5</td>\n",
       "    </tr>\n",
       "  </tbody>\n",
       "</table>\n",
       "</div>"
      ],
      "text/plain": [
       "      insee_residence     pindi  mode_transport\n",
       "94417           69296  5.064364               5\n",
       "94418           69296  5.169799               5\n",
       "94419           69296  5.064364               1\n",
       "94420           69296  5.064364               1\n",
       "94421           69296  5.277429               5"
      ]
     },
     "execution_count": 18,
     "metadata": {},
     "output_type": "execute_result"
    }
   ],
   "source": [
    "mopro_ml18=remplacement_unique(mopro_ml18,\"arrondissement\",\"insee_residence\",[\"ZZZZZ\"])\n",
    "mopro_ml18=mopro_ml18[[\"insee_residence\",\"pindi\",\"mode_transport\"]]\n",
    "mopro_ml18.tail()"
   ]
  },
  {
   "cell_type": "markdown",
   "id": "9e03136a",
   "metadata": {},
   "source": [
    "À présent, on va se pencher sur la colonne mode_transport. Il serait beaucoup plus clair **d'avoir les libellés de chaque transport** plutôt qu'un identifiant. \n",
    "\n",
    "Encore une fois, on va utiliser **un dictionnaire de correspondance**, cette fois-ci pour transformer la colonne mode_transport via la fonction map() (et après l'avoir formatée en chaînes de cara) :"
   ]
  },
  {
   "cell_type": "code",
   "execution_count": 19,
   "id": "5ee70a8e",
   "metadata": {},
   "outputs": [
    {
     "data": {
      "text/html": [
       "<div>\n",
       "<style scoped>\n",
       "    .dataframe tbody tr th:only-of-type {\n",
       "        vertical-align: middle;\n",
       "    }\n",
       "\n",
       "    .dataframe tbody tr th {\n",
       "        vertical-align: top;\n",
       "    }\n",
       "\n",
       "    .dataframe thead th {\n",
       "        text-align: right;\n",
       "    }\n",
       "</style>\n",
       "<table border=\"1\" class=\"dataframe\">\n",
       "  <thead>\n",
       "    <tr style=\"text-align: right;\">\n",
       "      <th></th>\n",
       "      <th>insee_residence</th>\n",
       "      <th>pindi</th>\n",
       "      <th>mode_transport</th>\n",
       "    </tr>\n",
       "  </thead>\n",
       "  <tbody>\n",
       "    <tr>\n",
       "      <th>94416</th>\n",
       "      <td>69296</td>\n",
       "      <td>5.169799</td>\n",
       "      <td>voiture, camion ou fourgonnette</td>\n",
       "    </tr>\n",
       "    <tr>\n",
       "      <th>94417</th>\n",
       "      <td>69296</td>\n",
       "      <td>5.064364</td>\n",
       "      <td>voiture, camion ou fourgonnette</td>\n",
       "    </tr>\n",
       "    <tr>\n",
       "      <th>94418</th>\n",
       "      <td>69296</td>\n",
       "      <td>5.169799</td>\n",
       "      <td>voiture, camion ou fourgonnette</td>\n",
       "    </tr>\n",
       "    <tr>\n",
       "      <th>94419</th>\n",
       "      <td>69296</td>\n",
       "      <td>5.064364</td>\n",
       "      <td>aucun</td>\n",
       "    </tr>\n",
       "    <tr>\n",
       "      <th>94420</th>\n",
       "      <td>69296</td>\n",
       "      <td>5.064364</td>\n",
       "      <td>aucun</td>\n",
       "    </tr>\n",
       "    <tr>\n",
       "      <th>94421</th>\n",
       "      <td>69296</td>\n",
       "      <td>5.277429</td>\n",
       "      <td>voiture, camion ou fourgonnette</td>\n",
       "    </tr>\n",
       "  </tbody>\n",
       "</table>\n",
       "</div>"
      ],
      "text/plain": [
       "      insee_residence     pindi                   mode_transport\n",
       "94416           69296  5.169799  voiture, camion ou fourgonnette\n",
       "94417           69296  5.064364  voiture, camion ou fourgonnette\n",
       "94418           69296  5.169799  voiture, camion ou fourgonnette\n",
       "94419           69296  5.064364                            aucun\n",
       "94420           69296  5.064364                            aucun\n",
       "94421           69296  5.277429  voiture, camion ou fourgonnette"
      ]
     },
     "execution_count": 19,
     "metadata": {},
     "output_type": "execute_result"
    }
   ],
   "source": [
    "corres_transport={\"1\":\"aucun\",\"2\":\"à pied\",\"3\":\"vélo\",\"4\":\"deux-roues motorisé\",\"5\":\"voiture, camion ou fourgonnette\",\"6\":\"transports en commun\",\"Z\":\"sans objet\"}\n",
    "mopro_ml18[\"mode_transport\"]=mopro_ml18[\"mode_transport\"].astype(str)\n",
    "mopro_ml18[\"mode_transport\"]=mopro_ml18[\"mode_transport\"].map(corres_transport)\n",
    "mopro_ml18.iloc[-6:]"
   ]
  },
  {
   "cell_type": "markdown",
   "id": "04a68461",
   "metadata": {},
   "source": [
    "Il est temps d'enfin considérer la colonne pindi. Pour commencer, on va additionner tous les poids individuels qui la composent afin d'avoir l'effectif complet :"
   ]
  },
  {
   "cell_type": "code",
   "execution_count": 20,
   "id": "61882d27",
   "metadata": {},
   "outputs": [
    {
     "data": {
      "text/plain": [
       "267553"
      ]
     },
     "execution_count": 20,
     "metadata": {},
     "output_type": "execute_result"
    }
   ],
   "source": [
    "round(mopro_ml18[\"pindi\"].sum())"
   ]
  },
  {
   "cell_type": "markdown",
   "id": "a67382ea",
   "metadata": {},
   "source": [
    "267 553 actifs résidant et travaillant dans la Métropole de Lyon, soit **environ 20% du 1,4 million d'habitants qu'elle compte**. Cette proportion peut paraître faible, et on rappellera qu'il faut notammer retrancher de la population :\n",
    "* les mineurs de moins de 15 ans\n",
    "* les retraités\n",
    "* les étudiants\n",
    "* les personnes sans emploi\n",
    "* les personnes résidant dans la Métropole de Lyon mais travaillant à l'extérieur de celle-ci\n",
    "\n",
    "Notre sélection (résidents et actifs au sein de la Métropole de Lyon) **tend à favoriser certains transports par rapport à d'autres**. Il est fort à parier qu'en considérant les résidents travaillant hors de la métropole les chiffres de la voiture ou des transports en commun (notamment le train) serait plus important. Ce n'est pas un problème, il suffit juste d'être au clair sur cette sélection dans l'article.\n",
    "\n",
    "Par simple curiosité, visualisons la répartition de ces poids individuels :"
   ]
  },
  {
   "cell_type": "code",
   "execution_count": 21,
   "id": "247d1883",
   "metadata": {},
   "outputs": [
    {
     "data": {
      "image/png": "[encoded data removed]",
      "text/plain": [
       "<Figure size 432x288 with 1 Axes>"
      ]
     },
     "metadata": {
      "needs_background": "light"
     },
     "output_type": "display_data"
    }
   ],
   "source": [
    "sns.histplot(data=mopro_ml18, x=\"pindi\");"
   ]
  },
  {
   "cell_type": "markdown",
   "id": "bd2b6b03",
   "metadata": {},
   "source": [
    "En résumé, en comparaison de la BDD initiale :\n",
    "* des extrêmes moins marqués, avec un maximum autour de 12\n",
    "* des pics notables aux alentours de 1 (sûrement beaucoup de célibataires) et de 5\n",
    "* une cloche assez symétrique de 2 à 5 sans doute liée aux plupart des familles.\n",
    "\n",
    "On va regrouper les effectifs par mode de transport grâce à la [fonction groupby()](https://pandas.pydata.org/docs/reference/api/pandas.DataFrame.groupby.html). Cela se passe comme suit :"
   ]
  },
  {
   "cell_type": "code",
   "execution_count": 22,
   "id": "757474d1",
   "metadata": {},
   "outputs": [
    {
     "data": {
      "text/html": [
       "<div>\n",
       "<style scoped>\n",
       "    .dataframe tbody tr th:only-of-type {\n",
       "        vertical-align: middle;\n",
       "    }\n",
       "\n",
       "    .dataframe tbody tr th {\n",
       "        vertical-align: top;\n",
       "    }\n",
       "\n",
       "    .dataframe thead th {\n",
       "        text-align: right;\n",
       "    }\n",
       "</style>\n",
       "<table border=\"1\" class=\"dataframe\">\n",
       "  <thead>\n",
       "    <tr style=\"text-align: right;\">\n",
       "      <th></th>\n",
       "      <th>insee_residence</th>\n",
       "      <th>mode_transport</th>\n",
       "      <th>effectif</th>\n",
       "    </tr>\n",
       "  </thead>\n",
       "  <tbody>\n",
       "    <tr>\n",
       "      <th>381</th>\n",
       "      <td>69389</td>\n",
       "      <td>aucun</td>\n",
       "      <td>1</td>\n",
       "    </tr>\n",
       "    <tr>\n",
       "      <th>382</th>\n",
       "      <td>69389</td>\n",
       "      <td>deux-roues motorisé</td>\n",
       "      <td>98</td>\n",
       "    </tr>\n",
       "    <tr>\n",
       "      <th>383</th>\n",
       "      <td>69389</td>\n",
       "      <td>transports en commun</td>\n",
       "      <td>2370</td>\n",
       "    </tr>\n",
       "    <tr>\n",
       "      <th>384</th>\n",
       "      <td>69389</td>\n",
       "      <td>voiture, camion ou fourgonnette</td>\n",
       "      <td>3804</td>\n",
       "    </tr>\n",
       "    <tr>\n",
       "      <th>385</th>\n",
       "      <td>69389</td>\n",
       "      <td>vélo</td>\n",
       "      <td>142</td>\n",
       "    </tr>\n",
       "    <tr>\n",
       "      <th>386</th>\n",
       "      <td>69389</td>\n",
       "      <td>à pied</td>\n",
       "      <td>123</td>\n",
       "    </tr>\n",
       "  </tbody>\n",
       "</table>\n",
       "</div>"
      ],
      "text/plain": [
       "    insee_residence                   mode_transport  effectif\n",
       "381           69389                            aucun         1\n",
       "382           69389              deux-roues motorisé        98\n",
       "383           69389             transports en commun      2370\n",
       "384           69389  voiture, camion ou fourgonnette      3804\n",
       "385           69389                             vélo       142\n",
       "386           69389                           à pied       123"
      ]
     },
     "execution_count": 22,
     "metadata": {},
     "output_type": "execute_result"
    }
   ],
   "source": [
    "mopro_ml18=mopro_ml18.groupby(by=[\"insee_residence\",\"mode_transport\"]).sum().reset_index()\n",
    "mopro_ml18[\"pindi\"]=round(mopro_ml18[\"pindi\"])\n",
    "mopro_ml18[\"pindi\"]=mopro_ml18[\"pindi\"].astype(int)\n",
    "mopro_ml18.rename(columns={\"pindi\":\"effectif\"},inplace=True)\n",
    "mopro_ml18.iloc[-6:]"
   ]
  },
  {
   "cell_type": "markdown",
   "id": "8c8942d8",
   "metadata": {},
   "source": [
    "Petite vérif au passage afin d'être sûr qu'il n'y ait pas eu d'erreur de calcul :"
   ]
  },
  {
   "cell_type": "code",
   "execution_count": 23,
   "id": "a7d9fe1b",
   "metadata": {},
   "outputs": [
    {
     "data": {
      "text/plain": [
       "267557"
      ]
     },
     "execution_count": 23,
     "metadata": {},
     "output_type": "execute_result"
    }
   ],
   "source": [
    "mopro_ml18[\"effectif\"].sum()"
   ]
  },
  {
   "cell_type": "markdown",
   "id": "31c85c87",
   "metadata": {},
   "source": [
    "Quatre personnes en trop, soit une goutte d'eau dans un océan. On continue avec **l'ajout d'une colonne de contextualisation, qui stockera le nom des communes**.\n",
    "\n",
    "Pour rappel, on a récupéré lors de la phase de scraping les communes de la Métropole de Lyon. Il va falloir :\n",
    "* retrancher des tableaux ml_insee et ml_nom Lyon (respectivement \"69123\" et \"Lyon(siège\") \n",
    "* ajouter les arrondissement. Côté INSEE, c'est simple : ils commencent par \"6938\" et se terminent par le numéro d'arrondissement. Côté noms ça l'est tout autant, en prévoyant juste le cas particulier du premier arrondissement"
   ]
  },
  {
   "cell_type": "code",
   "execution_count": 24,
   "id": "f9de389c",
   "metadata": {},
   "outputs": [
    {
     "name": "stdout",
     "output_type": "stream",
     "text": [
      "67 67\n"
     ]
    }
   ],
   "source": [
    "# on réserve les communes strictes de la métropole pour plus tard !\n",
    "# attention au [:] pour bien entériner une copie de metropole_lyon (et non une référence)\n",
    "\n",
    "# et on crée une liste avec les codes INSEE de chaque arrondissement lyonnais\n",
    "insee_lyon=[]\n",
    "com_lyon=[]\n",
    "for i in range(1,10):\n",
    "    insee_lyon.append(\"6938\"+str(i))\n",
    "    if i!=1:\n",
    "        com_lyon.append(str(i)+\"e arrondissement de Lyon\")\n",
    "    else:\n",
    "        com_lyon.append(\"1er arrondissement de Lyon\")\n",
    "\n",
    "ml_arr=ml_insee[:]\n",
    "ml_arr.remove(\"69123\")\n",
    "ml_arr.extend(insee_lyon)\n",
    "\n",
    "ml_arrn=ml_nom[:]\n",
    "ml_arrn.remove(\"Lyon(siège)\")\n",
    "ml_arrn.extend(com_lyon)\n",
    "\n",
    "print(len(ml_arr), len(ml_arrn))"
   ]
  },
  {
   "cell_type": "markdown",
   "id": "3805cdfe",
   "metadata": {},
   "source": [
    "Grâce à cela, on va créer une table de correspondance grâce à **[une bonne vieille compréhension de dictionnaire](https://www.datacamp.com/community/tutorials/python-dictionary-comprehension)** :"
   ]
  },
  {
   "cell_type": "code",
   "execution_count": 25,
   "id": "38c9e3fc",
   "metadata": {},
   "outputs": [],
   "source": [
    "dic_ml={k:v.split(\"(\")[0] for k,v in zip(ml_arr, ml_arrn)}\n",
    "# si vous voulez afficher l'ensemble du dico, décommentez la ligne suivante\n",
    "#dic_ml"
   ]
  },
  {
   "cell_type": "markdown",
   "id": "d1f3de68",
   "metadata": {},
   "source": [
    "La suite est connue, on crée une nouvelle colonne en mappant la colonne insee_residence à partir des clés/valeurs de dic_ml :"
   ]
  },
  {
   "cell_type": "code",
   "execution_count": 26,
   "id": "bf4bfbca",
   "metadata": {},
   "outputs": [
    {
     "data": {
      "text/html": [
       "<div>\n",
       "<style scoped>\n",
       "    .dataframe tbody tr th:only-of-type {\n",
       "        vertical-align: middle;\n",
       "    }\n",
       "\n",
       "    .dataframe tbody tr th {\n",
       "        vertical-align: top;\n",
       "    }\n",
       "\n",
       "    .dataframe thead th {\n",
       "        text-align: right;\n",
       "    }\n",
       "</style>\n",
       "<table border=\"1\" class=\"dataframe\">\n",
       "  <thead>\n",
       "    <tr style=\"text-align: right;\">\n",
       "      <th></th>\n",
       "      <th>residence</th>\n",
       "      <th>insee_residence</th>\n",
       "      <th>mode_transport</th>\n",
       "      <th>effectif</th>\n",
       "    </tr>\n",
       "  </thead>\n",
       "  <tbody>\n",
       "    <tr>\n",
       "      <th>381</th>\n",
       "      <td>9e arrondissement de Lyon</td>\n",
       "      <td>69389</td>\n",
       "      <td>aucun</td>\n",
       "      <td>1</td>\n",
       "    </tr>\n",
       "    <tr>\n",
       "      <th>382</th>\n",
       "      <td>9e arrondissement de Lyon</td>\n",
       "      <td>69389</td>\n",
       "      <td>deux-roues motorisé</td>\n",
       "      <td>98</td>\n",
       "    </tr>\n",
       "    <tr>\n",
       "      <th>383</th>\n",
       "      <td>9e arrondissement de Lyon</td>\n",
       "      <td>69389</td>\n",
       "      <td>transports en commun</td>\n",
       "      <td>2370</td>\n",
       "    </tr>\n",
       "    <tr>\n",
       "      <th>384</th>\n",
       "      <td>9e arrondissement de Lyon</td>\n",
       "      <td>69389</td>\n",
       "      <td>voiture, camion ou fourgonnette</td>\n",
       "      <td>3804</td>\n",
       "    </tr>\n",
       "    <tr>\n",
       "      <th>385</th>\n",
       "      <td>9e arrondissement de Lyon</td>\n",
       "      <td>69389</td>\n",
       "      <td>vélo</td>\n",
       "      <td>142</td>\n",
       "    </tr>\n",
       "    <tr>\n",
       "      <th>386</th>\n",
       "      <td>9e arrondissement de Lyon</td>\n",
       "      <td>69389</td>\n",
       "      <td>à pied</td>\n",
       "      <td>123</td>\n",
       "    </tr>\n",
       "  </tbody>\n",
       "</table>\n",
       "</div>"
      ],
      "text/plain": [
       "                     residence insee_residence  \\\n",
       "381  9e arrondissement de Lyon           69389   \n",
       "382  9e arrondissement de Lyon           69389   \n",
       "383  9e arrondissement de Lyon           69389   \n",
       "384  9e arrondissement de Lyon           69389   \n",
       "385  9e arrondissement de Lyon           69389   \n",
       "386  9e arrondissement de Lyon           69389   \n",
       "\n",
       "                      mode_transport  effectif  \n",
       "381                            aucun         1  \n",
       "382              deux-roues motorisé        98  \n",
       "383             transports en commun      2370  \n",
       "384  voiture, camion ou fourgonnette      3804  \n",
       "385                             vélo       142  \n",
       "386                           à pied       123  "
      ]
     },
     "execution_count": 26,
     "metadata": {},
     "output_type": "execute_result"
    }
   ],
   "source": [
    "mopro_ml18[\"residence\"]=mopro_ml18[\"insee_residence\"].map(dic_ml)\n",
    "mopro_ml18=mopro_ml18[[\"residence\",\"insee_residence\",\"mode_transport\",\"effectif\"]]\n",
    "mopro_ml18.iloc[-6:]"
   ]
  },
  {
   "cell_type": "markdown",
   "id": "1debb800",
   "metadata": {},
   "source": [
    "À partir de là, le fin du fin serait d'avoir une ligne par commune. Et pour cela, l'étape obligée s'appelle \"tableau croisé dynamique\".\n",
    "\n",
    "Cela se code très facilement avec pandas grâce à la fonction pivot_table. Pour rappel, **il faut prendre en compte trois paramètres** :\n",
    "* les **index**, c'est-à-dire les **colonnes qui vont rester figées**. Dans notre cas ce seront resident et insee_residence car on veut une ligne et une seule pour chacune de leur valeur\n",
    "* une **colonne dont chaque valeur unique va être transformée en colonne à part**. Ici ce sera mode_transport, et on aura à l'arrivée une colonne pour le vélo, la voiture, etc\n",
    "* une **colonne de valeurs à répartir entre les nouvelles colonnes**. Par ici c'est limpide, ce sera effectif"
   ]
  },
  {
   "cell_type": "code",
   "execution_count": 27,
   "id": "3ef2f321",
   "metadata": {},
   "outputs": [
    {
     "data": {
      "text/html": [
       "<div>\n",
       "<style scoped>\n",
       "    .dataframe tbody tr th:only-of-type {\n",
       "        vertical-align: middle;\n",
       "    }\n",
       "\n",
       "    .dataframe tbody tr th {\n",
       "        vertical-align: top;\n",
       "    }\n",
       "\n",
       "    .dataframe thead th {\n",
       "        text-align: right;\n",
       "    }\n",
       "</style>\n",
       "<table border=\"1\" class=\"dataframe\">\n",
       "  <thead>\n",
       "    <tr style=\"text-align: right;\">\n",
       "      <th></th>\n",
       "      <th>residence</th>\n",
       "      <th>insee_residence</th>\n",
       "      <th>effectif_aucun</th>\n",
       "      <th>effectif_deux-roues motorisé</th>\n",
       "      <th>effectif_transports en commun</th>\n",
       "      <th>effectif_voiture, camion ou fourgonnette</th>\n",
       "      <th>effectif_vélo</th>\n",
       "      <th>effectif_à pied</th>\n",
       "    </tr>\n",
       "  </thead>\n",
       "  <tbody>\n",
       "    <tr>\n",
       "      <th>62</th>\n",
       "      <td>Vaulx-en-Velin</td>\n",
       "      <td>69256</td>\n",
       "      <td>348.0</td>\n",
       "      <td>67.0</td>\n",
       "      <td>2469.0</td>\n",
       "      <td>6499.0</td>\n",
       "      <td>220.0</td>\n",
       "      <td>869.0</td>\n",
       "    </tr>\n",
       "    <tr>\n",
       "      <th>63</th>\n",
       "      <td>Vernaison</td>\n",
       "      <td>69260</td>\n",
       "      <td>50.0</td>\n",
       "      <td>5.0</td>\n",
       "      <td>55.0</td>\n",
       "      <td>936.0</td>\n",
       "      <td>NaN</td>\n",
       "      <td>56.0</td>\n",
       "    </tr>\n",
       "    <tr>\n",
       "      <th>64</th>\n",
       "      <td>Villeurbanne</td>\n",
       "      <td>69266</td>\n",
       "      <td>1676.0</td>\n",
       "      <td>350.0</td>\n",
       "      <td>10744.0</td>\n",
       "      <td>14539.0</td>\n",
       "      <td>2259.0</td>\n",
       "      <td>4760.0</td>\n",
       "    </tr>\n",
       "    <tr>\n",
       "      <th>65</th>\n",
       "      <td>Vénissieux</td>\n",
       "      <td>69259</td>\n",
       "      <td>510.0</td>\n",
       "      <td>117.0</td>\n",
       "      <td>2960.0</td>\n",
       "      <td>8055.0</td>\n",
       "      <td>218.0</td>\n",
       "      <td>882.0</td>\n",
       "    </tr>\n",
       "    <tr>\n",
       "      <th>66</th>\n",
       "      <td>Écully</td>\n",
       "      <td>69081</td>\n",
       "      <td>396.0</td>\n",
       "      <td>81.0</td>\n",
       "      <td>472.0</td>\n",
       "      <td>2514.0</td>\n",
       "      <td>59.0</td>\n",
       "      <td>305.0</td>\n",
       "    </tr>\n",
       "  </tbody>\n",
       "</table>\n",
       "</div>"
      ],
      "text/plain": [
       "         residence insee_residence  effectif_aucun  \\\n",
       "62  Vaulx-en-Velin           69256           348.0   \n",
       "63       Vernaison           69260            50.0   \n",
       "64    Villeurbanne           69266          1676.0   \n",
       "65      Vénissieux           69259           510.0   \n",
       "66          Écully           69081           396.0   \n",
       "\n",
       "    effectif_deux-roues motorisé  effectif_transports en commun  \\\n",
       "62                          67.0                         2469.0   \n",
       "63                           5.0                           55.0   \n",
       "64                         350.0                        10744.0   \n",
       "65                         117.0                         2960.0   \n",
       "66                          81.0                          472.0   \n",
       "\n",
       "    effectif_voiture, camion ou fourgonnette  effectif_vélo  effectif_à pied  \n",
       "62                                    6499.0          220.0            869.0  \n",
       "63                                     936.0            NaN             56.0  \n",
       "64                                   14539.0         2259.0           4760.0  \n",
       "65                                    8055.0          218.0            882.0  \n",
       "66                                    2514.0           59.0            305.0  "
      ]
     },
     "execution_count": 27,
     "metadata": {},
     "output_type": "execute_result"
    }
   ],
   "source": [
    "mopro_ml18=mopro_ml18.pivot_table(index=[\"residence\",\"insee_residence\"], columns=[\"mode_transport\"], values=[\"effectif\"])\n",
    "mopro_ml18.columns=mopro_ml18.columns.map('_'.join)\n",
    "mopro_ml18=mopro_ml18.reset_index()\n",
    "mopro_ml18.tail()"
   ]
  },
  {
   "cell_type": "markdown",
   "id": "b36bae07",
   "metadata": {},
   "source": [
    "Quelques remarques :\n",
    "* 67 lignes dans la DF, c'est conforme à ce qu'on attendait\n",
    "* **certaines cellules contiennent des Not a Number** (NaN). Cela arrive quand on n'a aucune valeur à fournir pour un mode de transport\n",
    "\n",
    "Pandas intègre une **fonction de remplissage automatique**, [fillna()](https://pandas.pydata.org/docs/reference/api/pandas.DataFrame.fillna.html). On va remplacer grâce à elle **les NaN par des zéros**, et également : \n",
    "* reconvertir les colonnes d'effectifs en nombres entiers\n",
    "* les renommer, pour l'hygiène"
   ]
  },
  {
   "cell_type": "code",
   "execution_count": 28,
   "id": "4d781cc9",
   "metadata": {},
   "outputs": [
    {
     "data": {
      "text/html": [
       "<div>\n",
       "<style scoped>\n",
       "    .dataframe tbody tr th:only-of-type {\n",
       "        vertical-align: middle;\n",
       "    }\n",
       "\n",
       "    .dataframe tbody tr th {\n",
       "        vertical-align: top;\n",
       "    }\n",
       "\n",
       "    .dataframe thead th {\n",
       "        text-align: right;\n",
       "    }\n",
       "</style>\n",
       "<table border=\"1\" class=\"dataframe\">\n",
       "  <thead>\n",
       "    <tr style=\"text-align: right;\">\n",
       "      <th></th>\n",
       "      <th>residence</th>\n",
       "      <th>insee_residence</th>\n",
       "      <th>aucun</th>\n",
       "      <th>deux-roues</th>\n",
       "      <th>tec</th>\n",
       "      <th>voiture</th>\n",
       "      <th>velo</th>\n",
       "      <th>pied</th>\n",
       "    </tr>\n",
       "  </thead>\n",
       "  <tbody>\n",
       "    <tr>\n",
       "      <th>62</th>\n",
       "      <td>Vaulx-en-Velin</td>\n",
       "      <td>69256</td>\n",
       "      <td>348</td>\n",
       "      <td>67</td>\n",
       "      <td>2469</td>\n",
       "      <td>6499</td>\n",
       "      <td>220</td>\n",
       "      <td>869</td>\n",
       "    </tr>\n",
       "    <tr>\n",
       "      <th>63</th>\n",
       "      <td>Vernaison</td>\n",
       "      <td>69260</td>\n",
       "      <td>50</td>\n",
       "      <td>5</td>\n",
       "      <td>55</td>\n",
       "      <td>936</td>\n",
       "      <td>0</td>\n",
       "      <td>56</td>\n",
       "    </tr>\n",
       "    <tr>\n",
       "      <th>64</th>\n",
       "      <td>Villeurbanne</td>\n",
       "      <td>69266</td>\n",
       "      <td>1676</td>\n",
       "      <td>350</td>\n",
       "      <td>10744</td>\n",
       "      <td>14539</td>\n",
       "      <td>2259</td>\n",
       "      <td>4760</td>\n",
       "    </tr>\n",
       "    <tr>\n",
       "      <th>65</th>\n",
       "      <td>Vénissieux</td>\n",
       "      <td>69259</td>\n",
       "      <td>510</td>\n",
       "      <td>117</td>\n",
       "      <td>2960</td>\n",
       "      <td>8055</td>\n",
       "      <td>218</td>\n",
       "      <td>882</td>\n",
       "    </tr>\n",
       "    <tr>\n",
       "      <th>66</th>\n",
       "      <td>Écully</td>\n",
       "      <td>69081</td>\n",
       "      <td>396</td>\n",
       "      <td>81</td>\n",
       "      <td>472</td>\n",
       "      <td>2514</td>\n",
       "      <td>59</td>\n",
       "      <td>305</td>\n",
       "    </tr>\n",
       "  </tbody>\n",
       "</table>\n",
       "</div>"
      ],
      "text/plain": [
       "         residence insee_residence  aucun  deux-roues    tec  voiture  velo  \\\n",
       "62  Vaulx-en-Velin           69256    348          67   2469     6499   220   \n",
       "63       Vernaison           69260     50           5     55      936     0   \n",
       "64    Villeurbanne           69266   1676         350  10744    14539  2259   \n",
       "65      Vénissieux           69259    510         117   2960     8055   218   \n",
       "66          Écully           69081    396          81    472     2514    59   \n",
       "\n",
       "    pied  \n",
       "62   869  \n",
       "63    56  \n",
       "64  4760  \n",
       "65   882  \n",
       "66   305  "
      ]
     },
     "execution_count": 28,
     "metadata": {},
     "output_type": "execute_result"
    }
   ],
   "source": [
    "mopro_ml18.fillna(0,inplace=True)\n",
    "for c in [\"effectif_aucun\",\"effectif_deux-roues motorisé\",\"effectif_transports en commun\",\"effectif_voiture, camion ou fourgonnette\",\"effectif_vélo\",\"effectif_à pied\"]:\n",
    "    mopro_ml18[c]=mopro_ml18[c].astype(int)\n",
    "mopro_ml18.rename(columns={\"effectif_aucun\":\"aucun\",\"effectif_deux-roues motorisé\":\"deux-roues\",\"effectif_transports en commun\":\"tec\",\"effectif_voiture, camion ou fourgonnette\":\"voiture\",\"effectif_vélo\":\"velo\",\"effectif_à pied\":\"pied\"}, inplace=True)\n",
    "mopro_ml18.tail()"
   ]
  },
  {
   "cell_type": "markdown",
   "id": "905dc8d8",
   "metadata": {},
   "source": [
    "On va faire vite, avec la création d'une nouvelle colonne d'ensemble qui additionne les colonnes de transport :"
   ]
  },
  {
   "cell_type": "code",
   "execution_count": 29,
   "id": "777a570c",
   "metadata": {},
   "outputs": [
    {
     "data": {
      "text/html": [
       "<div>\n",
       "<style scoped>\n",
       "    .dataframe tbody tr th:only-of-type {\n",
       "        vertical-align: middle;\n",
       "    }\n",
       "\n",
       "    .dataframe tbody tr th {\n",
       "        vertical-align: top;\n",
       "    }\n",
       "\n",
       "    .dataframe thead th {\n",
       "        text-align: right;\n",
       "    }\n",
       "</style>\n",
       "<table border=\"1\" class=\"dataframe\">\n",
       "  <thead>\n",
       "    <tr style=\"text-align: right;\">\n",
       "      <th></th>\n",
       "      <th>residence</th>\n",
       "      <th>insee_residence</th>\n",
       "      <th>aucun</th>\n",
       "      <th>deux-roues</th>\n",
       "      <th>tec</th>\n",
       "      <th>voiture</th>\n",
       "      <th>velo</th>\n",
       "      <th>pied</th>\n",
       "      <th>ensemble</th>\n",
       "    </tr>\n",
       "  </thead>\n",
       "  <tbody>\n",
       "    <tr>\n",
       "      <th>62</th>\n",
       "      <td>Vaulx-en-Velin</td>\n",
       "      <td>69256</td>\n",
       "      <td>348</td>\n",
       "      <td>67</td>\n",
       "      <td>2469</td>\n",
       "      <td>6499</td>\n",
       "      <td>220</td>\n",
       "      <td>869</td>\n",
       "      <td>10472</td>\n",
       "    </tr>\n",
       "    <tr>\n",
       "      <th>63</th>\n",
       "      <td>Vernaison</td>\n",
       "      <td>69260</td>\n",
       "      <td>50</td>\n",
       "      <td>5</td>\n",
       "      <td>55</td>\n",
       "      <td>936</td>\n",
       "      <td>0</td>\n",
       "      <td>56</td>\n",
       "      <td>1102</td>\n",
       "    </tr>\n",
       "    <tr>\n",
       "      <th>64</th>\n",
       "      <td>Villeurbanne</td>\n",
       "      <td>69266</td>\n",
       "      <td>1676</td>\n",
       "      <td>350</td>\n",
       "      <td>10744</td>\n",
       "      <td>14539</td>\n",
       "      <td>2259</td>\n",
       "      <td>4760</td>\n",
       "      <td>34328</td>\n",
       "    </tr>\n",
       "    <tr>\n",
       "      <th>65</th>\n",
       "      <td>Vénissieux</td>\n",
       "      <td>69259</td>\n",
       "      <td>510</td>\n",
       "      <td>117</td>\n",
       "      <td>2960</td>\n",
       "      <td>8055</td>\n",
       "      <td>218</td>\n",
       "      <td>882</td>\n",
       "      <td>12742</td>\n",
       "    </tr>\n",
       "    <tr>\n",
       "      <th>66</th>\n",
       "      <td>Écully</td>\n",
       "      <td>69081</td>\n",
       "      <td>396</td>\n",
       "      <td>81</td>\n",
       "      <td>472</td>\n",
       "      <td>2514</td>\n",
       "      <td>59</td>\n",
       "      <td>305</td>\n",
       "      <td>3827</td>\n",
       "    </tr>\n",
       "  </tbody>\n",
       "</table>\n",
       "</div>"
      ],
      "text/plain": [
       "         residence insee_residence  aucun  deux-roues    tec  voiture  velo  \\\n",
       "62  Vaulx-en-Velin           69256    348          67   2469     6499   220   \n",
       "63       Vernaison           69260     50           5     55      936     0   \n",
       "64    Villeurbanne           69266   1676         350  10744    14539  2259   \n",
       "65      Vénissieux           69259    510         117   2960     8055   218   \n",
       "66          Écully           69081    396          81    472     2514    59   \n",
       "\n",
       "    pied  ensemble  \n",
       "62   869     10472  \n",
       "63    56      1102  \n",
       "64  4760     34328  \n",
       "65   882     12742  \n",
       "66   305      3827  "
      ]
     },
     "execution_count": 29,
     "metadata": {},
     "output_type": "execute_result"
    }
   ],
   "source": [
    "mopro_ml18[\"ensemble\"]=mopro_ml18[\"aucun\"]+mopro_ml18[\"deux-roues\"]+mopro_ml18[\"tec\"]+mopro_ml18[\"voiture\"]+mopro_ml18[\"velo\"]+mopro_ml18[\"pied\"]\n",
    "mopro_ml18.tail()"
   ]
  },
  {
   "cell_type": "markdown",
   "id": "e7b6a8a7",
   "metadata": {},
   "source": [
    "On peut aussi (et ça aura son importance lors d'une éventuelle factorisation) **utiliser le module Numpy** pour additionner le tout sans avoir à écrire enn dur les colonnes à additionner une par une. \n",
    "\n",
    "Par exemple, en créant un premier array Numpy puis contenant six tableaux de soixante-sept entrées et en additionnant par sextuor d'entrées.\n",
    "\n",
    "Pour le faire vite :"
   ]
  },
  {
   "cell_type": "code",
   "execution_count": 30,
   "id": "edb8fede",
   "metadata": {},
   "outputs": [
    {
     "data": {
      "text/plain": [
       "{True}"
      ]
     },
     "execution_count": 30,
     "metadata": {},
     "output_type": "execute_result"
    }
   ],
   "source": [
    "ensemble_np=np.array([mopro_ml18[c] for c in [\"aucun\",\"deux-roues\",\"tec\",\"voiture\",\"velo\",\"pied\"]])\n",
    "ensemble_np=[np.sum(ensemble_np[:,i]) for i in range(len(ensemble_np[0]))]\n",
    "mopro_ml18[\"ensemble_np\"]=list(ensemble_np)\n",
    "set(list(mopro_ml18[\"ensemble_np\"]==mopro_ml18[\"ensemble\"]))"
   ]
  },
  {
   "cell_type": "markdown",
   "id": "c8f8fbdd",
   "metadata": {},
   "source": [
    "Parfait, retour à la situation initiale :"
   ]
  },
  {
   "cell_type": "code",
   "execution_count": 31,
   "id": "df55a434",
   "metadata": {},
   "outputs": [],
   "source": [
    "mopro_ml18=mopro_ml18[[\"residence\",\"insee_residence\",\"aucun\",\"deux-roues\",\"tec\",\"voiture\",\"velo\",\"pied\",\"ensemble\"]]"
   ]
  },
  {
   "cell_type": "markdown",
   "id": "e9c09c7c",
   "metadata": {},
   "source": [
    "Deux vérifications, à ce stade. En premier lieu, s'assurer que la somme des effectifs est conforme à ce qui avait été observé avant :"
   ]
  },
  {
   "cell_type": "code",
   "execution_count": 32,
   "id": "fd90faa1",
   "metadata": {},
   "outputs": [
    {
     "data": {
      "text/plain": [
       "267557"
      ]
     },
     "execution_count": 32,
     "metadata": {},
     "output_type": "execute_result"
    }
   ],
   "source": [
    "mopro_ml18[\"ensemble\"].sum()"
   ]
  },
  {
   "cell_type": "markdown",
   "id": "da688944",
   "metadata": {},
   "source": [
    "Aucun problème de ce côté-là. On peut aussi trier les villes par la colonne ensemble, et vérifier que c'est cohérent avec les chiffres connus (divulgâchage, ça l'est) :"
   ]
  },
  {
   "cell_type": "code",
   "execution_count": 33,
   "id": "c0237f71",
   "metadata": {
    "scrolled": true
   },
   "outputs": [
    {
     "data": {
      "text/html": [
       "<div>\n",
       "<style scoped>\n",
       "    .dataframe tbody tr th:only-of-type {\n",
       "        vertical-align: middle;\n",
       "    }\n",
       "\n",
       "    .dataframe tbody tr th {\n",
       "        vertical-align: top;\n",
       "    }\n",
       "\n",
       "    .dataframe thead th {\n",
       "        text-align: right;\n",
       "    }\n",
       "</style>\n",
       "<table border=\"1\" class=\"dataframe\">\n",
       "  <thead>\n",
       "    <tr style=\"text-align: right;\">\n",
       "      <th></th>\n",
       "      <th>residence</th>\n",
       "      <th>insee_residence</th>\n",
       "      <th>aucun</th>\n",
       "      <th>deux-roues</th>\n",
       "      <th>tec</th>\n",
       "      <th>voiture</th>\n",
       "      <th>velo</th>\n",
       "      <th>pied</th>\n",
       "      <th>ensemble</th>\n",
       "    </tr>\n",
       "  </thead>\n",
       "  <tbody>\n",
       "    <tr>\n",
       "      <th>0</th>\n",
       "      <td>Villeurbanne</td>\n",
       "      <td>69266</td>\n",
       "      <td>1676</td>\n",
       "      <td>350</td>\n",
       "      <td>10744</td>\n",
       "      <td>14539</td>\n",
       "      <td>2259</td>\n",
       "      <td>4760</td>\n",
       "      <td>34328</td>\n",
       "    </tr>\n",
       "    <tr>\n",
       "      <th>1</th>\n",
       "      <td>3e arrondissement de Lyon</td>\n",
       "      <td>69383</td>\n",
       "      <td>11</td>\n",
       "      <td>233</td>\n",
       "      <td>5245</td>\n",
       "      <td>6619</td>\n",
       "      <td>1172</td>\n",
       "      <td>510</td>\n",
       "      <td>13790</td>\n",
       "    </tr>\n",
       "    <tr>\n",
       "      <th>2</th>\n",
       "      <td>Vénissieux</td>\n",
       "      <td>69259</td>\n",
       "      <td>510</td>\n",
       "      <td>117</td>\n",
       "      <td>2960</td>\n",
       "      <td>8055</td>\n",
       "      <td>218</td>\n",
       "      <td>882</td>\n",
       "      <td>12742</td>\n",
       "    </tr>\n",
       "    <tr>\n",
       "      <th>3</th>\n",
       "      <td>Saint-Priest</td>\n",
       "      <td>69290</td>\n",
       "      <td>558</td>\n",
       "      <td>85</td>\n",
       "      <td>1581</td>\n",
       "      <td>8824</td>\n",
       "      <td>252</td>\n",
       "      <td>745</td>\n",
       "      <td>12045</td>\n",
       "    </tr>\n",
       "    <tr>\n",
       "      <th>4</th>\n",
       "      <td>8e arrondissement de Lyon</td>\n",
       "      <td>69388</td>\n",
       "      <td>14</td>\n",
       "      <td>129</td>\n",
       "      <td>3765</td>\n",
       "      <td>6490</td>\n",
       "      <td>623</td>\n",
       "      <td>242</td>\n",
       "      <td>11263</td>\n",
       "    </tr>\n",
       "    <tr>\n",
       "      <th>5</th>\n",
       "      <td>Vaulx-en-Velin</td>\n",
       "      <td>69256</td>\n",
       "      <td>348</td>\n",
       "      <td>67</td>\n",
       "      <td>2469</td>\n",
       "      <td>6499</td>\n",
       "      <td>220</td>\n",
       "      <td>869</td>\n",
       "      <td>10472</td>\n",
       "    </tr>\n",
       "    <tr>\n",
       "      <th>6</th>\n",
       "      <td>7e arrondissement de Lyon</td>\n",
       "      <td>69387</td>\n",
       "      <td>9</td>\n",
       "      <td>134</td>\n",
       "      <td>4468</td>\n",
       "      <td>4988</td>\n",
       "      <td>774</td>\n",
       "      <td>51</td>\n",
       "      <td>10424</td>\n",
       "    </tr>\n",
       "    <tr>\n",
       "      <th>7</th>\n",
       "      <td>Bron</td>\n",
       "      <td>69029</td>\n",
       "      <td>474</td>\n",
       "      <td>100</td>\n",
       "      <td>1908</td>\n",
       "      <td>6372</td>\n",
       "      <td>378</td>\n",
       "      <td>705</td>\n",
       "      <td>9937</td>\n",
       "    </tr>\n",
       "    <tr>\n",
       "      <th>8</th>\n",
       "      <td>Caluire-et-Cuire</td>\n",
       "      <td>69034</td>\n",
       "      <td>540</td>\n",
       "      <td>120</td>\n",
       "      <td>1634</td>\n",
       "      <td>5534</td>\n",
       "      <td>274</td>\n",
       "      <td>701</td>\n",
       "      <td>8803</td>\n",
       "    </tr>\n",
       "    <tr>\n",
       "      <th>9</th>\n",
       "      <td>Meyzieu</td>\n",
       "      <td>69282</td>\n",
       "      <td>358</td>\n",
       "      <td>113</td>\n",
       "      <td>1073</td>\n",
       "      <td>6700</td>\n",
       "      <td>151</td>\n",
       "      <td>385</td>\n",
       "      <td>8780</td>\n",
       "    </tr>\n",
       "  </tbody>\n",
       "</table>\n",
       "</div>"
      ],
      "text/plain": [
       "                   residence insee_residence  aucun  deux-roues    tec  \\\n",
       "0               Villeurbanne           69266   1676         350  10744   \n",
       "1  3e arrondissement de Lyon           69383     11         233   5245   \n",
       "2                 Vénissieux           69259    510         117   2960   \n",
       "3               Saint-Priest           69290    558          85   1581   \n",
       "4  8e arrondissement de Lyon           69388     14         129   3765   \n",
       "5             Vaulx-en-Velin           69256    348          67   2469   \n",
       "6  7e arrondissement de Lyon           69387      9         134   4468   \n",
       "7                       Bron           69029    474         100   1908   \n",
       "8           Caluire-et-Cuire           69034    540         120   1634   \n",
       "9                    Meyzieu           69282    358         113   1073   \n",
       "\n",
       "   voiture  velo  pied  ensemble  \n",
       "0    14539  2259  4760     34328  \n",
       "1     6619  1172   510     13790  \n",
       "2     8055   218   882     12742  \n",
       "3     8824   252   745     12045  \n",
       "4     6490   623   242     11263  \n",
       "5     6499   220   869     10472  \n",
       "6     4988   774    51     10424  \n",
       "7     6372   378   705      9937  \n",
       "8     5534   274   701      8803  \n",
       "9     6700   151   385      8780  "
      ]
     },
     "execution_count": 33,
     "metadata": {},
     "output_type": "execute_result"
    }
   ],
   "source": [
    "mopro_ml18=mopro_ml18.sort_values(by=\"ensemble\",ascending=False)\n",
    "mopro_ml18.reset_index(drop=True, inplace=True)\n",
    "mopro_ml18.iloc[:10]"
   ]
  },
  {
   "cell_type": "markdown",
   "id": "23f77ef0",
   "metadata": {},
   "source": [
    "Et, enfin, on va calculer les pourcentages de chaque moyen de transport à dans une zone. Ca s'automatise sans accroc via une boucle for :"
   ]
  },
  {
   "cell_type": "code",
   "execution_count": 34,
   "id": "11f76904",
   "metadata": {},
   "outputs": [
    {
     "data": {
      "text/html": [
       "<div>\n",
       "<style scoped>\n",
       "    .dataframe tbody tr th:only-of-type {\n",
       "        vertical-align: middle;\n",
       "    }\n",
       "\n",
       "    .dataframe tbody tr th {\n",
       "        vertical-align: top;\n",
       "    }\n",
       "\n",
       "    .dataframe thead th {\n",
       "        text-align: right;\n",
       "    }\n",
       "</style>\n",
       "<table border=\"1\" class=\"dataframe\">\n",
       "  <thead>\n",
       "    <tr style=\"text-align: right;\">\n",
       "      <th></th>\n",
       "      <th>residence</th>\n",
       "      <th>insee_residence</th>\n",
       "      <th>aucun</th>\n",
       "      <th>deux-roues</th>\n",
       "      <th>tec</th>\n",
       "      <th>voiture</th>\n",
       "      <th>velo</th>\n",
       "      <th>pied</th>\n",
       "      <th>ensemble</th>\n",
       "      <th>p_aucun</th>\n",
       "      <th>p_deux-roues</th>\n",
       "      <th>p_tec</th>\n",
       "      <th>p_voiture</th>\n",
       "      <th>p_velo</th>\n",
       "      <th>p_pied</th>\n",
       "    </tr>\n",
       "  </thead>\n",
       "  <tbody>\n",
       "    <tr>\n",
       "      <th>0</th>\n",
       "      <td>Villeurbanne</td>\n",
       "      <td>69266</td>\n",
       "      <td>1676</td>\n",
       "      <td>350</td>\n",
       "      <td>10744</td>\n",
       "      <td>14539</td>\n",
       "      <td>2259</td>\n",
       "      <td>4760</td>\n",
       "      <td>34328</td>\n",
       "      <td>4.88</td>\n",
       "      <td>1.02</td>\n",
       "      <td>31.30</td>\n",
       "      <td>42.35</td>\n",
       "      <td>6.58</td>\n",
       "      <td>13.87</td>\n",
       "    </tr>\n",
       "    <tr>\n",
       "      <th>1</th>\n",
       "      <td>3e arrondissement de Lyon</td>\n",
       "      <td>69383</td>\n",
       "      <td>11</td>\n",
       "      <td>233</td>\n",
       "      <td>5245</td>\n",
       "      <td>6619</td>\n",
       "      <td>1172</td>\n",
       "      <td>510</td>\n",
       "      <td>13790</td>\n",
       "      <td>0.08</td>\n",
       "      <td>1.69</td>\n",
       "      <td>38.03</td>\n",
       "      <td>48.00</td>\n",
       "      <td>8.50</td>\n",
       "      <td>3.70</td>\n",
       "    </tr>\n",
       "    <tr>\n",
       "      <th>2</th>\n",
       "      <td>Vénissieux</td>\n",
       "      <td>69259</td>\n",
       "      <td>510</td>\n",
       "      <td>117</td>\n",
       "      <td>2960</td>\n",
       "      <td>8055</td>\n",
       "      <td>218</td>\n",
       "      <td>882</td>\n",
       "      <td>12742</td>\n",
       "      <td>4.00</td>\n",
       "      <td>0.92</td>\n",
       "      <td>23.23</td>\n",
       "      <td>63.22</td>\n",
       "      <td>1.71</td>\n",
       "      <td>6.92</td>\n",
       "    </tr>\n",
       "    <tr>\n",
       "      <th>3</th>\n",
       "      <td>Saint-Priest</td>\n",
       "      <td>69290</td>\n",
       "      <td>558</td>\n",
       "      <td>85</td>\n",
       "      <td>1581</td>\n",
       "      <td>8824</td>\n",
       "      <td>252</td>\n",
       "      <td>745</td>\n",
       "      <td>12045</td>\n",
       "      <td>4.63</td>\n",
       "      <td>0.71</td>\n",
       "      <td>13.13</td>\n",
       "      <td>73.26</td>\n",
       "      <td>2.09</td>\n",
       "      <td>6.19</td>\n",
       "    </tr>\n",
       "    <tr>\n",
       "      <th>4</th>\n",
       "      <td>8e arrondissement de Lyon</td>\n",
       "      <td>69388</td>\n",
       "      <td>14</td>\n",
       "      <td>129</td>\n",
       "      <td>3765</td>\n",
       "      <td>6490</td>\n",
       "      <td>623</td>\n",
       "      <td>242</td>\n",
       "      <td>11263</td>\n",
       "      <td>0.12</td>\n",
       "      <td>1.15</td>\n",
       "      <td>33.43</td>\n",
       "      <td>57.62</td>\n",
       "      <td>5.53</td>\n",
       "      <td>2.15</td>\n",
       "    </tr>\n",
       "  </tbody>\n",
       "</table>\n",
       "</div>"
      ],
      "text/plain": [
       "                   residence insee_residence  aucun  deux-roues    tec  \\\n",
       "0               Villeurbanne           69266   1676         350  10744   \n",
       "1  3e arrondissement de Lyon           69383     11         233   5245   \n",
       "2                 Vénissieux           69259    510         117   2960   \n",
       "3               Saint-Priest           69290    558          85   1581   \n",
       "4  8e arrondissement de Lyon           69388     14         129   3765   \n",
       "\n",
       "   voiture  velo  pied  ensemble  p_aucun  p_deux-roues  p_tec  p_voiture  \\\n",
       "0    14539  2259  4760     34328     4.88          1.02  31.30      42.35   \n",
       "1     6619  1172   510     13790     0.08          1.69  38.03      48.00   \n",
       "2     8055   218   882     12742     4.00          0.92  23.23      63.22   \n",
       "3     8824   252   745     12045     4.63          0.71  13.13      73.26   \n",
       "4     6490   623   242     11263     0.12          1.15  33.43      57.62   \n",
       "\n",
       "   p_velo  p_pied  \n",
       "0    6.58   13.87  \n",
       "1    8.50    3.70  \n",
       "2    1.71    6.92  \n",
       "3    2.09    6.19  \n",
       "4    5.53    2.15  "
      ]
     },
     "execution_count": 34,
     "metadata": {},
     "output_type": "execute_result"
    }
   ],
   "source": [
    "for t in [\"aucun\",\"deux-roues\",\"tec\",\"voiture\",\"velo\",\"pied\"]:\n",
    "    mopro_ml18[\"p_\"+t]=round((mopro_ml18[t]/mopro_ml18[\"ensemble\"])*100,2)\n",
    "mopro_ml18.head()"
   ]
  },
  {
   "cell_type": "markdown",
   "id": "cd711462",
   "metadata": {},
   "source": [
    "On va à présent réaliser une jointure géographique afin de compléter le fichier final. Donc, on charge une GeoDataFrame à partir d'un fichier maison mélageant arrondissements de Lyon avec les autres communes, que vous êtes évidemment libre de réexploiter comme bon vous semble :"
   ]
  },
  {
   "cell_type": "code",
   "execution_count": 35,
   "id": "39a62c1b",
   "metadata": {},
   "outputs": [
    {
     "data": {
      "text/html": [
       "<div>\n",
       "<style scoped>\n",
       "    .dataframe tbody tr th:only-of-type {\n",
       "        vertical-align: middle;\n",
       "    }\n",
       "\n",
       "    .dataframe tbody tr th {\n",
       "        vertical-align: top;\n",
       "    }\n",
       "\n",
       "    .dataframe thead th {\n",
       "        text-align: right;\n",
       "    }\n",
       "</style>\n",
       "<table border=\"1\" class=\"dataframe\">\n",
       "  <thead>\n",
       "    <tr style=\"text-align: right;\">\n",
       "      <th></th>\n",
       "      <th>insee</th>\n",
       "      <th>geometry</th>\n",
       "    </tr>\n",
       "  </thead>\n",
       "  <tbody>\n",
       "    <tr>\n",
       "      <th>0</th>\n",
       "      <td>69003</td>\n",
       "      <td>MULTIPOLYGON (((4.81766 45.85600, 4.81958 45.8...</td>\n",
       "    </tr>\n",
       "    <tr>\n",
       "      <th>1</th>\n",
       "      <td>69029</td>\n",
       "      <td>MULTIPOLYGON (((4.88673 45.72932, 4.89214 45.7...</td>\n",
       "    </tr>\n",
       "    <tr>\n",
       "      <th>2</th>\n",
       "      <td>69033</td>\n",
       "      <td>MULTIPOLYGON (((4.85449 45.85609, 4.85624 45.8...</td>\n",
       "    </tr>\n",
       "    <tr>\n",
       "      <th>3</th>\n",
       "      <td>69034</td>\n",
       "      <td>MULTIPOLYGON (((4.81892 45.78973, 4.82294 45.7...</td>\n",
       "    </tr>\n",
       "    <tr>\n",
       "      <th>4</th>\n",
       "      <td>69040</td>\n",
       "      <td>MULTIPOLYGON (((4.77028 45.80083, 4.77062 45.8...</td>\n",
       "    </tr>\n",
       "  </tbody>\n",
       "</table>\n",
       "</div>"
      ],
      "text/plain": [
       "   insee                                           geometry\n",
       "0  69003  MULTIPOLYGON (((4.81766 45.85600, 4.81958 45.8...\n",
       "1  69029  MULTIPOLYGON (((4.88673 45.72932, 4.89214 45.7...\n",
       "2  69033  MULTIPOLYGON (((4.85449 45.85609, 4.85624 45.8...\n",
       "3  69034  MULTIPOLYGON (((4.81892 45.78973, 4.82294 45.7...\n",
       "4  69040  MULTIPOLYGON (((4.77028 45.80083, 4.77062 45.8..."
      ]
     },
     "execution_count": 35,
     "metadata": {},
     "output_type": "execute_result"
    }
   ],
   "source": [
    "communes_mlyon = gpd.read_file(\"C:/Users/Rapha/Documents/Data/Geographie/France/Rhone/Lyon/Métropole/metropole_lyon.json\")\n",
    "communes_mlyon.drop(columns=[\"nom\"], inplace=True)\n",
    "communes_mlyon.head()"
   ]
  },
  {
   "cell_type": "markdown",
   "id": "7714e12f",
   "metadata": {},
   "source": [
    "On réalise ladite jointure sur la colonne commune (insee_residence côté données, insee côté géo), et on reformate le résultat en GeoDataFrame :"
   ]
  },
  {
   "cell_type": "code",
   "execution_count": 36,
   "id": "f64f454c",
   "metadata": {},
   "outputs": [
    {
     "data": {
      "text/html": [
       "<div>\n",
       "<style scoped>\n",
       "    .dataframe tbody tr th:only-of-type {\n",
       "        vertical-align: middle;\n",
       "    }\n",
       "\n",
       "    .dataframe tbody tr th {\n",
       "        vertical-align: top;\n",
       "    }\n",
       "\n",
       "    .dataframe thead th {\n",
       "        text-align: right;\n",
       "    }\n",
       "</style>\n",
       "<table border=\"1\" class=\"dataframe\">\n",
       "  <thead>\n",
       "    <tr style=\"text-align: right;\">\n",
       "      <th></th>\n",
       "      <th>residence</th>\n",
       "      <th>insee_residence</th>\n",
       "      <th>aucun</th>\n",
       "      <th>deux-roues</th>\n",
       "      <th>tec</th>\n",
       "      <th>voiture</th>\n",
       "      <th>velo</th>\n",
       "      <th>pied</th>\n",
       "      <th>ensemble</th>\n",
       "      <th>p_aucun</th>\n",
       "      <th>p_deux-roues</th>\n",
       "      <th>p_tec</th>\n",
       "      <th>p_voiture</th>\n",
       "      <th>p_velo</th>\n",
       "      <th>p_pied</th>\n",
       "      <th>insee</th>\n",
       "      <th>geometry</th>\n",
       "    </tr>\n",
       "  </thead>\n",
       "  <tbody>\n",
       "    <tr>\n",
       "      <th>62</th>\n",
       "      <td>Poleymieux-au-Mont-d'Or</td>\n",
       "      <td>69153</td>\n",
       "      <td>67</td>\n",
       "      <td>0</td>\n",
       "      <td>48</td>\n",
       "      <td>285</td>\n",
       "      <td>4</td>\n",
       "      <td>79</td>\n",
       "      <td>483</td>\n",
       "      <td>13.87</td>\n",
       "      <td>0.00</td>\n",
       "      <td>9.94</td>\n",
       "      <td>59.01</td>\n",
       "      <td>0.83</td>\n",
       "      <td>16.36</td>\n",
       "      <td>69153</td>\n",
       "      <td>MULTIPOLYGON (((4.77101 45.85034, 4.77164 45.8...</td>\n",
       "    </tr>\n",
       "    <tr>\n",
       "      <th>63</th>\n",
       "      <td>Rochetaillée-sur-Saône</td>\n",
       "      <td>69168</td>\n",
       "      <td>45</td>\n",
       "      <td>10</td>\n",
       "      <td>40</td>\n",
       "      <td>348</td>\n",
       "      <td>5</td>\n",
       "      <td>0</td>\n",
       "      <td>448</td>\n",
       "      <td>10.04</td>\n",
       "      <td>2.23</td>\n",
       "      <td>8.93</td>\n",
       "      <td>77.68</td>\n",
       "      <td>1.12</td>\n",
       "      <td>0.00</td>\n",
       "      <td>69168</td>\n",
       "      <td>MULTIPOLYGON (((4.83210 45.83973, 4.83450 45.8...</td>\n",
       "    </tr>\n",
       "    <tr>\n",
       "      <th>64</th>\n",
       "      <td>Fleurieu-sur-Saône</td>\n",
       "      <td>69085</td>\n",
       "      <td>30</td>\n",
       "      <td>0</td>\n",
       "      <td>15</td>\n",
       "      <td>345</td>\n",
       "      <td>5</td>\n",
       "      <td>10</td>\n",
       "      <td>405</td>\n",
       "      <td>7.41</td>\n",
       "      <td>0.00</td>\n",
       "      <td>3.70</td>\n",
       "      <td>85.19</td>\n",
       "      <td>1.23</td>\n",
       "      <td>2.47</td>\n",
       "      <td>69085</td>\n",
       "      <td>MULTIPOLYGON (((4.83656 45.85188, 4.83945 45.8...</td>\n",
       "    </tr>\n",
       "    <tr>\n",
       "      <th>65</th>\n",
       "      <td>Curis-au-Mont-d'Or</td>\n",
       "      <td>69071</td>\n",
       "      <td>5</td>\n",
       "      <td>0</td>\n",
       "      <td>20</td>\n",
       "      <td>293</td>\n",
       "      <td>0</td>\n",
       "      <td>5</td>\n",
       "      <td>323</td>\n",
       "      <td>1.55</td>\n",
       "      <td>0.00</td>\n",
       "      <td>6.19</td>\n",
       "      <td>90.71</td>\n",
       "      <td>0.00</td>\n",
       "      <td>1.55</td>\n",
       "      <td>69071</td>\n",
       "      <td>MULTIPOLYGON (((4.80733 45.86822, 4.80733 45.8...</td>\n",
       "    </tr>\n",
       "    <tr>\n",
       "      <th>66</th>\n",
       "      <td>Saint-Romain-au-Mont-d'Or</td>\n",
       "      <td>69233</td>\n",
       "      <td>20</td>\n",
       "      <td>5</td>\n",
       "      <td>0</td>\n",
       "      <td>213</td>\n",
       "      <td>0</td>\n",
       "      <td>15</td>\n",
       "      <td>253</td>\n",
       "      <td>7.91</td>\n",
       "      <td>1.98</td>\n",
       "      <td>0.00</td>\n",
       "      <td>84.19</td>\n",
       "      <td>0.00</td>\n",
       "      <td>5.93</td>\n",
       "      <td>69233</td>\n",
       "      <td>MULTIPOLYGON (((4.80607 45.84125, 4.80684 45.8...</td>\n",
       "    </tr>\n",
       "  </tbody>\n",
       "</table>\n",
       "</div>"
      ],
      "text/plain": [
       "                    residence insee_residence  aucun  deux-roues  tec  \\\n",
       "62    Poleymieux-au-Mont-d'Or           69153     67           0   48   \n",
       "63     Rochetaillée-sur-Saône           69168     45          10   40   \n",
       "64         Fleurieu-sur-Saône           69085     30           0   15   \n",
       "65         Curis-au-Mont-d'Or           69071      5           0   20   \n",
       "66  Saint-Romain-au-Mont-d'Or           69233     20           5    0   \n",
       "\n",
       "    voiture  velo  pied  ensemble  p_aucun  p_deux-roues  p_tec  p_voiture  \\\n",
       "62      285     4    79       483    13.87          0.00   9.94      59.01   \n",
       "63      348     5     0       448    10.04          2.23   8.93      77.68   \n",
       "64      345     5    10       405     7.41          0.00   3.70      85.19   \n",
       "65      293     0     5       323     1.55          0.00   6.19      90.71   \n",
       "66      213     0    15       253     7.91          1.98   0.00      84.19   \n",
       "\n",
       "    p_velo  p_pied  insee                                           geometry  \n",
       "62    0.83   16.36  69153  MULTIPOLYGON (((4.77101 45.85034, 4.77164 45.8...  \n",
       "63    1.12    0.00  69168  MULTIPOLYGON (((4.83210 45.83973, 4.83450 45.8...  \n",
       "64    1.23    2.47  69085  MULTIPOLYGON (((4.83656 45.85188, 4.83945 45.8...  \n",
       "65    0.00    1.55  69071  MULTIPOLYGON (((4.80733 45.86822, 4.80733 45.8...  \n",
       "66    0.00    5.93  69233  MULTIPOLYGON (((4.80607 45.84125, 4.80684 45.8...  "
      ]
     },
     "execution_count": 36,
     "metadata": {},
     "output_type": "execute_result"
    }
   ],
   "source": [
    "geo_mopro=mopro_ml18.merge(communes_mlyon, left_on=\"insee_residence\", right_on=\"insee\")\n",
    "geo_mopro=gpd.GeoDataFrame(geo_mopro, geometry=geo_mopro[\"geometry\"])\n",
    "geo_mopro.tail()"
   ]
  },
  {
   "cell_type": "markdown",
   "id": "d2c95b8b",
   "metadata": {},
   "source": [
    "On peut en quelques lignes visualiser des tendances, côté vélo... :"
   ]
  },
  {
   "cell_type": "code",
   "execution_count": 37,
   "id": "91baaf8c",
   "metadata": {},
   "outputs": [
    {
     "data": {
      "image/png": "[encoded data removed]",
      "text/plain": [
       "<Figure size 1440x720 with 1 Axes>"
      ]
     },
     "metadata": {
      "needs_background": "light"
     },
     "output_type": "display_data"
    }
   ],
   "source": [
    "fig, ax = plt.subplots(figsize=(20,10))\n",
    "geo_mopro.plot(ax=ax,column='p_velo',scheme='Quantiles',k=5,cmap=\"Greens\",edgecolor=\"#000\",linewidth=.55,legend=True)\n",
    "ax.set_title(\"Pourcentage d'actifs allant à vélo à leur travail dans la Métropole de Lyon (recensement INSEE, 2018)\")\n",
    "ax.set_axis_off()\n",
    "plt.savefig(r\"images\\\\velo_ml18.jpg\", dpi=300, bbox_inches = \"tight\")\n",
    "plt.show();"
   ]
  },
  {
   "cell_type": "markdown",
   "id": "8296b686",
   "metadata": {},
   "source": [
    "...ou côté voitures :"
   ]
  },
  {
   "cell_type": "code",
   "execution_count": 38,
   "id": "ff3021e7",
   "metadata": {},
   "outputs": [
    {
     "data": {
      "image/png": "[encoded data removed]",
      "text/plain": [
       "<Figure size 1440x720 with 1 Axes>"
      ]
     },
     "metadata": {
      "needs_background": "light"
     },
     "output_type": "display_data"
    }
   ],
   "source": [
    "fig, ax = plt.subplots(figsize=(20,10))\n",
    "geo_mopro.plot(ax=ax,column='p_voiture',scheme='Quantiles',k=5,cmap=\"Oranges\",edgecolor=\"#000\",linewidth=.55,legend=True)\n",
    "ax.set_title(\"Pourcentage d'actifs allant en voiture à leur travail dans la Métropole de Lyon (recensement INSEE, 2018)\")\n",
    "ax.set_axis_off()\n",
    "plt.savefig(r\"images\\\\voiture_ml18.jpg\", dpi=300, bbox_inches = \"tight\")\n",
    "plt.show();"
   ]
  },
  {
   "cell_type": "markdown",
   "id": "170c740e",
   "metadata": {},
   "source": [
    "Et finalement enregistrer le fichier qui a vocation à être digéré par D3js :"
   ]
  },
  {
   "cell_type": "code",
   "execution_count": 39,
   "id": "9fddd0b1",
   "metadata": {},
   "outputs": [
    {
     "name": "stderr",
     "output_type": "stream",
     "text": [
      "C:\\Users\\Rapha\\AppData\\Local\\Programs\\Python\\Python310\\lib\\site-packages\\geopandas\\io\\file.py:362: FutureWarning: pandas.Int64Index is deprecated and will be removed from pandas in a future version. Use pandas.Index with the appropriate dtype instead.\n",
      "  pd.Int64Index,\n"
     ]
    }
   ],
   "source": [
    "geo_mopro.to_file(r\"data\\\\mopro_ml18.json\", driver=\"GeoJSON\")"
   ]
  },
  {
   "cell_type": "markdown",
   "id": "016a875f",
   "metadata": {},
   "source": [
    "# Une carte d'évolution en points de pourcentage"
   ]
  },
  {
   "cell_type": "markdown",
   "id": "1f794f4b",
   "metadata": {},
   "source": [
    "Mon camarade lyonnais Bertrand Enjalbal a suggéré de partir de ce point de départ **pour comparer l'état des lieux de 2018 avec un recensement précédent**.\n",
    "\n",
    "L'idée est de soustraire les pourcentages d'un recensement antérieur aux chiffres de 2018, pour obtenir l'évolution en points de pourcentage. Par exemple : \"*sur cette commune ou cet arrondissement, on observe une augmentation de la pratique du vélo de x points de pourcentage*\".\n",
    "\n",
    "On va très largement s'inspirer de ce qui a été fait précédemment, en prenant en compte certaines spécifictés. La principale contrainte, c'est que **le vélo et les deux-roues motorisés étaient rassemblés avant 2018 dans une catégorie \"deux roues\"**.\n",
    "\n",
    "On observe là un changement de doctrine dans la production des données, où une typologie la plus réduite possible s'est étoffée en distinguant polluant/non polluant. Il pourrait en être de même pour les transports en commun, en distinguant bus et train, etc. \n",
    "\n",
    "**Rappel utile : les données ne sont pas neutres, leur collecte, restitution, utilisation implique des choix qui font partie du job.**\n",
    "\n",
    "Ce rappel fait, on va coder une fonction qui renverra pour 2018 l'exacte réplique de la DF mopro_ml18. Voici donc :"
   ]
  },
  {
   "cell_type": "code",
   "execution_count": 40,
   "id": "5f91e1c6",
   "metadata": {},
   "outputs": [],
   "source": [
    "def transport_annee(annee:str,fformat:list,l_renommage:dict, col_filtre:list, l_filtre:list, remplacement:list, groupe_typo:str, corres_typo:dict,col_groupe:str, ajout_col:dict):\n",
    "    \"\"\"\n",
    "        Cette fonction va effectuer des regroupements par typologie\n",
    "    \"\"\"\n",
    "    print(\"Examen du fichier :\",\"mopro\\\\FD_MOBPRO_\"+annee+\".\"+fformat)\n",
    "    DF_brute=pd.read_csv(r\"mopro\\\\FD_MOBPRO_\"+annee+\".\"+fformat,sep=\";\",low_memory=False)\n",
    "    DF_brute.rename(columns=l_renommage,inplace=True)\n",
    "    DF_brute=DF_brute[list(l_renommage.values())]\n",
    "    for c in col_filtre:\n",
    "        DF_brute=DF_brute[DF_brute[c].isin(l_filtre)].reset_index(drop=True)\n",
    "    if len(remplacement)==3:\n",
    "        DF_brute=remplacement_unique(DF_brute,remplacement[0],remplacement[1],remplacement[2])\n",
    "    DF_brute[groupe_typo]=DF_brute[groupe_typo].astype(str)\n",
    "    DF_brute[groupe_typo]=  DF_brute[groupe_typo].map(corres_typo)\n",
    "    DF_brute[col_groupe]=DF_brute[col_groupe].astype(str)\n",
    "    DF_brute[col_groupe]=DF_brute[col_groupe].str.replace(\",\",\".\")\n",
    "    DF_brute[col_groupe]=DF_brute[col_groupe].astype(float)\n",
    "    DF_brute=DF_brute.groupby(by=[col_filtre[0],groupe_typo]).sum().reset_index()\n",
    "    DF_brute[col_groupe]=round(DF_brute[col_groupe])\n",
    "    DF_brute[col_groupe]=DF_brute[col_groupe].astype(int)\n",
    "    DF_brute.rename(columns={col_groupe:\"effectif\"},inplace=True)\n",
    "    DF_brute=DF_brute[[col_filtre[0],groupe_typo,\"effectif\"]]\n",
    "    l_index=[col_filtre[0]]\n",
    "    for k in ajout_col.keys():\n",
    "        l_index.append(k)\n",
    "        DF_brute[k]=DF_brute[col_filtre[0]].map(ajout_col[k])\n",
    "    pl_renommage=list(DF_brute[groupe_typo].unique())\n",
    "    DF_finale=DF_brute.pivot_table(index=l_index, columns=[groupe_typo], values=[\"effectif\"])\n",
    "    DF_finale.columns=DF_finale.columns.map('_'.join)\n",
    "    DF_finale=DF_finale.reset_index()\n",
    "    DF_finale.fillna(0,inplace=True)\n",
    "    col_d=[\"effectif_\"+c for c in pl_renommage]\n",
    "    for c in col_d:\n",
    "        DF_finale[c]=DF_finale[c].astype(int)\n",
    "    d_renommage={k:v for k,v in zip(col_d,pl_renommage)}\n",
    "    DF_finale.rename(columns=d_renommage, inplace=True)\n",
    "    ensemble=np.array([DF_finale[c] for c in [pl_renommage]])\n",
    "    ensemble=[np.sum(ensemble[:,i]) for i in range(len(ensemble[0]))]\n",
    "    DF_finale[\"ensemble\"]=ensemble\n",
    "    for c in pl_renommage:\n",
    "        DF_finale[\"p_\"+c]=round((DF_finale[c]/DF_finale[\"ensemble\"])*100,2)\n",
    "    return DF_finale"
   ]
  },
  {
   "cell_type": "markdown",
   "id": "e207f7d3",
   "metadata": {},
   "source": [
    "Et on va très vite tester ce qui a été fait en prenant en référence l'année 2018 :"
   ]
  },
  {
   "cell_type": "code",
   "execution_count": 41,
   "id": "63df90a8",
   "metadata": {},
   "outputs": [
    {
     "name": "stdout",
     "output_type": "stream",
     "text": [
      "Examen du fichier : mopro\\FD_MOBPRO_2018.csv\n"
     ]
    },
    {
     "data": {
      "text/html": [
       "<div>\n",
       "<style scoped>\n",
       "    .dataframe tbody tr th:only-of-type {\n",
       "        vertical-align: middle;\n",
       "    }\n",
       "\n",
       "    .dataframe tbody tr th {\n",
       "        vertical-align: top;\n",
       "    }\n",
       "\n",
       "    .dataframe thead th {\n",
       "        text-align: right;\n",
       "    }\n",
       "</style>\n",
       "<table border=\"1\" class=\"dataframe\">\n",
       "  <thead>\n",
       "    <tr style=\"text-align: right;\">\n",
       "      <th></th>\n",
       "      <th>insee_residence</th>\n",
       "      <th>residence</th>\n",
       "      <th>aucun</th>\n",
       "      <th>deux-roues motorisé</th>\n",
       "      <th>transports en commun</th>\n",
       "      <th>voiture, camion ou fourgonnette</th>\n",
       "      <th>vélo</th>\n",
       "      <th>à pied</th>\n",
       "      <th>ensemble</th>\n",
       "      <th>p_aucun</th>\n",
       "      <th>p_deux-roues motorisé</th>\n",
       "      <th>p_transports en commun</th>\n",
       "      <th>p_voiture, camion ou fourgonnette</th>\n",
       "      <th>p_vélo</th>\n",
       "      <th>p_à pied</th>\n",
       "    </tr>\n",
       "  </thead>\n",
       "  <tbody>\n",
       "    <tr>\n",
       "      <th>62</th>\n",
       "      <td>69385</td>\n",
       "      <td>5e arrondissement de Lyon</td>\n",
       "      <td>9</td>\n",
       "      <td>132</td>\n",
       "      <td>1611</td>\n",
       "      <td>4083</td>\n",
       "      <td>213</td>\n",
       "      <td>112</td>\n",
       "      <td>6160</td>\n",
       "      <td>0.15</td>\n",
       "      <td>2.14</td>\n",
       "      <td>26.15</td>\n",
       "      <td>66.28</td>\n",
       "      <td>3.46</td>\n",
       "      <td>1.82</td>\n",
       "    </tr>\n",
       "    <tr>\n",
       "      <th>63</th>\n",
       "      <td>69386</td>\n",
       "      <td>6e arrondissement de Lyon</td>\n",
       "      <td>11</td>\n",
       "      <td>98</td>\n",
       "      <td>1954</td>\n",
       "      <td>2918</td>\n",
       "      <td>374</td>\n",
       "      <td>478</td>\n",
       "      <td>5833</td>\n",
       "      <td>0.19</td>\n",
       "      <td>1.68</td>\n",
       "      <td>33.50</td>\n",
       "      <td>50.03</td>\n",
       "      <td>6.41</td>\n",
       "      <td>8.19</td>\n",
       "    </tr>\n",
       "    <tr>\n",
       "      <th>64</th>\n",
       "      <td>69387</td>\n",
       "      <td>7e arrondissement de Lyon</td>\n",
       "      <td>9</td>\n",
       "      <td>134</td>\n",
       "      <td>4468</td>\n",
       "      <td>4988</td>\n",
       "      <td>774</td>\n",
       "      <td>51</td>\n",
       "      <td>10424</td>\n",
       "      <td>0.09</td>\n",
       "      <td>1.29</td>\n",
       "      <td>42.86</td>\n",
       "      <td>47.85</td>\n",
       "      <td>7.43</td>\n",
       "      <td>0.49</td>\n",
       "    </tr>\n",
       "    <tr>\n",
       "      <th>65</th>\n",
       "      <td>69388</td>\n",
       "      <td>8e arrondissement de Lyon</td>\n",
       "      <td>14</td>\n",
       "      <td>129</td>\n",
       "      <td>3765</td>\n",
       "      <td>6490</td>\n",
       "      <td>623</td>\n",
       "      <td>242</td>\n",
       "      <td>11263</td>\n",
       "      <td>0.12</td>\n",
       "      <td>1.15</td>\n",
       "      <td>33.43</td>\n",
       "      <td>57.62</td>\n",
       "      <td>5.53</td>\n",
       "      <td>2.15</td>\n",
       "    </tr>\n",
       "    <tr>\n",
       "      <th>66</th>\n",
       "      <td>69389</td>\n",
       "      <td>9e arrondissement de Lyon</td>\n",
       "      <td>1</td>\n",
       "      <td>98</td>\n",
       "      <td>2370</td>\n",
       "      <td>3804</td>\n",
       "      <td>142</td>\n",
       "      <td>123</td>\n",
       "      <td>6538</td>\n",
       "      <td>0.02</td>\n",
       "      <td>1.50</td>\n",
       "      <td>36.25</td>\n",
       "      <td>58.18</td>\n",
       "      <td>2.17</td>\n",
       "      <td>1.88</td>\n",
       "    </tr>\n",
       "  </tbody>\n",
       "</table>\n",
       "</div>"
      ],
      "text/plain": [
       "   insee_residence                  residence  aucun  deux-roues motorisé  \\\n",
       "62           69385  5e arrondissement de Lyon      9                  132   \n",
       "63           69386  6e arrondissement de Lyon     11                   98   \n",
       "64           69387  7e arrondissement de Lyon      9                  134   \n",
       "65           69388  8e arrondissement de Lyon     14                  129   \n",
       "66           69389  9e arrondissement de Lyon      1                   98   \n",
       "\n",
       "    transports en commun  voiture, camion ou fourgonnette  vélo  à pied  \\\n",
       "62                  1611                             4083   213     112   \n",
       "63                  1954                             2918   374     478   \n",
       "64                  4468                             4988   774      51   \n",
       "65                  3765                             6490   623     242   \n",
       "66                  2370                             3804   142     123   \n",
       "\n",
       "    ensemble  p_aucun  p_deux-roues motorisé  p_transports en commun  \\\n",
       "62      6160     0.15                   2.14                   26.15   \n",
       "63      5833     0.19                   1.68                   33.50   \n",
       "64     10424     0.09                   1.29                   42.86   \n",
       "65     11263     0.12                   1.15                   33.43   \n",
       "66      6538     0.02                   1.50                   36.25   \n",
       "\n",
       "    p_voiture, camion ou fourgonnette  p_vélo  p_à pied  \n",
       "62                              66.28    3.46      1.82  \n",
       "63                              50.03    6.41      8.19  \n",
       "64                              47.85    7.43      0.49  \n",
       "65                              57.62    5.53      2.15  \n",
       "66                              58.18    2.17      1.88  "
      ]
     },
     "execution_count": 41,
     "metadata": {},
     "output_type": "execute_result"
    }
   ],
   "source": [
    "test=transport_annee(\"2018\",\"csv\",reno_col,[\"insee_residence\",\"insee_travail\"],ml_insee,[\"arrondissement\",\"insee_residence\",[\"ZZZZZ\"]],\"mode_transport\",corres_transport,\"pindi\",{\"residence\":dic_ml})\n",
    "test.tail()"
   ]
  },
  {
   "cell_type": "markdown",
   "id": "f45d88c4",
   "metadata": {},
   "source": [
    "Vérifions maintenant que tout est conforme avec la précédente base de données (mopro_ml18) afin de s'assurer que rien ne dépasse.\n",
    "\n",
    "Par exemple : est-ce que l'on a le même nombre d'ensemble à Montanay pour test et mopro_ml18 ? Réponse..."
   ]
  },
  {
   "cell_type": "code",
   "execution_count": 42,
   "id": "0e7ae0c4",
   "metadata": {},
   "outputs": [
    {
     "data": {
      "text/plain": [
       "True"
      ]
     },
     "execution_count": 42,
     "metadata": {},
     "output_type": "execute_result"
    }
   ],
   "source": [
    "int(test[test[\"residence\"]==\"Montanay\"][\"ensemble\"])==int(mopro_ml18[mopro_ml18[\"residence\"]==\"Montanay\"][\"ensemble\"])"
   ]
  },
  {
   "cell_type": "markdown",
   "id": "d3f26911",
   "metadata": {},
   "source": [
    "...oui ! Et on peut rapidement tester d'autres égalités, par exemple le pourcentage d'actifs ne prenant aucun véhicule à Rillieux-la-Pape :"
   ]
  },
  {
   "cell_type": "code",
   "execution_count": 43,
   "id": "7fef52b3",
   "metadata": {},
   "outputs": [
    {
     "data": {
      "text/plain": [
       "True"
      ]
     },
     "execution_count": 43,
     "metadata": {},
     "output_type": "execute_result"
    }
   ],
   "source": [
    "float(test[test[\"residence\"]==\"Rillieux-la-Pape\"][\"p_aucun\"])==float(mopro_ml18[mopro_ml18[\"residence\"]==\"Rillieux-la-Pape\"][\"p_aucun\"])"
   ]
  },
  {
   "cell_type": "markdown",
   "id": "3d1053c8",
   "metadata": {},
   "source": [
    "La fonction marche, et on peut donc assigner une base de données centrée sur 2018 dans une nouvelle variable :"
   ]
  },
  {
   "cell_type": "code",
   "execution_count": 44,
   "id": "40b906bd",
   "metadata": {},
   "outputs": [
    {
     "name": "stdout",
     "output_type": "stream",
     "text": [
      "Examen du fichier : mopro\\FD_MOBPRO_2018.csv\n"
     ]
    }
   ],
   "source": [
    "mopro_mldef=transport_annee(\"2018\",\"csv\",reno_col,[\"insee_residence\",\"insee_travail\"],ml_insee,[\"arrondissement\",\"insee_residence\",[\"ZZZZZ\"]],\"mode_transport\",corres_transport,\"pindi\",{\"residence\":dic_ml})"
   ]
  },
  {
   "cell_type": "markdown",
   "id": "3414027a",
   "metadata": {},
   "source": [
    "**La doctrine de l'INSEE** concernant la typologie des transports **a changé entre 2008 et 2018** : l'Institut n'a commencé à comptabilisé les vélos à part qu'à partir de 2018.\n",
    "\n",
    "Si l'on veut comparer 2018 à des chiffres d'une année précente, on doit donc **additionner les vélos et les deux-roues motorisés** dans une nouvelle colonne :"
   ]
  },
  {
   "cell_type": "code",
   "execution_count": 45,
   "id": "3ab5a2c4",
   "metadata": {},
   "outputs": [
    {
     "data": {
      "text/html": [
       "<div>\n",
       "<style scoped>\n",
       "    .dataframe tbody tr th:only-of-type {\n",
       "        vertical-align: middle;\n",
       "    }\n",
       "\n",
       "    .dataframe tbody tr th {\n",
       "        vertical-align: top;\n",
       "    }\n",
       "\n",
       "    .dataframe thead th {\n",
       "        text-align: right;\n",
       "    }\n",
       "</style>\n",
       "<table border=\"1\" class=\"dataframe\">\n",
       "  <thead>\n",
       "    <tr style=\"text-align: right;\">\n",
       "      <th></th>\n",
       "      <th>vélo</th>\n",
       "      <th>deux-roues motorisé</th>\n",
       "      <th>deux-roues</th>\n",
       "    </tr>\n",
       "  </thead>\n",
       "  <tbody>\n",
       "    <tr>\n",
       "      <th>0</th>\n",
       "      <td>24</td>\n",
       "      <td>14</td>\n",
       "      <td>38</td>\n",
       "    </tr>\n",
       "    <tr>\n",
       "      <th>1</th>\n",
       "      <td>378</td>\n",
       "      <td>100</td>\n",
       "      <td>478</td>\n",
       "    </tr>\n",
       "    <tr>\n",
       "      <th>2</th>\n",
       "      <td>0</td>\n",
       "      <td>0</td>\n",
       "      <td>0</td>\n",
       "    </tr>\n",
       "    <tr>\n",
       "      <th>3</th>\n",
       "      <td>274</td>\n",
       "      <td>120</td>\n",
       "      <td>394</td>\n",
       "    </tr>\n",
       "    <tr>\n",
       "      <th>4</th>\n",
       "      <td>35</td>\n",
       "      <td>5</td>\n",
       "      <td>40</td>\n",
       "    </tr>\n",
       "  </tbody>\n",
       "</table>\n",
       "</div>"
      ],
      "text/plain": [
       "   vélo  deux-roues motorisé  deux-roues\n",
       "0    24                   14          38\n",
       "1   378                  100         478\n",
       "2     0                    0           0\n",
       "3   274                  120         394\n",
       "4    35                    5          40"
      ]
     },
     "execution_count": 45,
     "metadata": {},
     "output_type": "execute_result"
    }
   ],
   "source": [
    "mopro_mldef[\"deux-roues\"]=mopro_mldef[\"vélo\"]+mopro_mldef[\"deux-roues motorisé\"]\n",
    "mopro_mldef.iloc[:5][[\"vélo\",\"deux-roues motorisé\",\"deux-roues\"]]"
   ]
  },
  {
   "cell_type": "markdown",
   "id": "5bde4283",
   "metadata": {},
   "source": [
    "Addition bien mené, on peut désormais calculer le pourcentage de deux-roues à partir de cette nouvelle colonne :"
   ]
  },
  {
   "cell_type": "code",
   "execution_count": 46,
   "id": "08c2eb74",
   "metadata": {},
   "outputs": [
    {
     "data": {
      "text/html": [
       "<div>\n",
       "<style scoped>\n",
       "    .dataframe tbody tr th:only-of-type {\n",
       "        vertical-align: middle;\n",
       "    }\n",
       "\n",
       "    .dataframe tbody tr th {\n",
       "        vertical-align: top;\n",
       "    }\n",
       "\n",
       "    .dataframe thead th {\n",
       "        text-align: right;\n",
       "    }\n",
       "</style>\n",
       "<table border=\"1\" class=\"dataframe\">\n",
       "  <thead>\n",
       "    <tr style=\"text-align: right;\">\n",
       "      <th></th>\n",
       "      <th>p_vélo</th>\n",
       "      <th>p_deux-roues motorisé</th>\n",
       "      <th>p_deux-roues</th>\n",
       "    </tr>\n",
       "  </thead>\n",
       "  <tbody>\n",
       "    <tr>\n",
       "      <th>0</th>\n",
       "      <td>3.65</td>\n",
       "      <td>2.13</td>\n",
       "      <td>5.78</td>\n",
       "    </tr>\n",
       "    <tr>\n",
       "      <th>1</th>\n",
       "      <td>3.80</td>\n",
       "      <td>1.01</td>\n",
       "      <td>4.81</td>\n",
       "    </tr>\n",
       "    <tr>\n",
       "      <th>2</th>\n",
       "      <td>0.00</td>\n",
       "      <td>0.00</td>\n",
       "      <td>0.00</td>\n",
       "    </tr>\n",
       "    <tr>\n",
       "      <th>3</th>\n",
       "      <td>3.11</td>\n",
       "      <td>1.36</td>\n",
       "      <td>4.48</td>\n",
       "    </tr>\n",
       "    <tr>\n",
       "      <th>4</th>\n",
       "      <td>3.01</td>\n",
       "      <td>0.43</td>\n",
       "      <td>3.44</td>\n",
       "    </tr>\n",
       "  </tbody>\n",
       "</table>\n",
       "</div>"
      ],
      "text/plain": [
       "   p_vélo  p_deux-roues motorisé  p_deux-roues\n",
       "0    3.65                   2.13          5.78\n",
       "1    3.80                   1.01          4.81\n",
       "2    0.00                   0.00          0.00\n",
       "3    3.11                   1.36          4.48\n",
       "4    3.01                   0.43          3.44"
      ]
     },
     "execution_count": 46,
     "metadata": {},
     "output_type": "execute_result"
    }
   ],
   "source": [
    "mopro_mldef[\"p_deux-roues\"]=round((mopro_mldef[\"deux-roues\"]/mopro_mldef[\"ensemble\"])*100,2)\n",
    "mopro_mldef.iloc[:5][[\"p_vélo\",\"p_deux-roues motorisé\",\"p_deux-roues\"]]"
   ]
  },
  {
   "cell_type": "markdown",
   "id": "82c04b81",
   "metadata": {},
   "source": [
    "Et on purge ce qui les colonnes consacrées aux vélos et aux deux-roues motorisés pour être tout à fait carrés :"
   ]
  },
  {
   "cell_type": "code",
   "execution_count": 47,
   "id": "0aa10822",
   "metadata": {},
   "outputs": [
    {
     "data": {
      "text/html": [
       "<div>\n",
       "<style scoped>\n",
       "    .dataframe tbody tr th:only-of-type {\n",
       "        vertical-align: middle;\n",
       "    }\n",
       "\n",
       "    .dataframe tbody tr th {\n",
       "        vertical-align: top;\n",
       "    }\n",
       "\n",
       "    .dataframe thead th {\n",
       "        text-align: right;\n",
       "    }\n",
       "</style>\n",
       "<table border=\"1\" class=\"dataframe\">\n",
       "  <thead>\n",
       "    <tr style=\"text-align: right;\">\n",
       "      <th></th>\n",
       "      <th>insee_residence</th>\n",
       "      <th>residence</th>\n",
       "      <th>aucun</th>\n",
       "      <th>transports en commun</th>\n",
       "      <th>voiture, camion ou fourgonnette</th>\n",
       "      <th>à pied</th>\n",
       "      <th>ensemble</th>\n",
       "      <th>p_aucun</th>\n",
       "      <th>p_transports en commun</th>\n",
       "      <th>p_voiture, camion ou fourgonnette</th>\n",
       "      <th>p_à pied</th>\n",
       "      <th>deux-roues</th>\n",
       "      <th>p_deux-roues</th>\n",
       "    </tr>\n",
       "  </thead>\n",
       "  <tbody>\n",
       "    <tr>\n",
       "      <th>62</th>\n",
       "      <td>69385</td>\n",
       "      <td>5e arrondissement de Lyon</td>\n",
       "      <td>9</td>\n",
       "      <td>1611</td>\n",
       "      <td>4083</td>\n",
       "      <td>112</td>\n",
       "      <td>6160</td>\n",
       "      <td>0.15</td>\n",
       "      <td>26.15</td>\n",
       "      <td>66.28</td>\n",
       "      <td>1.82</td>\n",
       "      <td>345</td>\n",
       "      <td>5.60</td>\n",
       "    </tr>\n",
       "    <tr>\n",
       "      <th>63</th>\n",
       "      <td>69386</td>\n",
       "      <td>6e arrondissement de Lyon</td>\n",
       "      <td>11</td>\n",
       "      <td>1954</td>\n",
       "      <td>2918</td>\n",
       "      <td>478</td>\n",
       "      <td>5833</td>\n",
       "      <td>0.19</td>\n",
       "      <td>33.50</td>\n",
       "      <td>50.03</td>\n",
       "      <td>8.19</td>\n",
       "      <td>472</td>\n",
       "      <td>8.09</td>\n",
       "    </tr>\n",
       "    <tr>\n",
       "      <th>64</th>\n",
       "      <td>69387</td>\n",
       "      <td>7e arrondissement de Lyon</td>\n",
       "      <td>9</td>\n",
       "      <td>4468</td>\n",
       "      <td>4988</td>\n",
       "      <td>51</td>\n",
       "      <td>10424</td>\n",
       "      <td>0.09</td>\n",
       "      <td>42.86</td>\n",
       "      <td>47.85</td>\n",
       "      <td>0.49</td>\n",
       "      <td>908</td>\n",
       "      <td>8.71</td>\n",
       "    </tr>\n",
       "    <tr>\n",
       "      <th>65</th>\n",
       "      <td>69388</td>\n",
       "      <td>8e arrondissement de Lyon</td>\n",
       "      <td>14</td>\n",
       "      <td>3765</td>\n",
       "      <td>6490</td>\n",
       "      <td>242</td>\n",
       "      <td>11263</td>\n",
       "      <td>0.12</td>\n",
       "      <td>33.43</td>\n",
       "      <td>57.62</td>\n",
       "      <td>2.15</td>\n",
       "      <td>752</td>\n",
       "      <td>6.68</td>\n",
       "    </tr>\n",
       "    <tr>\n",
       "      <th>66</th>\n",
       "      <td>69389</td>\n",
       "      <td>9e arrondissement de Lyon</td>\n",
       "      <td>1</td>\n",
       "      <td>2370</td>\n",
       "      <td>3804</td>\n",
       "      <td>123</td>\n",
       "      <td>6538</td>\n",
       "      <td>0.02</td>\n",
       "      <td>36.25</td>\n",
       "      <td>58.18</td>\n",
       "      <td>1.88</td>\n",
       "      <td>240</td>\n",
       "      <td>3.67</td>\n",
       "    </tr>\n",
       "  </tbody>\n",
       "</table>\n",
       "</div>"
      ],
      "text/plain": [
       "   insee_residence                  residence  aucun  transports en commun  \\\n",
       "62           69385  5e arrondissement de Lyon      9                  1611   \n",
       "63           69386  6e arrondissement de Lyon     11                  1954   \n",
       "64           69387  7e arrondissement de Lyon      9                  4468   \n",
       "65           69388  8e arrondissement de Lyon     14                  3765   \n",
       "66           69389  9e arrondissement de Lyon      1                  2370   \n",
       "\n",
       "    voiture, camion ou fourgonnette  à pied  ensemble  p_aucun  \\\n",
       "62                             4083     112      6160     0.15   \n",
       "63                             2918     478      5833     0.19   \n",
       "64                             4988      51     10424     0.09   \n",
       "65                             6490     242     11263     0.12   \n",
       "66                             3804     123      6538     0.02   \n",
       "\n",
       "    p_transports en commun  p_voiture, camion ou fourgonnette  p_à pied  \\\n",
       "62                   26.15                              66.28      1.82   \n",
       "63                   33.50                              50.03      8.19   \n",
       "64                   42.86                              47.85      0.49   \n",
       "65                   33.43                              57.62      2.15   \n",
       "66                   36.25                              58.18      1.88   \n",
       "\n",
       "    deux-roues  p_deux-roues  \n",
       "62         345          5.60  \n",
       "63         472          8.09  \n",
       "64         908          8.71  \n",
       "65         752          6.68  \n",
       "66         240          3.67  "
      ]
     },
     "execution_count": 47,
     "metadata": {},
     "output_type": "execute_result"
    }
   ],
   "source": [
    "mopro_mldef=mopro_mldef[[l for l in list(mopro_mldef.columns) if l not in ['deux-roues motorisé','p_deux-roues motorisé','vélo','p_vélo']]]\n",
    "mopro_mldef.tail()"
   ]
  },
  {
   "cell_type": "markdown",
   "id": "232c47ce",
   "metadata": {},
   "source": [
    "On va désormais se pencher sur 2008, et préparer avant le déclenchement de la fonction transport_annee un **nouveau dictionnaire de correspondance pour les différents types de transport** :"
   ]
  },
  {
   "cell_type": "code",
   "execution_count": 48,
   "id": "8f878ef9",
   "metadata": {},
   "outputs": [],
   "source": [
    "corres_trans08={\"1\":\"aucun\",\"2\":\"à pied\",\"3\":\"deux roues\",\"4\":\"voiture, camion ou fourgonnette\",\"5\":\"transports en commun\",\"Z\":\"sans objet\"}"
   ]
  },
  {
   "cell_type": "markdown",
   "id": "1d256143",
   "metadata": {},
   "source": [
    "Désormais, on peut créer une nouvelle variable grâce à la fonction transport_annee, en mettant bien corres_trans08 en attribut :"
   ]
  },
  {
   "cell_type": "code",
   "execution_count": 49,
   "id": "0ce170b0",
   "metadata": {},
   "outputs": [
    {
     "name": "stdout",
     "output_type": "stream",
     "text": [
      "Examen du fichier : mopro\\FD_MOBPRO_2008.txt\n"
     ]
    },
    {
     "data": {
      "text/html": [
       "<div>\n",
       "<style scoped>\n",
       "    .dataframe tbody tr th:only-of-type {\n",
       "        vertical-align: middle;\n",
       "    }\n",
       "\n",
       "    .dataframe tbody tr th {\n",
       "        vertical-align: top;\n",
       "    }\n",
       "\n",
       "    .dataframe thead th {\n",
       "        text-align: right;\n",
       "    }\n",
       "</style>\n",
       "<table border=\"1\" class=\"dataframe\">\n",
       "  <thead>\n",
       "    <tr style=\"text-align: right;\">\n",
       "      <th></th>\n",
       "      <th>insee_residence</th>\n",
       "      <th>residence</th>\n",
       "      <th>aucun</th>\n",
       "      <th>deux roues</th>\n",
       "      <th>transports en commun</th>\n",
       "      <th>voiture, camion ou fourgonnette</th>\n",
       "      <th>à pied</th>\n",
       "      <th>ensemble</th>\n",
       "      <th>p_aucun</th>\n",
       "      <th>p_deux roues</th>\n",
       "      <th>p_transports en commun</th>\n",
       "      <th>p_voiture, camion ou fourgonnette</th>\n",
       "      <th>p_à pied</th>\n",
       "    </tr>\n",
       "  </thead>\n",
       "  <tbody>\n",
       "    <tr>\n",
       "      <th>62</th>\n",
       "      <td>69385</td>\n",
       "      <td>5e arrondissement de Lyon</td>\n",
       "      <td>7</td>\n",
       "      <td>190</td>\n",
       "      <td>1525</td>\n",
       "      <td>4506</td>\n",
       "      <td>122</td>\n",
       "      <td>6350</td>\n",
       "      <td>0.11</td>\n",
       "      <td>2.99</td>\n",
       "      <td>24.02</td>\n",
       "      <td>70.96</td>\n",
       "      <td>1.92</td>\n",
       "    </tr>\n",
       "    <tr>\n",
       "      <th>63</th>\n",
       "      <td>69386</td>\n",
       "      <td>6e arrondissement de Lyon</td>\n",
       "      <td>9</td>\n",
       "      <td>278</td>\n",
       "      <td>1461</td>\n",
       "      <td>3355</td>\n",
       "      <td>415</td>\n",
       "      <td>5518</td>\n",
       "      <td>0.16</td>\n",
       "      <td>5.04</td>\n",
       "      <td>26.48</td>\n",
       "      <td>60.80</td>\n",
       "      <td>7.52</td>\n",
       "    </tr>\n",
       "    <tr>\n",
       "      <th>64</th>\n",
       "      <td>69387</td>\n",
       "      <td>7e arrondissement de Lyon</td>\n",
       "      <td>20</td>\n",
       "      <td>377</td>\n",
       "      <td>3182</td>\n",
       "      <td>5374</td>\n",
       "      <td>84</td>\n",
       "      <td>9037</td>\n",
       "      <td>0.22</td>\n",
       "      <td>4.17</td>\n",
       "      <td>35.21</td>\n",
       "      <td>59.47</td>\n",
       "      <td>0.93</td>\n",
       "    </tr>\n",
       "    <tr>\n",
       "      <th>65</th>\n",
       "      <td>69388</td>\n",
       "      <td>8e arrondissement de Lyon</td>\n",
       "      <td>21</td>\n",
       "      <td>331</td>\n",
       "      <td>2631</td>\n",
       "      <td>7080</td>\n",
       "      <td>195</td>\n",
       "      <td>10258</td>\n",
       "      <td>0.20</td>\n",
       "      <td>3.23</td>\n",
       "      <td>25.65</td>\n",
       "      <td>69.02</td>\n",
       "      <td>1.90</td>\n",
       "    </tr>\n",
       "    <tr>\n",
       "      <th>66</th>\n",
       "      <td>69389</td>\n",
       "      <td>9e arrondissement de Lyon</td>\n",
       "      <td>19</td>\n",
       "      <td>198</td>\n",
       "      <td>1796</td>\n",
       "      <td>4608</td>\n",
       "      <td>92</td>\n",
       "      <td>6713</td>\n",
       "      <td>0.28</td>\n",
       "      <td>2.95</td>\n",
       "      <td>26.75</td>\n",
       "      <td>68.64</td>\n",
       "      <td>1.37</td>\n",
       "    </tr>\n",
       "  </tbody>\n",
       "</table>\n",
       "</div>"
      ],
      "text/plain": [
       "   insee_residence                  residence  aucun  deux roues  \\\n",
       "62           69385  5e arrondissement de Lyon      7         190   \n",
       "63           69386  6e arrondissement de Lyon      9         278   \n",
       "64           69387  7e arrondissement de Lyon     20         377   \n",
       "65           69388  8e arrondissement de Lyon     21         331   \n",
       "66           69389  9e arrondissement de Lyon     19         198   \n",
       "\n",
       "    transports en commun  voiture, camion ou fourgonnette  à pied  ensemble  \\\n",
       "62                  1525                             4506     122      6350   \n",
       "63                  1461                             3355     415      5518   \n",
       "64                  3182                             5374      84      9037   \n",
       "65                  2631                             7080     195     10258   \n",
       "66                  1796                             4608      92      6713   \n",
       "\n",
       "    p_aucun  p_deux roues  p_transports en commun  \\\n",
       "62     0.11          2.99                   24.02   \n",
       "63     0.16          5.04                   26.48   \n",
       "64     0.22          4.17                   35.21   \n",
       "65     0.20          3.23                   25.65   \n",
       "66     0.28          2.95                   26.75   \n",
       "\n",
       "    p_voiture, camion ou fourgonnette  p_à pied  \n",
       "62                              70.96      1.92  \n",
       "63                              60.80      7.52  \n",
       "64                              59.47      0.93  \n",
       "65                              69.02      1.90  \n",
       "66                              68.64      1.37  "
      ]
     },
     "execution_count": 49,
     "metadata": {},
     "output_type": "execute_result"
    }
   ],
   "source": [
    "mopro_ml08=transport_annee(\"2008\",\"txt\",reno_col,[\"insee_residence\",\"insee_travail\"],ml_insee,[\"arrondissement\",\"insee_residence\",[\"ZZZZZ\"]],\"mode_transport\",corres_trans08,\"pindi\",{\"residence\":dic_ml})\n",
    "mopro_ml08.tail()"
   ]
  },
  {
   "cell_type": "markdown",
   "id": "7e2c73f9",
   "metadata": {},
   "source": [
    "Dès lors, **on peut très vite dégager des tendances à partir de ces DF**. Par exemple, le Top 5 des communes/arrondissements de Lyon dont les actifs se déplacent à vélo en 2008 :"
   ]
  },
  {
   "cell_type": "code",
   "execution_count": 50,
   "id": "b7557253",
   "metadata": {},
   "outputs": [
    {
     "data": {
      "text/html": [
       "<div>\n",
       "<style scoped>\n",
       "    .dataframe tbody tr th:only-of-type {\n",
       "        vertical-align: middle;\n",
       "    }\n",
       "\n",
       "    .dataframe tbody tr th {\n",
       "        vertical-align: top;\n",
       "    }\n",
       "\n",
       "    .dataframe thead th {\n",
       "        text-align: right;\n",
       "    }\n",
       "</style>\n",
       "<table border=\"1\" class=\"dataframe\">\n",
       "  <thead>\n",
       "    <tr style=\"text-align: right;\">\n",
       "      <th></th>\n",
       "      <th>insee_residence</th>\n",
       "      <th>residence</th>\n",
       "      <th>aucun</th>\n",
       "      <th>deux roues</th>\n",
       "      <th>transports en commun</th>\n",
       "      <th>voiture, camion ou fourgonnette</th>\n",
       "      <th>à pied</th>\n",
       "      <th>ensemble</th>\n",
       "      <th>p_aucun</th>\n",
       "      <th>p_deux roues</th>\n",
       "      <th>p_transports en commun</th>\n",
       "      <th>p_voiture, camion ou fourgonnette</th>\n",
       "      <th>p_à pied</th>\n",
       "    </tr>\n",
       "  </thead>\n",
       "  <tbody>\n",
       "    <tr>\n",
       "      <th>60</th>\n",
       "      <td>69383</td>\n",
       "      <td>3e arrondissement de Lyon</td>\n",
       "      <td>31</td>\n",
       "      <td>692</td>\n",
       "      <td>3338</td>\n",
       "      <td>7779</td>\n",
       "      <td>440</td>\n",
       "      <td>12280</td>\n",
       "      <td>0.25</td>\n",
       "      <td>5.64</td>\n",
       "      <td>27.18</td>\n",
       "      <td>63.35</td>\n",
       "      <td>3.58</td>\n",
       "    </tr>\n",
       "    <tr>\n",
       "      <th>0</th>\n",
       "      <td>69003</td>\n",
       "      <td>Albigny-sur-Saône</td>\n",
       "      <td>28</td>\n",
       "      <td>36</td>\n",
       "      <td>56</td>\n",
       "      <td>517</td>\n",
       "      <td>48</td>\n",
       "      <td>685</td>\n",
       "      <td>4.09</td>\n",
       "      <td>5.26</td>\n",
       "      <td>8.18</td>\n",
       "      <td>75.47</td>\n",
       "      <td>7.01</td>\n",
       "    </tr>\n",
       "    <tr>\n",
       "      <th>28</th>\n",
       "      <td>69163</td>\n",
       "      <td>Quincieux</td>\n",
       "      <td>60</td>\n",
       "      <td>36</td>\n",
       "      <td>24</td>\n",
       "      <td>544</td>\n",
       "      <td>36</td>\n",
       "      <td>700</td>\n",
       "      <td>8.57</td>\n",
       "      <td>5.14</td>\n",
       "      <td>3.43</td>\n",
       "      <td>77.71</td>\n",
       "      <td>5.14</td>\n",
       "    </tr>\n",
       "    <tr>\n",
       "      <th>63</th>\n",
       "      <td>69386</td>\n",
       "      <td>6e arrondissement de Lyon</td>\n",
       "      <td>9</td>\n",
       "      <td>278</td>\n",
       "      <td>1461</td>\n",
       "      <td>3355</td>\n",
       "      <td>415</td>\n",
       "      <td>5518</td>\n",
       "      <td>0.16</td>\n",
       "      <td>5.04</td>\n",
       "      <td>26.48</td>\n",
       "      <td>60.80</td>\n",
       "      <td>7.52</td>\n",
       "    </tr>\n",
       "    <tr>\n",
       "      <th>58</th>\n",
       "      <td>69381</td>\n",
       "      <td>1er arrondissement de Lyon</td>\n",
       "      <td>0</td>\n",
       "      <td>160</td>\n",
       "      <td>1662</td>\n",
       "      <td>1489</td>\n",
       "      <td>74</td>\n",
       "      <td>3385</td>\n",
       "      <td>0.00</td>\n",
       "      <td>4.73</td>\n",
       "      <td>49.10</td>\n",
       "      <td>43.99</td>\n",
       "      <td>2.19</td>\n",
       "    </tr>\n",
       "  </tbody>\n",
       "</table>\n",
       "</div>"
      ],
      "text/plain": [
       "   insee_residence                   residence  aucun  deux roues  \\\n",
       "60           69383   3e arrondissement de Lyon     31         692   \n",
       "0            69003           Albigny-sur-Saône     28          36   \n",
       "28           69163                   Quincieux     60          36   \n",
       "63           69386   6e arrondissement de Lyon      9         278   \n",
       "58           69381  1er arrondissement de Lyon      0         160   \n",
       "\n",
       "    transports en commun  voiture, camion ou fourgonnette  à pied  ensemble  \\\n",
       "60                  3338                             7779     440     12280   \n",
       "0                     56                              517      48       685   \n",
       "28                    24                              544      36       700   \n",
       "63                  1461                             3355     415      5518   \n",
       "58                  1662                             1489      74      3385   \n",
       "\n",
       "    p_aucun  p_deux roues  p_transports en commun  \\\n",
       "60     0.25          5.64                   27.18   \n",
       "0      4.09          5.26                    8.18   \n",
       "28     8.57          5.14                    3.43   \n",
       "63     0.16          5.04                   26.48   \n",
       "58     0.00          4.73                   49.10   \n",
       "\n",
       "    p_voiture, camion ou fourgonnette  p_à pied  \n",
       "60                              63.35      3.58  \n",
       "0                               75.47      7.01  \n",
       "28                              77.71      5.14  \n",
       "63                              60.80      7.52  \n",
       "58                              43.99      2.19  "
      ]
     },
     "execution_count": 50,
     "metadata": {},
     "output_type": "execute_result"
    }
   ],
   "source": [
    "mopro_ml08=mopro_ml08.sort_values(by=\"p_deux roues\",ascending=False)\n",
    "mopro_ml08.iloc[:5]"
   ]
  },
  {
   "cell_type": "markdown",
   "id": "7a2e56b7",
   "metadata": {},
   "source": [
    "Et regarder si des choses se recocupent avec 2018 :"
   ]
  },
  {
   "cell_type": "code",
   "execution_count": 51,
   "id": "549b6fff",
   "metadata": {},
   "outputs": [
    {
     "data": {
      "text/html": [
       "<div>\n",
       "<style scoped>\n",
       "    .dataframe tbody tr th:only-of-type {\n",
       "        vertical-align: middle;\n",
       "    }\n",
       "\n",
       "    .dataframe tbody tr th {\n",
       "        vertical-align: top;\n",
       "    }\n",
       "\n",
       "    .dataframe thead th {\n",
       "        text-align: right;\n",
       "    }\n",
       "</style>\n",
       "<table border=\"1\" class=\"dataframe\">\n",
       "  <thead>\n",
       "    <tr style=\"text-align: right;\">\n",
       "      <th></th>\n",
       "      <th>insee_residence</th>\n",
       "      <th>residence</th>\n",
       "      <th>aucun</th>\n",
       "      <th>transports en commun</th>\n",
       "      <th>voiture, camion ou fourgonnette</th>\n",
       "      <th>à pied</th>\n",
       "      <th>ensemble</th>\n",
       "      <th>p_aucun</th>\n",
       "      <th>p_transports en commun</th>\n",
       "      <th>p_voiture, camion ou fourgonnette</th>\n",
       "      <th>p_à pied</th>\n",
       "      <th>deux-roues</th>\n",
       "      <th>p_deux-roues</th>\n",
       "    </tr>\n",
       "  </thead>\n",
       "  <tbody>\n",
       "    <tr>\n",
       "      <th>58</th>\n",
       "      <td>69381</td>\n",
       "      <td>1er arrondissement de Lyon</td>\n",
       "      <td>0</td>\n",
       "      <td>1639</td>\n",
       "      <td>1082</td>\n",
       "      <td>31</td>\n",
       "      <td>3174</td>\n",
       "      <td>0.00</td>\n",
       "      <td>51.64</td>\n",
       "      <td>34.09</td>\n",
       "      <td>0.98</td>\n",
       "      <td>422</td>\n",
       "      <td>13.30</td>\n",
       "    </tr>\n",
       "    <tr>\n",
       "      <th>60</th>\n",
       "      <td>69383</td>\n",
       "      <td>3e arrondissement de Lyon</td>\n",
       "      <td>11</td>\n",
       "      <td>5245</td>\n",
       "      <td>6619</td>\n",
       "      <td>510</td>\n",
       "      <td>13790</td>\n",
       "      <td>0.08</td>\n",
       "      <td>38.03</td>\n",
       "      <td>48.00</td>\n",
       "      <td>3.70</td>\n",
       "      <td>1405</td>\n",
       "      <td>10.19</td>\n",
       "    </tr>\n",
       "    <tr>\n",
       "      <th>61</th>\n",
       "      <td>69384</td>\n",
       "      <td>4e arrondissement de Lyon</td>\n",
       "      <td>3</td>\n",
       "      <td>1276</td>\n",
       "      <td>2315</td>\n",
       "      <td>131</td>\n",
       "      <td>4137</td>\n",
       "      <td>0.07</td>\n",
       "      <td>30.84</td>\n",
       "      <td>55.96</td>\n",
       "      <td>3.17</td>\n",
       "      <td>412</td>\n",
       "      <td>9.96</td>\n",
       "    </tr>\n",
       "    <tr>\n",
       "      <th>64</th>\n",
       "      <td>69387</td>\n",
       "      <td>7e arrondissement de Lyon</td>\n",
       "      <td>9</td>\n",
       "      <td>4468</td>\n",
       "      <td>4988</td>\n",
       "      <td>51</td>\n",
       "      <td>10424</td>\n",
       "      <td>0.09</td>\n",
       "      <td>42.86</td>\n",
       "      <td>47.85</td>\n",
       "      <td>0.49</td>\n",
       "      <td>908</td>\n",
       "      <td>8.71</td>\n",
       "    </tr>\n",
       "    <tr>\n",
       "      <th>63</th>\n",
       "      <td>69386</td>\n",
       "      <td>6e arrondissement de Lyon</td>\n",
       "      <td>11</td>\n",
       "      <td>1954</td>\n",
       "      <td>2918</td>\n",
       "      <td>478</td>\n",
       "      <td>5833</td>\n",
       "      <td>0.19</td>\n",
       "      <td>33.50</td>\n",
       "      <td>50.03</td>\n",
       "      <td>8.19</td>\n",
       "      <td>472</td>\n",
       "      <td>8.09</td>\n",
       "    </tr>\n",
       "  </tbody>\n",
       "</table>\n",
       "</div>"
      ],
      "text/plain": [
       "   insee_residence                   residence  aucun  transports en commun  \\\n",
       "58           69381  1er arrondissement de Lyon      0                  1639   \n",
       "60           69383   3e arrondissement de Lyon     11                  5245   \n",
       "61           69384   4e arrondissement de Lyon      3                  1276   \n",
       "64           69387   7e arrondissement de Lyon      9                  4468   \n",
       "63           69386   6e arrondissement de Lyon     11                  1954   \n",
       "\n",
       "    voiture, camion ou fourgonnette  à pied  ensemble  p_aucun  \\\n",
       "58                             1082      31      3174     0.00   \n",
       "60                             6619     510     13790     0.08   \n",
       "61                             2315     131      4137     0.07   \n",
       "64                             4988      51     10424     0.09   \n",
       "63                             2918     478      5833     0.19   \n",
       "\n",
       "    p_transports en commun  p_voiture, camion ou fourgonnette  p_à pied  \\\n",
       "58                   51.64                              34.09      0.98   \n",
       "60                   38.03                              48.00      3.70   \n",
       "61                   30.84                              55.96      3.17   \n",
       "64                   42.86                              47.85      0.49   \n",
       "63                   33.50                              50.03      8.19   \n",
       "\n",
       "    deux-roues  p_deux-roues  \n",
       "58         422         13.30  \n",
       "60        1405         10.19  \n",
       "61         412          9.96  \n",
       "64         908          8.71  \n",
       "63         472          8.09  "
      ]
     },
     "execution_count": 51,
     "metadata": {},
     "output_type": "execute_result"
    }
   ],
   "source": [
    "mopro_mldef=mopro_mldef.sort_values(by=\"p_deux-roues\",ascending=False)\n",
    "mopro_mldef.iloc[:5]"
   ]
  },
  {
   "cell_type": "markdown",
   "id": "e01a92c0",
   "metadata": {},
   "source": [
    "On va préparer la fusion entre les deux bases à venir en harmonisant les colonnes et en vérifiant qu'on trouve bien les mêmes noms pour chaque DataFrame :"
   ]
  },
  {
   "cell_type": "code",
   "execution_count": 52,
   "id": "83c6a676",
   "metadata": {},
   "outputs": [
    {
     "data": {
      "text/plain": [
       "True"
      ]
     },
     "execution_count": 52,
     "metadata": {},
     "output_type": "execute_result"
    }
   ],
   "source": [
    "evol_mopro=mopro_mldef.copy()\n",
    "evol_mopro.rename(columns={\"deux-roues\":\"deux roues\",\"p_deux-roues\":\"p_deux roues\"}, inplace=True)\n",
    "set(list(evol_mopro.columns))==set(list(mopro_ml08.columns))"
   ]
  },
  {
   "cell_type": "markdown",
   "id": "b0c3d20d",
   "metadata": {},
   "source": [
    "On va tout de même être obligé de distinguer une des deux années afin d'être sûr de soustraire 2008 à 2018, et pas l'inverse. Cela va se passer avec un dictionnaire :"
   ]
  },
  {
   "cell_type": "code",
   "execution_count": 53,
   "id": "f1833537",
   "metadata": {},
   "outputs": [
    {
     "data": {
      "text/plain": [
       "{'p_aucun': 'p_aucun_018',\n",
       " 'p_transports en commun': 'p_transports en commun_018',\n",
       " 'p_voiture, camion ou fourgonnette': 'p_voiture, camion ou fourgonnette_018',\n",
       " 'p_à pied': 'p_à pied_018',\n",
       " 'p_deux roues': 'p_deux roues_018'}"
      ]
     },
     "execution_count": 53,
     "metadata": {},
     "output_type": "execute_result"
    }
   ],
   "source": [
    "dic_evol={\"p_\"+k:\"p_\"+k+\"_018\" for k in [\"aucun\",\"transports en commun\",\"voiture, camion ou fourgonnette\",\"à pied\",\"deux roues\"]}\n",
    "dic_evol"
   ]
  },
  {
   "cell_type": "markdown",
   "id": "e7eee1e9",
   "metadata": {},
   "source": [
    "Et ce dictionnaire va servir à renommer les colonnes, avant de fusionner evol_mopro à mopro_ml08 en visant \"insee_residence\" comme champ commun :"
   ]
  },
  {
   "cell_type": "code",
   "execution_count": 54,
   "id": "708610b5",
   "metadata": {},
   "outputs": [
    {
     "data": {
      "text/html": [
       "<div>\n",
       "<style scoped>\n",
       "    .dataframe tbody tr th:only-of-type {\n",
       "        vertical-align: middle;\n",
       "    }\n",
       "\n",
       "    .dataframe tbody tr th {\n",
       "        vertical-align: top;\n",
       "    }\n",
       "\n",
       "    .dataframe thead th {\n",
       "        text-align: right;\n",
       "    }\n",
       "</style>\n",
       "<table border=\"1\" class=\"dataframe\">\n",
       "  <thead>\n",
       "    <tr style=\"text-align: right;\">\n",
       "      <th></th>\n",
       "      <th>insee_residence</th>\n",
       "      <th>residence_x</th>\n",
       "      <th>aucun_x</th>\n",
       "      <th>transports en commun_x</th>\n",
       "      <th>voiture, camion ou fourgonnette_x</th>\n",
       "      <th>à pied_x</th>\n",
       "      <th>ensemble_x</th>\n",
       "      <th>p_aucun_018</th>\n",
       "      <th>p_transports en commun_018</th>\n",
       "      <th>p_voiture, camion ou fourgonnette_018</th>\n",
       "      <th>...</th>\n",
       "      <th>deux roues_y</th>\n",
       "      <th>transports en commun_y</th>\n",
       "      <th>voiture, camion ou fourgonnette_y</th>\n",
       "      <th>à pied_y</th>\n",
       "      <th>ensemble_y</th>\n",
       "      <th>p_aucun</th>\n",
       "      <th>p_deux roues</th>\n",
       "      <th>p_transports en commun</th>\n",
       "      <th>p_voiture, camion ou fourgonnette</th>\n",
       "      <th>p_à pied</th>\n",
       "    </tr>\n",
       "  </thead>\n",
       "  <tbody>\n",
       "    <tr>\n",
       "      <th>62</th>\n",
       "      <td>69153</td>\n",
       "      <td>Poleymieux-au-Mont-d'Or</td>\n",
       "      <td>67</td>\n",
       "      <td>48</td>\n",
       "      <td>285</td>\n",
       "      <td>79</td>\n",
       "      <td>483</td>\n",
       "      <td>13.87</td>\n",
       "      <td>9.94</td>\n",
       "      <td>59.01</td>\n",
       "      <td>...</td>\n",
       "      <td>4</td>\n",
       "      <td>52</td>\n",
       "      <td>260</td>\n",
       "      <td>93</td>\n",
       "      <td>443</td>\n",
       "      <td>7.67</td>\n",
       "      <td>0.90</td>\n",
       "      <td>11.74</td>\n",
       "      <td>58.69</td>\n",
       "      <td>20.99</td>\n",
       "    </tr>\n",
       "    <tr>\n",
       "      <th>63</th>\n",
       "      <td>69117</td>\n",
       "      <td>Lissieu</td>\n",
       "      <td>40</td>\n",
       "      <td>20</td>\n",
       "      <td>614</td>\n",
       "      <td>10</td>\n",
       "      <td>689</td>\n",
       "      <td>5.81</td>\n",
       "      <td>2.90</td>\n",
       "      <td>89.11</td>\n",
       "      <td>...</td>\n",
       "      <td>8</td>\n",
       "      <td>16</td>\n",
       "      <td>635</td>\n",
       "      <td>20</td>\n",
       "      <td>720</td>\n",
       "      <td>5.69</td>\n",
       "      <td>1.11</td>\n",
       "      <td>2.22</td>\n",
       "      <td>88.19</td>\n",
       "      <td>2.78</td>\n",
       "    </tr>\n",
       "    <tr>\n",
       "      <th>64</th>\n",
       "      <td>69260</td>\n",
       "      <td>Vernaison</td>\n",
       "      <td>50</td>\n",
       "      <td>55</td>\n",
       "      <td>936</td>\n",
       "      <td>56</td>\n",
       "      <td>1102</td>\n",
       "      <td>4.54</td>\n",
       "      <td>4.99</td>\n",
       "      <td>84.94</td>\n",
       "      <td>...</td>\n",
       "      <td>20</td>\n",
       "      <td>76</td>\n",
       "      <td>1065</td>\n",
       "      <td>76</td>\n",
       "      <td>1273</td>\n",
       "      <td>2.83</td>\n",
       "      <td>1.57</td>\n",
       "      <td>5.97</td>\n",
       "      <td>83.66</td>\n",
       "      <td>5.97</td>\n",
       "    </tr>\n",
       "    <tr>\n",
       "      <th>65</th>\n",
       "      <td>69071</td>\n",
       "      <td>Curis-au-Mont-d'Or</td>\n",
       "      <td>5</td>\n",
       "      <td>20</td>\n",
       "      <td>293</td>\n",
       "      <td>5</td>\n",
       "      <td>323</td>\n",
       "      <td>1.55</td>\n",
       "      <td>6.19</td>\n",
       "      <td>90.71</td>\n",
       "      <td>...</td>\n",
       "      <td>0</td>\n",
       "      <td>11</td>\n",
       "      <td>234</td>\n",
       "      <td>4</td>\n",
       "      <td>275</td>\n",
       "      <td>9.45</td>\n",
       "      <td>0.00</td>\n",
       "      <td>4.00</td>\n",
       "      <td>85.09</td>\n",
       "      <td>1.45</td>\n",
       "    </tr>\n",
       "    <tr>\n",
       "      <th>66</th>\n",
       "      <td>69033</td>\n",
       "      <td>Cailloux-sur-Fontaines</td>\n",
       "      <td>44</td>\n",
       "      <td>19</td>\n",
       "      <td>642</td>\n",
       "      <td>39</td>\n",
       "      <td>744</td>\n",
       "      <td>5.91</td>\n",
       "      <td>2.55</td>\n",
       "      <td>86.29</td>\n",
       "      <td>...</td>\n",
       "      <td>23</td>\n",
       "      <td>27</td>\n",
       "      <td>584</td>\n",
       "      <td>8</td>\n",
       "      <td>665</td>\n",
       "      <td>3.46</td>\n",
       "      <td>3.46</td>\n",
       "      <td>4.06</td>\n",
       "      <td>87.82</td>\n",
       "      <td>1.20</td>\n",
       "    </tr>\n",
       "  </tbody>\n",
       "</table>\n",
       "<p>5 rows × 25 columns</p>\n",
       "</div>"
      ],
      "text/plain": [
       "   insee_residence              residence_x  aucun_x  transports en commun_x  \\\n",
       "62           69153  Poleymieux-au-Mont-d'Or       67                      48   \n",
       "63           69117                  Lissieu       40                      20   \n",
       "64           69260                Vernaison       50                      55   \n",
       "65           69071       Curis-au-Mont-d'Or        5                      20   \n",
       "66           69033   Cailloux-sur-Fontaines       44                      19   \n",
       "\n",
       "    voiture, camion ou fourgonnette_x  à pied_x  ensemble_x  p_aucun_018  \\\n",
       "62                                285        79         483        13.87   \n",
       "63                                614        10         689         5.81   \n",
       "64                                936        56        1102         4.54   \n",
       "65                                293         5         323         1.55   \n",
       "66                                642        39         744         5.91   \n",
       "\n",
       "    p_transports en commun_018  p_voiture, camion ou fourgonnette_018  ...  \\\n",
       "62                        9.94                                  59.01  ...   \n",
       "63                        2.90                                  89.11  ...   \n",
       "64                        4.99                                  84.94  ...   \n",
       "65                        6.19                                  90.71  ...   \n",
       "66                        2.55                                  86.29  ...   \n",
       "\n",
       "    deux roues_y  transports en commun_y  voiture, camion ou fourgonnette_y  \\\n",
       "62             4                      52                                260   \n",
       "63             8                      16                                635   \n",
       "64            20                      76                               1065   \n",
       "65             0                      11                                234   \n",
       "66            23                      27                                584   \n",
       "\n",
       "   à pied_y  ensemble_y  p_aucun  p_deux roues  p_transports en commun  \\\n",
       "62       93         443     7.67          0.90                   11.74   \n",
       "63       20         720     5.69          1.11                    2.22   \n",
       "64       76        1273     2.83          1.57                    5.97   \n",
       "65        4         275     9.45          0.00                    4.00   \n",
       "66        8         665     3.46          3.46                    4.06   \n",
       "\n",
       "    p_voiture, camion ou fourgonnette  p_à pied  \n",
       "62                              58.69     20.99  \n",
       "63                              88.19      2.78  \n",
       "64                              83.66      5.97  \n",
       "65                              85.09      1.45  \n",
       "66                              87.82      1.20  \n",
       "\n",
       "[5 rows x 25 columns]"
      ]
     },
     "execution_count": 54,
     "metadata": {},
     "output_type": "execute_result"
    }
   ],
   "source": [
    "evol_mopro.rename(columns=dic_evol, inplace=True)\n",
    "evol_mopro=evol_mopro.merge(mopro_ml08, on=\"insee_residence\")\n",
    "evol_mopro.tail()"
   ]
  },
  {
   "cell_type": "markdown",
   "id": "feefd6f4",
   "metadata": {},
   "source": [
    "Et maintenant on va créer à la volée de nouvelles colonnes en soustrayant à chaque fois, pour un même type de transport, les pourcentages de 2008 à ceux de 2018. **Le résultat sera donc l'évolution en points de pourcentage de chaque transport** :"
   ]
  },
  {
   "cell_type": "code",
   "execution_count": 55,
   "id": "08b06dcb",
   "metadata": {},
   "outputs": [
    {
     "data": {
      "text/html": [
       "<div>\n",
       "<style scoped>\n",
       "    .dataframe tbody tr th:only-of-type {\n",
       "        vertical-align: middle;\n",
       "    }\n",
       "\n",
       "    .dataframe tbody tr th {\n",
       "        vertical-align: top;\n",
       "    }\n",
       "\n",
       "    .dataframe thead th {\n",
       "        text-align: right;\n",
       "    }\n",
       "</style>\n",
       "<table border=\"1\" class=\"dataframe\">\n",
       "  <thead>\n",
       "    <tr style=\"text-align: right;\">\n",
       "      <th></th>\n",
       "      <th>residence</th>\n",
       "      <th>insee_residence</th>\n",
       "      <th>evol_aucun</th>\n",
       "      <th>evol_transports en commun</th>\n",
       "      <th>evol_deux roues</th>\n",
       "      <th>evol_voiture, camion ou fourgonnette</th>\n",
       "      <th>evol_à pied</th>\n",
       "    </tr>\n",
       "  </thead>\n",
       "  <tbody>\n",
       "    <tr>\n",
       "      <th>62</th>\n",
       "      <td>Poleymieux-au-Mont-d'Or</td>\n",
       "      <td>69153</td>\n",
       "      <td>6.20</td>\n",
       "      <td>-1.80</td>\n",
       "      <td>-0.07</td>\n",
       "      <td>0.32</td>\n",
       "      <td>-4.63</td>\n",
       "    </tr>\n",
       "    <tr>\n",
       "      <th>63</th>\n",
       "      <td>Lissieu</td>\n",
       "      <td>69117</td>\n",
       "      <td>0.12</td>\n",
       "      <td>0.68</td>\n",
       "      <td>-0.38</td>\n",
       "      <td>0.92</td>\n",
       "      <td>-1.33</td>\n",
       "    </tr>\n",
       "    <tr>\n",
       "      <th>64</th>\n",
       "      <td>Vernaison</td>\n",
       "      <td>69260</td>\n",
       "      <td>1.71</td>\n",
       "      <td>-0.98</td>\n",
       "      <td>-1.12</td>\n",
       "      <td>1.28</td>\n",
       "      <td>-0.89</td>\n",
       "    </tr>\n",
       "    <tr>\n",
       "      <th>65</th>\n",
       "      <td>Curis-au-Mont-d'Or</td>\n",
       "      <td>69071</td>\n",
       "      <td>-7.90</td>\n",
       "      <td>2.19</td>\n",
       "      <td>0.00</td>\n",
       "      <td>5.62</td>\n",
       "      <td>0.10</td>\n",
       "    </tr>\n",
       "    <tr>\n",
       "      <th>66</th>\n",
       "      <td>Cailloux-sur-Fontaines</td>\n",
       "      <td>69033</td>\n",
       "      <td>2.45</td>\n",
       "      <td>-1.51</td>\n",
       "      <td>-3.46</td>\n",
       "      <td>-1.53</td>\n",
       "      <td>4.04</td>\n",
       "    </tr>\n",
       "  </tbody>\n",
       "</table>\n",
       "</div>"
      ],
      "text/plain": [
       "                  residence insee_residence  evol_aucun  \\\n",
       "62  Poleymieux-au-Mont-d'Or           69153        6.20   \n",
       "63                  Lissieu           69117        0.12   \n",
       "64                Vernaison           69260        1.71   \n",
       "65       Curis-au-Mont-d'Or           69071       -7.90   \n",
       "66   Cailloux-sur-Fontaines           69033        2.45   \n",
       "\n",
       "    evol_transports en commun  evol_deux roues  \\\n",
       "62                      -1.80            -0.07   \n",
       "63                       0.68            -0.38   \n",
       "64                      -0.98            -1.12   \n",
       "65                       2.19             0.00   \n",
       "66                      -1.51            -3.46   \n",
       "\n",
       "    evol_voiture, camion ou fourgonnette  evol_à pied  \n",
       "62                                  0.32        -4.63  \n",
       "63                                  0.92        -1.33  \n",
       "64                                  1.28        -0.89  \n",
       "65                                  5.62         0.10  \n",
       "66                                 -1.53         4.04  "
      ]
     },
     "execution_count": 55,
     "metadata": {},
     "output_type": "execute_result"
    }
   ],
   "source": [
    "for mt in [\"aucun\",\"transports en commun\",\"voiture, camion ou fourgonnette\",\"à pied\",\"deux roues\"]:\n",
    "    evol_mopro[\"evol_\"+mt]=evol_mopro[\"p_\"+mt+\"_018\"]-evol_mopro[\"p_\"+mt]\n",
    "evol_mopro=evol_mopro[[\"residence_x\",\"insee_residence\",\"evol_aucun\",\"evol_transports en commun\",\"evol_deux roues\",\"evol_voiture, camion ou fourgonnette\",\"evol_à pied\"]]\n",
    "evol_mopro.rename(columns={\"residence_x\":\"residence\"},inplace=True)\n",
    "evol_mopro.tail()"
   ]
  },
  {
   "cell_type": "markdown",
   "id": "55e5e58f",
   "metadata": {},
   "source": [
    "On peut vérifier les plus fortes progressions pour les deux-roues comme ceci :"
   ]
  },
  {
   "cell_type": "code",
   "execution_count": 56,
   "id": "f57ef042",
   "metadata": {},
   "outputs": [
    {
     "data": {
      "text/html": [
       "<div>\n",
       "<style scoped>\n",
       "    .dataframe tbody tr th:only-of-type {\n",
       "        vertical-align: middle;\n",
       "    }\n",
       "\n",
       "    .dataframe tbody tr th {\n",
       "        vertical-align: top;\n",
       "    }\n",
       "\n",
       "    .dataframe thead th {\n",
       "        text-align: right;\n",
       "    }\n",
       "</style>\n",
       "<table border=\"1\" class=\"dataframe\">\n",
       "  <thead>\n",
       "    <tr style=\"text-align: right;\">\n",
       "      <th></th>\n",
       "      <th>residence</th>\n",
       "      <th>insee_residence</th>\n",
       "      <th>evol_aucun</th>\n",
       "      <th>evol_transports en commun</th>\n",
       "      <th>evol_deux roues</th>\n",
       "      <th>evol_voiture, camion ou fourgonnette</th>\n",
       "      <th>evol_à pied</th>\n",
       "    </tr>\n",
       "  </thead>\n",
       "  <tbody>\n",
       "    <tr>\n",
       "      <th>0</th>\n",
       "      <td>1er arrondissement de Lyon</td>\n",
       "      <td>69381</td>\n",
       "      <td>0.00</td>\n",
       "      <td>2.54</td>\n",
       "      <td>8.57</td>\n",
       "      <td>-9.90</td>\n",
       "      <td>-1.21</td>\n",
       "    </tr>\n",
       "    <tr>\n",
       "      <th>2</th>\n",
       "      <td>4e arrondissement de Lyon</td>\n",
       "      <td>69384</td>\n",
       "      <td>0.00</td>\n",
       "      <td>4.16</td>\n",
       "      <td>5.27</td>\n",
       "      <td>-9.67</td>\n",
       "      <td>0.24</td>\n",
       "    </tr>\n",
       "    <tr>\n",
       "      <th>8</th>\n",
       "      <td>La Mulatière</td>\n",
       "      <td>69142</td>\n",
       "      <td>-1.34</td>\n",
       "      <td>3.53</td>\n",
       "      <td>5.08</td>\n",
       "      <td>-5.55</td>\n",
       "      <td>-1.71</td>\n",
       "    </tr>\n",
       "    <tr>\n",
       "      <th>1</th>\n",
       "      <td>3e arrondissement de Lyon</td>\n",
       "      <td>69383</td>\n",
       "      <td>-0.17</td>\n",
       "      <td>10.85</td>\n",
       "      <td>4.55</td>\n",
       "      <td>-15.35</td>\n",
       "      <td>0.12</td>\n",
       "    </tr>\n",
       "    <tr>\n",
       "      <th>3</th>\n",
       "      <td>7e arrondissement de Lyon</td>\n",
       "      <td>69387</td>\n",
       "      <td>-0.13</td>\n",
       "      <td>7.65</td>\n",
       "      <td>4.54</td>\n",
       "      <td>-11.62</td>\n",
       "      <td>-0.44</td>\n",
       "    </tr>\n",
       "  </tbody>\n",
       "</table>\n",
       "</div>"
      ],
      "text/plain": [
       "                    residence insee_residence  evol_aucun  \\\n",
       "0  1er arrondissement de Lyon           69381        0.00   \n",
       "2   4e arrondissement de Lyon           69384        0.00   \n",
       "8                La Mulatière           69142       -1.34   \n",
       "1   3e arrondissement de Lyon           69383       -0.17   \n",
       "3   7e arrondissement de Lyon           69387       -0.13   \n",
       "\n",
       "   evol_transports en commun  evol_deux roues  \\\n",
       "0                       2.54             8.57   \n",
       "2                       4.16             5.27   \n",
       "8                       3.53             5.08   \n",
       "1                      10.85             4.55   \n",
       "3                       7.65             4.54   \n",
       "\n",
       "   evol_voiture, camion ou fourgonnette  evol_à pied  \n",
       "0                                 -9.90        -1.21  \n",
       "2                                 -9.67         0.24  \n",
       "8                                 -5.55        -1.71  \n",
       "1                                -15.35         0.12  \n",
       "3                                -11.62        -0.44  "
      ]
     },
     "execution_count": 56,
     "metadata": {},
     "output_type": "execute_result"
    }
   ],
   "source": [
    "evol_mopro=evol_mopro.sort_values(by=\"evol_deux roues\",ascending=False)\n",
    "evol_mopro.iloc[:5]"
   ]
  },
  {
   "cell_type": "markdown",
   "id": "1e91e478",
   "metadata": {},
   "source": [
    "La suite est attendue : on fait une fusion avec le fichier géographique déjà utilisé précédemment, et on le retransforme en GeoDataFrame :"
   ]
  },
  {
   "cell_type": "code",
   "execution_count": 57,
   "id": "362c27ae",
   "metadata": {},
   "outputs": [
    {
     "data": {
      "text/html": [
       "<div>\n",
       "<style scoped>\n",
       "    .dataframe tbody tr th:only-of-type {\n",
       "        vertical-align: middle;\n",
       "    }\n",
       "\n",
       "    .dataframe tbody tr th {\n",
       "        vertical-align: top;\n",
       "    }\n",
       "\n",
       "    .dataframe thead th {\n",
       "        text-align: right;\n",
       "    }\n",
       "</style>\n",
       "<table border=\"1\" class=\"dataframe\">\n",
       "  <thead>\n",
       "    <tr style=\"text-align: right;\">\n",
       "      <th></th>\n",
       "      <th>residence</th>\n",
       "      <th>insee_residence</th>\n",
       "      <th>evol_aucun</th>\n",
       "      <th>evol_transports en commun</th>\n",
       "      <th>evol_deux roues</th>\n",
       "      <th>evol_voiture, camion ou fourgonnette</th>\n",
       "      <th>evol_à pied</th>\n",
       "      <th>insee</th>\n",
       "      <th>geometry</th>\n",
       "    </tr>\n",
       "  </thead>\n",
       "  <tbody>\n",
       "    <tr>\n",
       "      <th>62</th>\n",
       "      <td>Quincieux</td>\n",
       "      <td>69163</td>\n",
       "      <td>0.03</td>\n",
       "      <td>-0.20</td>\n",
       "      <td>-1.91</td>\n",
       "      <td>4.01</td>\n",
       "      <td>-1.91</td>\n",
       "      <td>69163</td>\n",
       "      <td>MULTIPOLYGON (((4.73386 45.91124, 4.73770 45.9...</td>\n",
       "    </tr>\n",
       "    <tr>\n",
       "      <th>63</th>\n",
       "      <td>Marcy-l'Étoile</td>\n",
       "      <td>69127</td>\n",
       "      <td>3.82</td>\n",
       "      <td>2.59</td>\n",
       "      <td>-1.96</td>\n",
       "      <td>-1.55</td>\n",
       "      <td>-2.90</td>\n",
       "      <td>69127</td>\n",
       "      <td>MULTIPOLYGON (((4.69174 45.78845, 4.69213 45.7...</td>\n",
       "    </tr>\n",
       "    <tr>\n",
       "      <th>64</th>\n",
       "      <td>Saint-Germain-au-Mont-d'Or</td>\n",
       "      <td>69207</td>\n",
       "      <td>0.67</td>\n",
       "      <td>3.69</td>\n",
       "      <td>-2.16</td>\n",
       "      <td>-0.98</td>\n",
       "      <td>-1.23</td>\n",
       "      <td>69207</td>\n",
       "      <td>MULTIPOLYGON (((4.78729 45.89299, 4.78867 45.8...</td>\n",
       "    </tr>\n",
       "    <tr>\n",
       "      <th>65</th>\n",
       "      <td>Feyzin</td>\n",
       "      <td>69276</td>\n",
       "      <td>-0.33</td>\n",
       "      <td>3.67</td>\n",
       "      <td>-2.38</td>\n",
       "      <td>1.40</td>\n",
       "      <td>-2.35</td>\n",
       "      <td>69276</td>\n",
       "      <td>MULTIPOLYGON (((4.82932 45.66034, 4.83126 45.6...</td>\n",
       "    </tr>\n",
       "    <tr>\n",
       "      <th>66</th>\n",
       "      <td>Cailloux-sur-Fontaines</td>\n",
       "      <td>69033</td>\n",
       "      <td>2.45</td>\n",
       "      <td>-1.51</td>\n",
       "      <td>-3.46</td>\n",
       "      <td>-1.53</td>\n",
       "      <td>4.04</td>\n",
       "      <td>69033</td>\n",
       "      <td>MULTIPOLYGON (((4.85449 45.85609, 4.85624 45.8...</td>\n",
       "    </tr>\n",
       "  </tbody>\n",
       "</table>\n",
       "</div>"
      ],
      "text/plain": [
       "                     residence insee_residence  evol_aucun  \\\n",
       "62                   Quincieux           69163        0.03   \n",
       "63              Marcy-l'Étoile           69127        3.82   \n",
       "64  Saint-Germain-au-Mont-d'Or           69207        0.67   \n",
       "65                      Feyzin           69276       -0.33   \n",
       "66      Cailloux-sur-Fontaines           69033        2.45   \n",
       "\n",
       "    evol_transports en commun  evol_deux roues  \\\n",
       "62                      -0.20            -1.91   \n",
       "63                       2.59            -1.96   \n",
       "64                       3.69            -2.16   \n",
       "65                       3.67            -2.38   \n",
       "66                      -1.51            -3.46   \n",
       "\n",
       "    evol_voiture, camion ou fourgonnette  evol_à pied  insee  \\\n",
       "62                                  4.01        -1.91  69163   \n",
       "63                                 -1.55        -2.90  69127   \n",
       "64                                 -0.98        -1.23  69207   \n",
       "65                                  1.40        -2.35  69276   \n",
       "66                                 -1.53         4.04  69033   \n",
       "\n",
       "                                             geometry  \n",
       "62  MULTIPOLYGON (((4.73386 45.91124, 4.73770 45.9...  \n",
       "63  MULTIPOLYGON (((4.69174 45.78845, 4.69213 45.7...  \n",
       "64  MULTIPOLYGON (((4.78729 45.89299, 4.78867 45.8...  \n",
       "65  MULTIPOLYGON (((4.82932 45.66034, 4.83126 45.6...  \n",
       "66  MULTIPOLYGON (((4.85449 45.85609, 4.85624 45.8...  "
      ]
     },
     "execution_count": 57,
     "metadata": {},
     "output_type": "execute_result"
    }
   ],
   "source": [
    "geo_evmopro=evol_mopro.merge(communes_mlyon, left_on=\"insee_residence\", right_on=\"insee\")\n",
    "geo_evmopro=gpd.GeoDataFrame(geo_evmopro, geometry=geo_evmopro[\"geometry\"])\n",
    "geo_evmopro.tail()"
   ]
  },
  {
   "cell_type": "markdown",
   "id": "63883cdc",
   "metadata": {},
   "source": [
    "Des visualisations centrées sur différents types de transports sont facilement réalisable grâce à matplotlib. Par exemple sur l'évolution de l'usage des deux-roues..."
   ]
  },
  {
   "cell_type": "code",
   "execution_count": 58,
   "id": "6bb08575",
   "metadata": {},
   "outputs": [
    {
     "data": {
      "image/png": "[encoded data removed]",
      "text/plain": [
       "<Figure size 1440x720 with 1 Axes>"
      ]
     },
     "metadata": {
      "needs_background": "light"
     },
     "output_type": "display_data"
    }
   ],
   "source": [
    "fig, ax = plt.subplots(figsize=(20,10))\n",
    "geo_evmopro.plot(ax=ax,column='evol_deux roues',scheme='Quantiles',k=5,cmap=\"RdYlGn\",edgecolor=\"#000\",linewidth=.55,legend=True)\n",
    "ax.set_title(\"Evolution en points de pourcentage d'actifs allant en deux roues à leur travail entre 2008 et 2018 (INSEE)\")\n",
    "ax.set_axis_off()\n",
    "plt.savefig(r\"images\\\\evol_ml_deur.jpg\", dpi=300, bbox_inches = \"tight\")\n",
    "plt.show();"
   ]
  },
  {
   "cell_type": "markdown",
   "id": "7dcf97e8",
   "metadata": {},
   "source": [
    "...comme sur celui de la voiture :"
   ]
  },
  {
   "cell_type": "code",
   "execution_count": 59,
   "id": "4a225a29",
   "metadata": {},
   "outputs": [
    {
     "data": {
      "image/png": "[encoded data removed]",
      "text/plain": [
       "<Figure size 1440x720 with 1 Axes>"
      ]
     },
     "metadata": {
      "needs_background": "light"
     },
     "output_type": "display_data"
    }
   ],
   "source": [
    "fig, ax = plt.subplots(figsize=(20,10))\n",
    "geo_evmopro.plot(ax=ax,column='evol_voiture, camion ou fourgonnette',scheme='Quantiles',k=5,cmap=\"RdYlGn\",edgecolor=\"#000\",linewidth=.55,legend=True)\n",
    "ax.set_title(\"Evolution en points de pourcentage d'actifs allant en voiture, camion ou forgonnette à leur travail entre 2008 et 2018 (INSEE)\")\n",
    "ax.set_axis_off()\n",
    "plt.savefig(r\"images\\\\evol_ml_voiture.jpg\", dpi=300, bbox_inches = \"tight\")\n",
    "plt.show();"
   ]
  },
  {
   "cell_type": "markdown",
   "id": "ed5038d4",
   "metadata": {},
   "source": [
    "Et on peut réserver le résultat dans un GeoJSON digérable par D3js :"
   ]
  },
  {
   "cell_type": "code",
   "execution_count": 60,
   "id": "1637b7b3",
   "metadata": {},
   "outputs": [
    {
     "name": "stderr",
     "output_type": "stream",
     "text": [
      "C:\\Users\\Rapha\\AppData\\Local\\Programs\\Python\\Python310\\lib\\site-packages\\geopandas\\io\\file.py:362: FutureWarning: pandas.Int64Index is deprecated and will be removed from pandas in a future version. Use pandas.Index with the appropriate dtype instead.\n",
      "  pd.Int64Index,\n"
     ]
    }
   ],
   "source": [
    "geo_evmopro.to_file(r\"data\\\\evol_mopro_ml.json\", driver=\"GeoJSON\")"
   ]
  },
  {
   "cell_type": "markdown",
   "id": "c9775cba",
   "metadata": {},
   "source": [
    "# CSP par mode de transport"
   ]
  },
  {
   "cell_type": "markdown",
   "id": "1bd23129",
   "metadata": {},
   "source": [
    "Dernier fichier à préparer : les modes de transports selon les Catégories Socio-Professionnelles (CSP). Le principe est grosso modo le même que précédemment, et on va tout de suite factoriser les opérations utiles :"
   ]
  },
  {
   "cell_type": "code",
   "execution_count": 61,
   "id": "18466d7e",
   "metadata": {},
   "outputs": [],
   "source": [
    "def col_tranches(n_df:str,l_renommage:dict, col_filtre:list, l_filtre:list, col_cible:str, corres_col:dict,tranches:str,corres_tranche:dict,col_chiffre:str,n_fichier:str):\n",
    "    \"\"\"\n",
    "        Cette fonction va cibler une colonne et éclater une colonne enfant en autant de colonnes. L'ensemble est réparti entre effectifs brut et pourcentage, puis enregistré en json.\n",
    "        Exemple : connaître le découpage par CSP de chaque mode de transport.\n",
    "    \"\"\"\n",
    "    dict_final={}\n",
    "    DF_brute=pd.read_csv(n_df,sep=\";\",low_memory=False)\n",
    "    DF_brute.rename(columns=l_renommage,inplace=True)\n",
    "    DF_brute=DF_brute[list(l_renommage.values())]\n",
    "    for c in col_filtre:\n",
    "        DF_brute=DF_brute[DF_brute[c].isin(l_filtre)].reset_index(drop=True)\n",
    "    for col, cor in zip([col_cible, tranches],[corres_col,corres_tranche]):\n",
    "        DF_brute[col]=DF_brute[col].astype(str)\n",
    "        DF_brute[col]=DF_brute[col].map(cor)\n",
    "    DF_brute=DF_brute[[col_cible, tranches,col_chiffre]]\n",
    "    DF_trans=DF_brute.groupby(by=[col_cible, tranches]).sum().reset_index()\n",
    "    DF_trans[col_chiffre]=round(DF_trans[col_chiffre])\n",
    "    DF_trans[col_chiffre]=DF_trans[col_chiffre].astype(int)\n",
    "    for m_t in list(DF_trans[col_cible].unique()):\n",
    "        dict_local={}\n",
    "        DF_tampon=DF_trans.copy()\n",
    "        DF_tampon=DF_tampon[DF_tampon[col_cible]==m_t]\n",
    "        DF_tampon.rename(columns={col_chiffre:\"v\"}, inplace=True)\n",
    "        DF_tampon[\"p\"]=round((DF_tampon[\"v\"]/DF_tampon[\"v\"].sum())*100,2)\n",
    "        for i,l in DF_tampon.iterrows():\n",
    "            dict_local[l[tranches]]={\"v\":l[\"v\"],\"p\":l[\"p\"]}\n",
    "        dict_final[m_t]=dict_local\n",
    "    DF_finale=pd.DataFrame.from_dict(dict_final)\n",
    "    for c in DF_finale.columns:\n",
    "        DF_finale[c]=DF_finale[c].apply(lambda x: x if x == x else {\"v\":0,\"p\":0.0})\n",
    "    DF_finale.to_json(n_fichier)\n",
    "    print(\"Fichier prêt\")"
   ]
  },
  {
   "cell_type": "markdown",
   "id": "0c5687b1",
   "metadata": {},
   "source": [
    "Plus qu'à créer un dictionnaire de correspondance centré sur les CSP :"
   ]
  },
  {
   "cell_type": "code",
   "execution_count": 62,
   "id": "abf2c363",
   "metadata": {},
   "outputs": [],
   "source": [
    "corres_csp={\"1\":\"agriculteur\",\"2\":\"artisan, commerçant ou chef d'entreprise\",\"3\":\"cadre ou profession intellectuelle supérieure\",\"4\":\"profession intermédiaire\",\"5\":\"employé\",\"6\":\"ouvrier\",\"7\":\"retraité\",\"8\":\"sans activité professionnelle\"}"
   ]
  },
  {
   "cell_type": "markdown",
   "id": "a11d2690",
   "metadata": {},
   "source": [
    "Et à dérouler la fonction pour ensuite enregistrer le fichier :"
   ]
  },
  {
   "cell_type": "code",
   "execution_count": 63,
   "id": "ba04eda2",
   "metadata": {},
   "outputs": [
    {
     "name": "stdout",
     "output_type": "stream",
     "text": [
      "Fichier prêt\n"
     ]
    }
   ],
   "source": [
    "col_tranches(r\"mopro\\\\FD_MOBPRO_2018.csv\",reno_col,[\"insee_residence\",\"insee_travail\"],ml_insee,\"csp\",corres_csp,\"mode_transport\",corres_transport,\"pindi\",\"data\\\\trans_csp.json\")"
   ]
  }
 ],
 "metadata": {
  "kernelspec": {
   "display_name": "Python 3 (ipykernel)",
   "language": "python",
   "name": "python3"
  },
  "language_info": {
   "codemirror_mode": {
    "name": "ipython",
    "version": 3
   },
   "file_extension": ".py",
   "mimetype": "text/x-python",
   "name": "python",
   "nbconvert_exporter": "python",
   "pygments_lexer": "ipython3",
   "version": "3.10.2"
  },
  "varInspector": {
   "cols": {
    "lenName": 16,
    "lenType": 16,
    "lenVar": 40
   },
   "kernels_config": {
    "python": {
     "delete_cmd_postfix": "",
     "delete_cmd_prefix": "del ",
     "library": "var_list.py",
     "varRefreshCmd": "print(var_dic_list())"
    },
    "r": {
     "delete_cmd_postfix": ") ",
     "delete_cmd_prefix": "rm(",
     "library": "var_list.r",
     "varRefreshCmd": "cat(var_dic_list()) "
    }
   },
   "types_to_exclude": [
    "module",
    "function",
    "builtin_function_or_method",
    "instance",
    "_Feature"
   ],
   "window_display": false
  }
 },
 "nbformat": 4,
 "nbformat_minor": 5
}
